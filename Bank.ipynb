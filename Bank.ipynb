{
 "cells": [
  {
   "cell_type": "markdown",
   "metadata": {
    "toc": true
   },
   "source": [
    "<h1>Содержание<span class=\"tocSkip\"></span></h1>\n",
    "<div class=\"toc\"><ul class=\"toc-item\"><li><span><a href=\"#Подготовка-данных\" data-toc-modified-id=\"Подготовка-данных-1\"><span class=\"toc-item-num\">1&nbsp;&nbsp;</span>Подготовка данных</a></span></li><li><span><a href=\"#Исследование-задачи\" data-toc-modified-id=\"Исследование-задачи-2\"><span class=\"toc-item-num\">2&nbsp;&nbsp;</span>Исследование задачи</a></span><ul class=\"toc-item\"><li><span><a href=\"#Разобьем-данные-на-выборки\" data-toc-modified-id=\"Разобьем-данные-на-выборки-2.1\"><span class=\"toc-item-num\">2.1&nbsp;&nbsp;</span>Разобьем данные на выборки</a></span></li></ul></li><li><span><a href=\"#Изучим-модели-без-учета-дисбаланса\" data-toc-modified-id=\"Изучим-модели-без-учета-дисбаланса-3\"><span class=\"toc-item-num\">3&nbsp;&nbsp;</span>Изучим модели без учета дисбаланса</a></span></li><li><span><a href=\"#Борьба-с-дисбалансом\" data-toc-modified-id=\"Борьба-с-дисбалансом-4\"><span class=\"toc-item-num\">4&nbsp;&nbsp;</span>Борьба с дисбалансом</a></span><ul class=\"toc-item\"><li><span><a href=\"#Обучение-моделей-на-сбалансированных-данных\" data-toc-modified-id=\"Обучение-моделей-на-сбалансированных-данных-4.1\"><span class=\"toc-item-num\">4.1&nbsp;&nbsp;</span>Обучение моделей на сбалансированных данных</a></span></li></ul></li></ul></div>"
   ]
  },
  {
   "cell_type": "markdown",
   "metadata": {},
   "source": [
    "# Отток клиентов"
   ]
  },
  {
   "cell_type": "markdown",
   "metadata": {},
   "source": [
    "Из «Бета-Банка» стали уходить клиенты. Каждый месяц. Немного, но заметно. Банковские маркетологи посчитали: сохранять текущих клиентов дешевле, чем привлекать новых.\n",
    "\n",
    "Нужно спрогнозировать, уйдёт клиент из банка в ближайшее время или нет. Вам предоставлены исторические данные о поведении клиентов и расторжении договоров с банком. \n",
    "\n",
    "Постройте модель с предельно большим значением *F1*-меры. Чтобы сдать проект успешно, нужно довести метрику до 0.59. Проверьте *F1*-меру на тестовой выборке самостоятельно.\n"
   ]
  },
  {
   "cell_type": "markdown",
   "metadata": {},
   "source": [
    "## Подготовка данных"
   ]
  },
  {
   "cell_type": "code",
   "execution_count": 115,
   "metadata": {},
   "outputs": [],
   "source": [
    "import pandas as pd\n",
    "import matplotlib.pyplot as plt\n",
    "import numpy as np\n",
    "from sklearn.tree import DecisionTreeClassifier\n",
    "from sklearn.ensemble import RandomForestClassifier\n",
    "from sklearn.linear_model import LogisticRegression\n",
    "from sklearn.model_selection import train_test_split\n",
    "from sklearn.preprocessing import OrdinalEncoder\n",
    "from sklearn.preprocessing import StandardScaler\n",
    "from sklearn.preprocessing import OneHotEncoder\n",
    "from sklearn.utils import shuffle\n",
    "from sklearn.metrics import accuracy_score, f1_score, recall_score, precision_score, roc_auc_score, roc_curve"
   ]
  },
  {
   "cell_type": "code",
   "execution_count": 116,
   "metadata": {},
   "outputs": [],
   "source": [
    "#Загружаем данные\n",
    "\n",
    "data = pd.read_csv('/datasets/Churn.csv')"
   ]
  },
  {
   "cell_type": "code",
   "execution_count": 117,
   "metadata": {},
   "outputs": [],
   "source": [
    "#Напишем функцию, которая предоставит нам полную информацию о данных\n",
    "\n",
    "def study(data): \n",
    "    info = display(data.head(10)), data.info(), display(data.describe())"
   ]
  },
  {
   "cell_type": "code",
   "execution_count": 118,
   "metadata": {},
   "outputs": [
    {
     "data": {
      "text/html": [
       "<div>\n",
       "<style scoped>\n",
       "    .dataframe tbody tr th:only-of-type {\n",
       "        vertical-align: middle;\n",
       "    }\n",
       "\n",
       "    .dataframe tbody tr th {\n",
       "        vertical-align: top;\n",
       "    }\n",
       "\n",
       "    .dataframe thead th {\n",
       "        text-align: right;\n",
       "    }\n",
       "</style>\n",
       "<table border=\"1\" class=\"dataframe\">\n",
       "  <thead>\n",
       "    <tr style=\"text-align: right;\">\n",
       "      <th></th>\n",
       "      <th>RowNumber</th>\n",
       "      <th>CustomerId</th>\n",
       "      <th>Surname</th>\n",
       "      <th>CreditScore</th>\n",
       "      <th>Geography</th>\n",
       "      <th>Gender</th>\n",
       "      <th>Age</th>\n",
       "      <th>Tenure</th>\n",
       "      <th>Balance</th>\n",
       "      <th>NumOfProducts</th>\n",
       "      <th>HasCrCard</th>\n",
       "      <th>IsActiveMember</th>\n",
       "      <th>EstimatedSalary</th>\n",
       "      <th>Exited</th>\n",
       "    </tr>\n",
       "  </thead>\n",
       "  <tbody>\n",
       "    <tr>\n",
       "      <th>0</th>\n",
       "      <td>1</td>\n",
       "      <td>15634602</td>\n",
       "      <td>Hargrave</td>\n",
       "      <td>619</td>\n",
       "      <td>France</td>\n",
       "      <td>Female</td>\n",
       "      <td>42</td>\n",
       "      <td>2.0</td>\n",
       "      <td>0.00</td>\n",
       "      <td>1</td>\n",
       "      <td>1</td>\n",
       "      <td>1</td>\n",
       "      <td>101348.88</td>\n",
       "      <td>1</td>\n",
       "    </tr>\n",
       "    <tr>\n",
       "      <th>1</th>\n",
       "      <td>2</td>\n",
       "      <td>15647311</td>\n",
       "      <td>Hill</td>\n",
       "      <td>608</td>\n",
       "      <td>Spain</td>\n",
       "      <td>Female</td>\n",
       "      <td>41</td>\n",
       "      <td>1.0</td>\n",
       "      <td>83807.86</td>\n",
       "      <td>1</td>\n",
       "      <td>0</td>\n",
       "      <td>1</td>\n",
       "      <td>112542.58</td>\n",
       "      <td>0</td>\n",
       "    </tr>\n",
       "    <tr>\n",
       "      <th>2</th>\n",
       "      <td>3</td>\n",
       "      <td>15619304</td>\n",
       "      <td>Onio</td>\n",
       "      <td>502</td>\n",
       "      <td>France</td>\n",
       "      <td>Female</td>\n",
       "      <td>42</td>\n",
       "      <td>8.0</td>\n",
       "      <td>159660.80</td>\n",
       "      <td>3</td>\n",
       "      <td>1</td>\n",
       "      <td>0</td>\n",
       "      <td>113931.57</td>\n",
       "      <td>1</td>\n",
       "    </tr>\n",
       "    <tr>\n",
       "      <th>3</th>\n",
       "      <td>4</td>\n",
       "      <td>15701354</td>\n",
       "      <td>Boni</td>\n",
       "      <td>699</td>\n",
       "      <td>France</td>\n",
       "      <td>Female</td>\n",
       "      <td>39</td>\n",
       "      <td>1.0</td>\n",
       "      <td>0.00</td>\n",
       "      <td>2</td>\n",
       "      <td>0</td>\n",
       "      <td>0</td>\n",
       "      <td>93826.63</td>\n",
       "      <td>0</td>\n",
       "    </tr>\n",
       "    <tr>\n",
       "      <th>4</th>\n",
       "      <td>5</td>\n",
       "      <td>15737888</td>\n",
       "      <td>Mitchell</td>\n",
       "      <td>850</td>\n",
       "      <td>Spain</td>\n",
       "      <td>Female</td>\n",
       "      <td>43</td>\n",
       "      <td>2.0</td>\n",
       "      <td>125510.82</td>\n",
       "      <td>1</td>\n",
       "      <td>1</td>\n",
       "      <td>1</td>\n",
       "      <td>79084.10</td>\n",
       "      <td>0</td>\n",
       "    </tr>\n",
       "    <tr>\n",
       "      <th>5</th>\n",
       "      <td>6</td>\n",
       "      <td>15574012</td>\n",
       "      <td>Chu</td>\n",
       "      <td>645</td>\n",
       "      <td>Spain</td>\n",
       "      <td>Male</td>\n",
       "      <td>44</td>\n",
       "      <td>8.0</td>\n",
       "      <td>113755.78</td>\n",
       "      <td>2</td>\n",
       "      <td>1</td>\n",
       "      <td>0</td>\n",
       "      <td>149756.71</td>\n",
       "      <td>1</td>\n",
       "    </tr>\n",
       "    <tr>\n",
       "      <th>6</th>\n",
       "      <td>7</td>\n",
       "      <td>15592531</td>\n",
       "      <td>Bartlett</td>\n",
       "      <td>822</td>\n",
       "      <td>France</td>\n",
       "      <td>Male</td>\n",
       "      <td>50</td>\n",
       "      <td>7.0</td>\n",
       "      <td>0.00</td>\n",
       "      <td>2</td>\n",
       "      <td>1</td>\n",
       "      <td>1</td>\n",
       "      <td>10062.80</td>\n",
       "      <td>0</td>\n",
       "    </tr>\n",
       "    <tr>\n",
       "      <th>7</th>\n",
       "      <td>8</td>\n",
       "      <td>15656148</td>\n",
       "      <td>Obinna</td>\n",
       "      <td>376</td>\n",
       "      <td>Germany</td>\n",
       "      <td>Female</td>\n",
       "      <td>29</td>\n",
       "      <td>4.0</td>\n",
       "      <td>115046.74</td>\n",
       "      <td>4</td>\n",
       "      <td>1</td>\n",
       "      <td>0</td>\n",
       "      <td>119346.88</td>\n",
       "      <td>1</td>\n",
       "    </tr>\n",
       "    <tr>\n",
       "      <th>8</th>\n",
       "      <td>9</td>\n",
       "      <td>15792365</td>\n",
       "      <td>He</td>\n",
       "      <td>501</td>\n",
       "      <td>France</td>\n",
       "      <td>Male</td>\n",
       "      <td>44</td>\n",
       "      <td>4.0</td>\n",
       "      <td>142051.07</td>\n",
       "      <td>2</td>\n",
       "      <td>0</td>\n",
       "      <td>1</td>\n",
       "      <td>74940.50</td>\n",
       "      <td>0</td>\n",
       "    </tr>\n",
       "    <tr>\n",
       "      <th>9</th>\n",
       "      <td>10</td>\n",
       "      <td>15592389</td>\n",
       "      <td>H?</td>\n",
       "      <td>684</td>\n",
       "      <td>France</td>\n",
       "      <td>Male</td>\n",
       "      <td>27</td>\n",
       "      <td>2.0</td>\n",
       "      <td>134603.88</td>\n",
       "      <td>1</td>\n",
       "      <td>1</td>\n",
       "      <td>1</td>\n",
       "      <td>71725.73</td>\n",
       "      <td>0</td>\n",
       "    </tr>\n",
       "  </tbody>\n",
       "</table>\n",
       "</div>"
      ],
      "text/plain": [
       "   RowNumber  CustomerId   Surname  CreditScore Geography  Gender  Age  \\\n",
       "0          1    15634602  Hargrave          619    France  Female   42   \n",
       "1          2    15647311      Hill          608     Spain  Female   41   \n",
       "2          3    15619304      Onio          502    France  Female   42   \n",
       "3          4    15701354      Boni          699    France  Female   39   \n",
       "4          5    15737888  Mitchell          850     Spain  Female   43   \n",
       "5          6    15574012       Chu          645     Spain    Male   44   \n",
       "6          7    15592531  Bartlett          822    France    Male   50   \n",
       "7          8    15656148    Obinna          376   Germany  Female   29   \n",
       "8          9    15792365        He          501    France    Male   44   \n",
       "9         10    15592389        H?          684    France    Male   27   \n",
       "\n",
       "   Tenure    Balance  NumOfProducts  HasCrCard  IsActiveMember  \\\n",
       "0     2.0       0.00              1          1               1   \n",
       "1     1.0   83807.86              1          0               1   \n",
       "2     8.0  159660.80              3          1               0   \n",
       "3     1.0       0.00              2          0               0   \n",
       "4     2.0  125510.82              1          1               1   \n",
       "5     8.0  113755.78              2          1               0   \n",
       "6     7.0       0.00              2          1               1   \n",
       "7     4.0  115046.74              4          1               0   \n",
       "8     4.0  142051.07              2          0               1   \n",
       "9     2.0  134603.88              1          1               1   \n",
       "\n",
       "   EstimatedSalary  Exited  \n",
       "0        101348.88       1  \n",
       "1        112542.58       0  \n",
       "2        113931.57       1  \n",
       "3         93826.63       0  \n",
       "4         79084.10       0  \n",
       "5        149756.71       1  \n",
       "6         10062.80       0  \n",
       "7        119346.88       1  \n",
       "8         74940.50       0  \n",
       "9         71725.73       0  "
      ]
     },
     "metadata": {},
     "output_type": "display_data"
    },
    {
     "name": "stdout",
     "output_type": "stream",
     "text": [
      "<class 'pandas.core.frame.DataFrame'>\n",
      "RangeIndex: 10000 entries, 0 to 9999\n",
      "Data columns (total 14 columns):\n",
      " #   Column           Non-Null Count  Dtype  \n",
      "---  ------           --------------  -----  \n",
      " 0   RowNumber        10000 non-null  int64  \n",
      " 1   CustomerId       10000 non-null  int64  \n",
      " 2   Surname          10000 non-null  object \n",
      " 3   CreditScore      10000 non-null  int64  \n",
      " 4   Geography        10000 non-null  object \n",
      " 5   Gender           10000 non-null  object \n",
      " 6   Age              10000 non-null  int64  \n",
      " 7   Tenure           9091 non-null   float64\n",
      " 8   Balance          10000 non-null  float64\n",
      " 9   NumOfProducts    10000 non-null  int64  \n",
      " 10  HasCrCard        10000 non-null  int64  \n",
      " 11  IsActiveMember   10000 non-null  int64  \n",
      " 12  EstimatedSalary  10000 non-null  float64\n",
      " 13  Exited           10000 non-null  int64  \n",
      "dtypes: float64(3), int64(8), object(3)\n",
      "memory usage: 1.1+ MB\n"
     ]
    },
    {
     "data": {
      "text/html": [
       "<div>\n",
       "<style scoped>\n",
       "    .dataframe tbody tr th:only-of-type {\n",
       "        vertical-align: middle;\n",
       "    }\n",
       "\n",
       "    .dataframe tbody tr th {\n",
       "        vertical-align: top;\n",
       "    }\n",
       "\n",
       "    .dataframe thead th {\n",
       "        text-align: right;\n",
       "    }\n",
       "</style>\n",
       "<table border=\"1\" class=\"dataframe\">\n",
       "  <thead>\n",
       "    <tr style=\"text-align: right;\">\n",
       "      <th></th>\n",
       "      <th>RowNumber</th>\n",
       "      <th>CustomerId</th>\n",
       "      <th>CreditScore</th>\n",
       "      <th>Age</th>\n",
       "      <th>Tenure</th>\n",
       "      <th>Balance</th>\n",
       "      <th>NumOfProducts</th>\n",
       "      <th>HasCrCard</th>\n",
       "      <th>IsActiveMember</th>\n",
       "      <th>EstimatedSalary</th>\n",
       "      <th>Exited</th>\n",
       "    </tr>\n",
       "  </thead>\n",
       "  <tbody>\n",
       "    <tr>\n",
       "      <th>count</th>\n",
       "      <td>10000.00000</td>\n",
       "      <td>1.000000e+04</td>\n",
       "      <td>10000.000000</td>\n",
       "      <td>10000.000000</td>\n",
       "      <td>9091.000000</td>\n",
       "      <td>10000.000000</td>\n",
       "      <td>10000.000000</td>\n",
       "      <td>10000.00000</td>\n",
       "      <td>10000.000000</td>\n",
       "      <td>10000.000000</td>\n",
       "      <td>10000.000000</td>\n",
       "    </tr>\n",
       "    <tr>\n",
       "      <th>mean</th>\n",
       "      <td>5000.50000</td>\n",
       "      <td>1.569094e+07</td>\n",
       "      <td>650.528800</td>\n",
       "      <td>38.921800</td>\n",
       "      <td>4.997690</td>\n",
       "      <td>76485.889288</td>\n",
       "      <td>1.530200</td>\n",
       "      <td>0.70550</td>\n",
       "      <td>0.515100</td>\n",
       "      <td>100090.239881</td>\n",
       "      <td>0.203700</td>\n",
       "    </tr>\n",
       "    <tr>\n",
       "      <th>std</th>\n",
       "      <td>2886.89568</td>\n",
       "      <td>7.193619e+04</td>\n",
       "      <td>96.653299</td>\n",
       "      <td>10.487806</td>\n",
       "      <td>2.894723</td>\n",
       "      <td>62397.405202</td>\n",
       "      <td>0.581654</td>\n",
       "      <td>0.45584</td>\n",
       "      <td>0.499797</td>\n",
       "      <td>57510.492818</td>\n",
       "      <td>0.402769</td>\n",
       "    </tr>\n",
       "    <tr>\n",
       "      <th>min</th>\n",
       "      <td>1.00000</td>\n",
       "      <td>1.556570e+07</td>\n",
       "      <td>350.000000</td>\n",
       "      <td>18.000000</td>\n",
       "      <td>0.000000</td>\n",
       "      <td>0.000000</td>\n",
       "      <td>1.000000</td>\n",
       "      <td>0.00000</td>\n",
       "      <td>0.000000</td>\n",
       "      <td>11.580000</td>\n",
       "      <td>0.000000</td>\n",
       "    </tr>\n",
       "    <tr>\n",
       "      <th>25%</th>\n",
       "      <td>2500.75000</td>\n",
       "      <td>1.562853e+07</td>\n",
       "      <td>584.000000</td>\n",
       "      <td>32.000000</td>\n",
       "      <td>2.000000</td>\n",
       "      <td>0.000000</td>\n",
       "      <td>1.000000</td>\n",
       "      <td>0.00000</td>\n",
       "      <td>0.000000</td>\n",
       "      <td>51002.110000</td>\n",
       "      <td>0.000000</td>\n",
       "    </tr>\n",
       "    <tr>\n",
       "      <th>50%</th>\n",
       "      <td>5000.50000</td>\n",
       "      <td>1.569074e+07</td>\n",
       "      <td>652.000000</td>\n",
       "      <td>37.000000</td>\n",
       "      <td>5.000000</td>\n",
       "      <td>97198.540000</td>\n",
       "      <td>1.000000</td>\n",
       "      <td>1.00000</td>\n",
       "      <td>1.000000</td>\n",
       "      <td>100193.915000</td>\n",
       "      <td>0.000000</td>\n",
       "    </tr>\n",
       "    <tr>\n",
       "      <th>75%</th>\n",
       "      <td>7500.25000</td>\n",
       "      <td>1.575323e+07</td>\n",
       "      <td>718.000000</td>\n",
       "      <td>44.000000</td>\n",
       "      <td>7.000000</td>\n",
       "      <td>127644.240000</td>\n",
       "      <td>2.000000</td>\n",
       "      <td>1.00000</td>\n",
       "      <td>1.000000</td>\n",
       "      <td>149388.247500</td>\n",
       "      <td>0.000000</td>\n",
       "    </tr>\n",
       "    <tr>\n",
       "      <th>max</th>\n",
       "      <td>10000.00000</td>\n",
       "      <td>1.581569e+07</td>\n",
       "      <td>850.000000</td>\n",
       "      <td>92.000000</td>\n",
       "      <td>10.000000</td>\n",
       "      <td>250898.090000</td>\n",
       "      <td>4.000000</td>\n",
       "      <td>1.00000</td>\n",
       "      <td>1.000000</td>\n",
       "      <td>199992.480000</td>\n",
       "      <td>1.000000</td>\n",
       "    </tr>\n",
       "  </tbody>\n",
       "</table>\n",
       "</div>"
      ],
      "text/plain": [
       "         RowNumber    CustomerId   CreditScore           Age       Tenure  \\\n",
       "count  10000.00000  1.000000e+04  10000.000000  10000.000000  9091.000000   \n",
       "mean    5000.50000  1.569094e+07    650.528800     38.921800     4.997690   \n",
       "std     2886.89568  7.193619e+04     96.653299     10.487806     2.894723   \n",
       "min        1.00000  1.556570e+07    350.000000     18.000000     0.000000   \n",
       "25%     2500.75000  1.562853e+07    584.000000     32.000000     2.000000   \n",
       "50%     5000.50000  1.569074e+07    652.000000     37.000000     5.000000   \n",
       "75%     7500.25000  1.575323e+07    718.000000     44.000000     7.000000   \n",
       "max    10000.00000  1.581569e+07    850.000000     92.000000    10.000000   \n",
       "\n",
       "             Balance  NumOfProducts    HasCrCard  IsActiveMember  \\\n",
       "count   10000.000000   10000.000000  10000.00000    10000.000000   \n",
       "mean    76485.889288       1.530200      0.70550        0.515100   \n",
       "std     62397.405202       0.581654      0.45584        0.499797   \n",
       "min         0.000000       1.000000      0.00000        0.000000   \n",
       "25%         0.000000       1.000000      0.00000        0.000000   \n",
       "50%     97198.540000       1.000000      1.00000        1.000000   \n",
       "75%    127644.240000       2.000000      1.00000        1.000000   \n",
       "max    250898.090000       4.000000      1.00000        1.000000   \n",
       "\n",
       "       EstimatedSalary        Exited  \n",
       "count     10000.000000  10000.000000  \n",
       "mean     100090.239881      0.203700  \n",
       "std       57510.492818      0.402769  \n",
       "min          11.580000      0.000000  \n",
       "25%       51002.110000      0.000000  \n",
       "50%      100193.915000      0.000000  \n",
       "75%      149388.247500      0.000000  \n",
       "max      199992.480000      1.000000  "
      ]
     },
     "metadata": {},
     "output_type": "display_data"
    }
   ],
   "source": [
    "#Сделаем вызов функции и просмотрим информацию о данных\n",
    "\n",
    "study(data)"
   ]
  },
  {
   "cell_type": "markdown",
   "metadata": {},
   "source": [
    "# Описание данных\n",
    "\n",
    "**RowNumber** — индекс строки в данных\n",
    "\n",
    "**CustomerId** — уникальный идентификатор клиента\n",
    "\n",
    "**Surname** — фамилия\n",
    "\n",
    "**CreditScore** — кредитный рейтинг\n",
    "\n",
    "**Geography** — страна проживания\n",
    "\n",
    "**Gender** — пол\n",
    "\n",
    "**Age** — возраст\n",
    "\n",
    "**Tenure** — сколько лет человек является клиентом банка\n",
    "\n",
    "**Balance** — баланс на счёте\n",
    "\n",
    "**NumOfProducts** — количество продуктов банка, используемых клиентом\n",
    "\n",
    "**HasCrCard** — наличие кредитной карты\n",
    "\n",
    "**IsActiveMember** — активность клиента\n",
    "\n",
    "**EstimatedSalary** — предполагаемая зарплата\n",
    "\n",
    "**Exited** — факт ухода клиента"
   ]
  },
  {
   "cell_type": "markdown",
   "metadata": {},
   "source": [
    "Заметили пропуски в стобце **Tenure**. Остановимся на нем более детально."
   ]
  },
  {
   "cell_type": "code",
   "execution_count": 119,
   "metadata": {},
   "outputs": [
    {
     "data": {
      "text/plain": [
       "array([ 2.,  1.,  8.,  7.,  4.,  6.,  3., 10.,  5.,  9.,  0., nan])"
      ]
     },
     "execution_count": 119,
     "metadata": {},
     "output_type": "execute_result"
    }
   ],
   "source": [
    "data['Tenure'].unique()"
   ]
  },
  {
   "cell_type": "code",
   "execution_count": 120,
   "metadata": {},
   "outputs": [
    {
     "data": {
      "text/html": [
       "<div>\n",
       "<style scoped>\n",
       "    .dataframe tbody tr th:only-of-type {\n",
       "        vertical-align: middle;\n",
       "    }\n",
       "\n",
       "    .dataframe tbody tr th {\n",
       "        vertical-align: top;\n",
       "    }\n",
       "\n",
       "    .dataframe thead th {\n",
       "        text-align: right;\n",
       "    }\n",
       "</style>\n",
       "<table border=\"1\" class=\"dataframe\">\n",
       "  <thead>\n",
       "    <tr style=\"text-align: right;\">\n",
       "      <th></th>\n",
       "      <th>RowNumber</th>\n",
       "      <th>CustomerId</th>\n",
       "      <th>Surname</th>\n",
       "      <th>CreditScore</th>\n",
       "      <th>Geography</th>\n",
       "      <th>Gender</th>\n",
       "      <th>Age</th>\n",
       "      <th>Tenure</th>\n",
       "      <th>Balance</th>\n",
       "      <th>NumOfProducts</th>\n",
       "      <th>HasCrCard</th>\n",
       "      <th>IsActiveMember</th>\n",
       "      <th>EstimatedSalary</th>\n",
       "      <th>Exited</th>\n",
       "    </tr>\n",
       "  </thead>\n",
       "  <tbody>\n",
       "    <tr>\n",
       "      <th>30</th>\n",
       "      <td>31</td>\n",
       "      <td>15589475</td>\n",
       "      <td>Azikiwe</td>\n",
       "      <td>591</td>\n",
       "      <td>Spain</td>\n",
       "      <td>Female</td>\n",
       "      <td>39</td>\n",
       "      <td>NaN</td>\n",
       "      <td>0.00</td>\n",
       "      <td>3</td>\n",
       "      <td>1</td>\n",
       "      <td>0</td>\n",
       "      <td>140469.38</td>\n",
       "      <td>1</td>\n",
       "    </tr>\n",
       "    <tr>\n",
       "      <th>48</th>\n",
       "      <td>49</td>\n",
       "      <td>15766205</td>\n",
       "      <td>Yin</td>\n",
       "      <td>550</td>\n",
       "      <td>Germany</td>\n",
       "      <td>Male</td>\n",
       "      <td>38</td>\n",
       "      <td>NaN</td>\n",
       "      <td>103391.38</td>\n",
       "      <td>1</td>\n",
       "      <td>0</td>\n",
       "      <td>1</td>\n",
       "      <td>90878.13</td>\n",
       "      <td>0</td>\n",
       "    </tr>\n",
       "    <tr>\n",
       "      <th>51</th>\n",
       "      <td>52</td>\n",
       "      <td>15768193</td>\n",
       "      <td>Trevisani</td>\n",
       "      <td>585</td>\n",
       "      <td>Germany</td>\n",
       "      <td>Male</td>\n",
       "      <td>36</td>\n",
       "      <td>NaN</td>\n",
       "      <td>146050.97</td>\n",
       "      <td>2</td>\n",
       "      <td>0</td>\n",
       "      <td>0</td>\n",
       "      <td>86424.57</td>\n",
       "      <td>0</td>\n",
       "    </tr>\n",
       "    <tr>\n",
       "      <th>53</th>\n",
       "      <td>54</td>\n",
       "      <td>15702298</td>\n",
       "      <td>Parkhill</td>\n",
       "      <td>655</td>\n",
       "      <td>Germany</td>\n",
       "      <td>Male</td>\n",
       "      <td>41</td>\n",
       "      <td>NaN</td>\n",
       "      <td>125561.97</td>\n",
       "      <td>1</td>\n",
       "      <td>0</td>\n",
       "      <td>0</td>\n",
       "      <td>164040.94</td>\n",
       "      <td>1</td>\n",
       "    </tr>\n",
       "    <tr>\n",
       "      <th>60</th>\n",
       "      <td>61</td>\n",
       "      <td>15651280</td>\n",
       "      <td>Hunter</td>\n",
       "      <td>742</td>\n",
       "      <td>Germany</td>\n",
       "      <td>Male</td>\n",
       "      <td>35</td>\n",
       "      <td>NaN</td>\n",
       "      <td>136857.00</td>\n",
       "      <td>1</td>\n",
       "      <td>0</td>\n",
       "      <td>0</td>\n",
       "      <td>84509.57</td>\n",
       "      <td>0</td>\n",
       "    </tr>\n",
       "    <tr>\n",
       "      <th>...</th>\n",
       "      <td>...</td>\n",
       "      <td>...</td>\n",
       "      <td>...</td>\n",
       "      <td>...</td>\n",
       "      <td>...</td>\n",
       "      <td>...</td>\n",
       "      <td>...</td>\n",
       "      <td>...</td>\n",
       "      <td>...</td>\n",
       "      <td>...</td>\n",
       "      <td>...</td>\n",
       "      <td>...</td>\n",
       "      <td>...</td>\n",
       "      <td>...</td>\n",
       "    </tr>\n",
       "    <tr>\n",
       "      <th>9944</th>\n",
       "      <td>9945</td>\n",
       "      <td>15703923</td>\n",
       "      <td>Cameron</td>\n",
       "      <td>744</td>\n",
       "      <td>Germany</td>\n",
       "      <td>Male</td>\n",
       "      <td>41</td>\n",
       "      <td>NaN</td>\n",
       "      <td>190409.34</td>\n",
       "      <td>2</td>\n",
       "      <td>1</td>\n",
       "      <td>1</td>\n",
       "      <td>138361.48</td>\n",
       "      <td>0</td>\n",
       "    </tr>\n",
       "    <tr>\n",
       "      <th>9956</th>\n",
       "      <td>9957</td>\n",
       "      <td>15707861</td>\n",
       "      <td>Nucci</td>\n",
       "      <td>520</td>\n",
       "      <td>France</td>\n",
       "      <td>Female</td>\n",
       "      <td>46</td>\n",
       "      <td>NaN</td>\n",
       "      <td>85216.61</td>\n",
       "      <td>1</td>\n",
       "      <td>1</td>\n",
       "      <td>0</td>\n",
       "      <td>117369.52</td>\n",
       "      <td>1</td>\n",
       "    </tr>\n",
       "    <tr>\n",
       "      <th>9964</th>\n",
       "      <td>9965</td>\n",
       "      <td>15642785</td>\n",
       "      <td>Douglas</td>\n",
       "      <td>479</td>\n",
       "      <td>France</td>\n",
       "      <td>Male</td>\n",
       "      <td>34</td>\n",
       "      <td>NaN</td>\n",
       "      <td>117593.48</td>\n",
       "      <td>2</td>\n",
       "      <td>0</td>\n",
       "      <td>0</td>\n",
       "      <td>113308.29</td>\n",
       "      <td>0</td>\n",
       "    </tr>\n",
       "    <tr>\n",
       "      <th>9985</th>\n",
       "      <td>9986</td>\n",
       "      <td>15586914</td>\n",
       "      <td>Nepean</td>\n",
       "      <td>659</td>\n",
       "      <td>France</td>\n",
       "      <td>Male</td>\n",
       "      <td>36</td>\n",
       "      <td>NaN</td>\n",
       "      <td>123841.49</td>\n",
       "      <td>2</td>\n",
       "      <td>1</td>\n",
       "      <td>0</td>\n",
       "      <td>96833.00</td>\n",
       "      <td>0</td>\n",
       "    </tr>\n",
       "    <tr>\n",
       "      <th>9999</th>\n",
       "      <td>10000</td>\n",
       "      <td>15628319</td>\n",
       "      <td>Walker</td>\n",
       "      <td>792</td>\n",
       "      <td>France</td>\n",
       "      <td>Female</td>\n",
       "      <td>28</td>\n",
       "      <td>NaN</td>\n",
       "      <td>130142.79</td>\n",
       "      <td>1</td>\n",
       "      <td>1</td>\n",
       "      <td>0</td>\n",
       "      <td>38190.78</td>\n",
       "      <td>0</td>\n",
       "    </tr>\n",
       "  </tbody>\n",
       "</table>\n",
       "<p>909 rows × 14 columns</p>\n",
       "</div>"
      ],
      "text/plain": [
       "      RowNumber  CustomerId    Surname  CreditScore Geography  Gender  Age  \\\n",
       "30           31    15589475    Azikiwe          591     Spain  Female   39   \n",
       "48           49    15766205        Yin          550   Germany    Male   38   \n",
       "51           52    15768193  Trevisani          585   Germany    Male   36   \n",
       "53           54    15702298   Parkhill          655   Germany    Male   41   \n",
       "60           61    15651280     Hunter          742   Germany    Male   35   \n",
       "...         ...         ...        ...          ...       ...     ...  ...   \n",
       "9944       9945    15703923    Cameron          744   Germany    Male   41   \n",
       "9956       9957    15707861      Nucci          520    France  Female   46   \n",
       "9964       9965    15642785    Douglas          479    France    Male   34   \n",
       "9985       9986    15586914     Nepean          659    France    Male   36   \n",
       "9999      10000    15628319     Walker          792    France  Female   28   \n",
       "\n",
       "      Tenure    Balance  NumOfProducts  HasCrCard  IsActiveMember  \\\n",
       "30       NaN       0.00              3          1               0   \n",
       "48       NaN  103391.38              1          0               1   \n",
       "51       NaN  146050.97              2          0               0   \n",
       "53       NaN  125561.97              1          0               0   \n",
       "60       NaN  136857.00              1          0               0   \n",
       "...      ...        ...            ...        ...             ...   \n",
       "9944     NaN  190409.34              2          1               1   \n",
       "9956     NaN   85216.61              1          1               0   \n",
       "9964     NaN  117593.48              2          0               0   \n",
       "9985     NaN  123841.49              2          1               0   \n",
       "9999     NaN  130142.79              1          1               0   \n",
       "\n",
       "      EstimatedSalary  Exited  \n",
       "30          140469.38       1  \n",
       "48           90878.13       0  \n",
       "51           86424.57       0  \n",
       "53          164040.94       1  \n",
       "60           84509.57       0  \n",
       "...               ...     ...  \n",
       "9944        138361.48       0  \n",
       "9956        117369.52       1  \n",
       "9964        113308.29       0  \n",
       "9985         96833.00       0  \n",
       "9999         38190.78       0  \n",
       "\n",
       "[909 rows x 14 columns]"
      ]
     },
     "execution_count": 120,
     "metadata": {},
     "output_type": "execute_result"
    }
   ],
   "source": [
    "data[data['Tenure'].isnull()]"
   ]
  },
  {
   "cell_type": "markdown",
   "metadata": {},
   "source": [
    "Пропусков прилично и чем они вызваны не ясно. Заменим их на медианное значение, так будет более корректно, по моему мнению."
   ]
  },
  {
   "cell_type": "code",
   "execution_count": 121,
   "metadata": {},
   "outputs": [
    {
     "name": "stdout",
     "output_type": "stream",
     "text": [
      "<class 'pandas.core.frame.DataFrame'>\n",
      "RangeIndex: 10000 entries, 0 to 9999\n",
      "Data columns (total 14 columns):\n",
      " #   Column           Non-Null Count  Dtype  \n",
      "---  ------           --------------  -----  \n",
      " 0   RowNumber        10000 non-null  int64  \n",
      " 1   CustomerId       10000 non-null  int64  \n",
      " 2   Surname          10000 non-null  object \n",
      " 3   CreditScore      10000 non-null  int64  \n",
      " 4   Geography        10000 non-null  object \n",
      " 5   Gender           10000 non-null  object \n",
      " 6   Age              10000 non-null  int64  \n",
      " 7   Tenure           10000 non-null  float64\n",
      " 8   Balance          10000 non-null  float64\n",
      " 9   NumOfProducts    10000 non-null  int64  \n",
      " 10  HasCrCard        10000 non-null  int64  \n",
      " 11  IsActiveMember   10000 non-null  int64  \n",
      " 12  EstimatedSalary  10000 non-null  float64\n",
      " 13  Exited           10000 non-null  int64  \n",
      "dtypes: float64(3), int64(8), object(3)\n",
      "memory usage: 1.1+ MB\n"
     ]
    },
    {
     "data": {
      "text/html": [
       "<div>\n",
       "<style scoped>\n",
       "    .dataframe tbody tr th:only-of-type {\n",
       "        vertical-align: middle;\n",
       "    }\n",
       "\n",
       "    .dataframe tbody tr th {\n",
       "        vertical-align: top;\n",
       "    }\n",
       "\n",
       "    .dataframe thead th {\n",
       "        text-align: right;\n",
       "    }\n",
       "</style>\n",
       "<table border=\"1\" class=\"dataframe\">\n",
       "  <thead>\n",
       "    <tr style=\"text-align: right;\">\n",
       "      <th></th>\n",
       "      <th>RowNumber</th>\n",
       "      <th>CustomerId</th>\n",
       "      <th>CreditScore</th>\n",
       "      <th>Age</th>\n",
       "      <th>Tenure</th>\n",
       "      <th>Balance</th>\n",
       "      <th>NumOfProducts</th>\n",
       "      <th>HasCrCard</th>\n",
       "      <th>IsActiveMember</th>\n",
       "      <th>EstimatedSalary</th>\n",
       "      <th>Exited</th>\n",
       "    </tr>\n",
       "  </thead>\n",
       "  <tbody>\n",
       "    <tr>\n",
       "      <th>count</th>\n",
       "      <td>10000.00000</td>\n",
       "      <td>1.000000e+04</td>\n",
       "      <td>10000.000000</td>\n",
       "      <td>10000.000000</td>\n",
       "      <td>10000.00000</td>\n",
       "      <td>10000.000000</td>\n",
       "      <td>10000.000000</td>\n",
       "      <td>10000.00000</td>\n",
       "      <td>10000.000000</td>\n",
       "      <td>10000.000000</td>\n",
       "      <td>10000.000000</td>\n",
       "    </tr>\n",
       "    <tr>\n",
       "      <th>mean</th>\n",
       "      <td>5000.50000</td>\n",
       "      <td>1.569094e+07</td>\n",
       "      <td>650.528800</td>\n",
       "      <td>38.921800</td>\n",
       "      <td>4.99790</td>\n",
       "      <td>76485.889288</td>\n",
       "      <td>1.530200</td>\n",
       "      <td>0.70550</td>\n",
       "      <td>0.515100</td>\n",
       "      <td>100090.239881</td>\n",
       "      <td>0.203700</td>\n",
       "    </tr>\n",
       "    <tr>\n",
       "      <th>std</th>\n",
       "      <td>2886.89568</td>\n",
       "      <td>7.193619e+04</td>\n",
       "      <td>96.653299</td>\n",
       "      <td>10.487806</td>\n",
       "      <td>2.76001</td>\n",
       "      <td>62397.405202</td>\n",
       "      <td>0.581654</td>\n",
       "      <td>0.45584</td>\n",
       "      <td>0.499797</td>\n",
       "      <td>57510.492818</td>\n",
       "      <td>0.402769</td>\n",
       "    </tr>\n",
       "    <tr>\n",
       "      <th>min</th>\n",
       "      <td>1.00000</td>\n",
       "      <td>1.556570e+07</td>\n",
       "      <td>350.000000</td>\n",
       "      <td>18.000000</td>\n",
       "      <td>0.00000</td>\n",
       "      <td>0.000000</td>\n",
       "      <td>1.000000</td>\n",
       "      <td>0.00000</td>\n",
       "      <td>0.000000</td>\n",
       "      <td>11.580000</td>\n",
       "      <td>0.000000</td>\n",
       "    </tr>\n",
       "    <tr>\n",
       "      <th>25%</th>\n",
       "      <td>2500.75000</td>\n",
       "      <td>1.562853e+07</td>\n",
       "      <td>584.000000</td>\n",
       "      <td>32.000000</td>\n",
       "      <td>3.00000</td>\n",
       "      <td>0.000000</td>\n",
       "      <td>1.000000</td>\n",
       "      <td>0.00000</td>\n",
       "      <td>0.000000</td>\n",
       "      <td>51002.110000</td>\n",
       "      <td>0.000000</td>\n",
       "    </tr>\n",
       "    <tr>\n",
       "      <th>50%</th>\n",
       "      <td>5000.50000</td>\n",
       "      <td>1.569074e+07</td>\n",
       "      <td>652.000000</td>\n",
       "      <td>37.000000</td>\n",
       "      <td>5.00000</td>\n",
       "      <td>97198.540000</td>\n",
       "      <td>1.000000</td>\n",
       "      <td>1.00000</td>\n",
       "      <td>1.000000</td>\n",
       "      <td>100193.915000</td>\n",
       "      <td>0.000000</td>\n",
       "    </tr>\n",
       "    <tr>\n",
       "      <th>75%</th>\n",
       "      <td>7500.25000</td>\n",
       "      <td>1.575323e+07</td>\n",
       "      <td>718.000000</td>\n",
       "      <td>44.000000</td>\n",
       "      <td>7.00000</td>\n",
       "      <td>127644.240000</td>\n",
       "      <td>2.000000</td>\n",
       "      <td>1.00000</td>\n",
       "      <td>1.000000</td>\n",
       "      <td>149388.247500</td>\n",
       "      <td>0.000000</td>\n",
       "    </tr>\n",
       "    <tr>\n",
       "      <th>max</th>\n",
       "      <td>10000.00000</td>\n",
       "      <td>1.581569e+07</td>\n",
       "      <td>850.000000</td>\n",
       "      <td>92.000000</td>\n",
       "      <td>10.00000</td>\n",
       "      <td>250898.090000</td>\n",
       "      <td>4.000000</td>\n",
       "      <td>1.00000</td>\n",
       "      <td>1.000000</td>\n",
       "      <td>199992.480000</td>\n",
       "      <td>1.000000</td>\n",
       "    </tr>\n",
       "  </tbody>\n",
       "</table>\n",
       "</div>"
      ],
      "text/plain": [
       "         RowNumber    CustomerId   CreditScore           Age       Tenure  \\\n",
       "count  10000.00000  1.000000e+04  10000.000000  10000.000000  10000.00000   \n",
       "mean    5000.50000  1.569094e+07    650.528800     38.921800      4.99790   \n",
       "std     2886.89568  7.193619e+04     96.653299     10.487806      2.76001   \n",
       "min        1.00000  1.556570e+07    350.000000     18.000000      0.00000   \n",
       "25%     2500.75000  1.562853e+07    584.000000     32.000000      3.00000   \n",
       "50%     5000.50000  1.569074e+07    652.000000     37.000000      5.00000   \n",
       "75%     7500.25000  1.575323e+07    718.000000     44.000000      7.00000   \n",
       "max    10000.00000  1.581569e+07    850.000000     92.000000     10.00000   \n",
       "\n",
       "             Balance  NumOfProducts    HasCrCard  IsActiveMember  \\\n",
       "count   10000.000000   10000.000000  10000.00000    10000.000000   \n",
       "mean    76485.889288       1.530200      0.70550        0.515100   \n",
       "std     62397.405202       0.581654      0.45584        0.499797   \n",
       "min         0.000000       1.000000      0.00000        0.000000   \n",
       "25%         0.000000       1.000000      0.00000        0.000000   \n",
       "50%     97198.540000       1.000000      1.00000        1.000000   \n",
       "75%    127644.240000       2.000000      1.00000        1.000000   \n",
       "max    250898.090000       4.000000      1.00000        1.000000   \n",
       "\n",
       "       EstimatedSalary        Exited  \n",
       "count     10000.000000  10000.000000  \n",
       "mean     100090.239881      0.203700  \n",
       "std       57510.492818      0.402769  \n",
       "min          11.580000      0.000000  \n",
       "25%       51002.110000      0.000000  \n",
       "50%      100193.915000      0.000000  \n",
       "75%      149388.247500      0.000000  \n",
       "max      199992.480000      1.000000  "
      ]
     },
     "execution_count": 121,
     "metadata": {},
     "output_type": "execute_result"
    }
   ],
   "source": [
    "#Обработаем пропуски\n",
    "\n",
    "data['Tenure'] = data['Tenure'].fillna(data['Tenure'].median())\n",
    "\n",
    "#Посмотрим изменения\n",
    "\n",
    "data.info()\n",
    "data.describe()"
   ]
  },
  {
   "cell_type": "code",
   "execution_count": 122,
   "metadata": {},
   "outputs": [
    {
     "data": {
      "text/plain": [
       "array([ 2.,  1.,  8.,  7.,  4.,  6.,  3., 10.,  5.,  9.,  0.])"
      ]
     },
     "execution_count": 122,
     "metadata": {},
     "output_type": "execute_result"
    }
   ],
   "source": [
    "#Убедимся, что пропусков больше нет\n",
    "\n",
    "data['Tenure'].unique()"
   ]
  },
  {
   "cell_type": "code",
   "execution_count": 123,
   "metadata": {},
   "outputs": [
    {
     "name": "stdout",
     "output_type": "stream",
     "text": [
      "<class 'pandas.core.frame.DataFrame'>\n",
      "RangeIndex: 10000 entries, 0 to 9999\n",
      "Data columns (total 14 columns):\n",
      " #   Column           Non-Null Count  Dtype  \n",
      "---  ------           --------------  -----  \n",
      " 0   RowNumber        10000 non-null  int64  \n",
      " 1   CustomerId       10000 non-null  int64  \n",
      " 2   Surname          10000 non-null  object \n",
      " 3   CreditScore      10000 non-null  int64  \n",
      " 4   Geography        10000 non-null  object \n",
      " 5   Gender           10000 non-null  object \n",
      " 6   Age              10000 non-null  int64  \n",
      " 7   Tenure           10000 non-null  int64  \n",
      " 8   Balance          10000 non-null  float64\n",
      " 9   NumOfProducts    10000 non-null  int64  \n",
      " 10  HasCrCard        10000 non-null  int64  \n",
      " 11  IsActiveMember   10000 non-null  int64  \n",
      " 12  EstimatedSalary  10000 non-null  float64\n",
      " 13  Exited           10000 non-null  int64  \n",
      "dtypes: float64(2), int64(9), object(3)\n",
      "memory usage: 1.1+ MB\n"
     ]
    }
   ],
   "source": [
    "#Изменим тип данных на целочисленный\n",
    "\n",
    "data['Tenure'] = data['Tenure'].astype('int')\n",
    "\n",
    "data.info()"
   ]
  },
  {
   "cell_type": "code",
   "execution_count": 124,
   "metadata": {},
   "outputs": [
    {
     "data": {
      "text/plain": [
       "0"
      ]
     },
     "execution_count": 124,
     "metadata": {},
     "output_type": "execute_result"
    }
   ],
   "source": [
    "#Проверим на явные дубликаты\n",
    "\n",
    "data.duplicated().sum()"
   ]
  },
  {
   "cell_type": "code",
   "execution_count": 125,
   "metadata": {},
   "outputs": [],
   "source": [
    "#Сделаем названия столбцов более читаемыми\n",
    "\n",
    "data = data.rename(columns={'RowNumber':'Row_Number', 'CustomerId':'Customer_Id', 'CreditScore':'Credit_Score',\n",
    "       'NumOfProducts':'Num_Of_Products', 'HasCrCard':'Has_Cr_Card',\n",
    "       'IsActiveMember':'Is_Active_Member', 'EstimatedSalary':'Estimated_Salary'})"
   ]
  },
  {
   "cell_type": "code",
   "execution_count": 126,
   "metadata": {},
   "outputs": [
    {
     "data": {
      "text/html": [
       "<div>\n",
       "<style scoped>\n",
       "    .dataframe tbody tr th:only-of-type {\n",
       "        vertical-align: middle;\n",
       "    }\n",
       "\n",
       "    .dataframe tbody tr th {\n",
       "        vertical-align: top;\n",
       "    }\n",
       "\n",
       "    .dataframe thead th {\n",
       "        text-align: right;\n",
       "    }\n",
       "</style>\n",
       "<table border=\"1\" class=\"dataframe\">\n",
       "  <thead>\n",
       "    <tr style=\"text-align: right;\">\n",
       "      <th></th>\n",
       "      <th>row_number</th>\n",
       "      <th>customer_id</th>\n",
       "      <th>surname</th>\n",
       "      <th>credit_score</th>\n",
       "      <th>geography</th>\n",
       "      <th>gender</th>\n",
       "      <th>age</th>\n",
       "      <th>tenure</th>\n",
       "      <th>balance</th>\n",
       "      <th>num_of_products</th>\n",
       "      <th>has_cr_card</th>\n",
       "      <th>is_active_member</th>\n",
       "      <th>estimated_salary</th>\n",
       "      <th>exited</th>\n",
       "    </tr>\n",
       "  </thead>\n",
       "  <tbody>\n",
       "    <tr>\n",
       "      <th>0</th>\n",
       "      <td>1</td>\n",
       "      <td>15634602</td>\n",
       "      <td>Hargrave</td>\n",
       "      <td>619</td>\n",
       "      <td>France</td>\n",
       "      <td>Female</td>\n",
       "      <td>42</td>\n",
       "      <td>2</td>\n",
       "      <td>0.00</td>\n",
       "      <td>1</td>\n",
       "      <td>1</td>\n",
       "      <td>1</td>\n",
       "      <td>101348.88</td>\n",
       "      <td>1</td>\n",
       "    </tr>\n",
       "    <tr>\n",
       "      <th>1</th>\n",
       "      <td>2</td>\n",
       "      <td>15647311</td>\n",
       "      <td>Hill</td>\n",
       "      <td>608</td>\n",
       "      <td>Spain</td>\n",
       "      <td>Female</td>\n",
       "      <td>41</td>\n",
       "      <td>1</td>\n",
       "      <td>83807.86</td>\n",
       "      <td>1</td>\n",
       "      <td>0</td>\n",
       "      <td>1</td>\n",
       "      <td>112542.58</td>\n",
       "      <td>0</td>\n",
       "    </tr>\n",
       "    <tr>\n",
       "      <th>2</th>\n",
       "      <td>3</td>\n",
       "      <td>15619304</td>\n",
       "      <td>Onio</td>\n",
       "      <td>502</td>\n",
       "      <td>France</td>\n",
       "      <td>Female</td>\n",
       "      <td>42</td>\n",
       "      <td>8</td>\n",
       "      <td>159660.80</td>\n",
       "      <td>3</td>\n",
       "      <td>1</td>\n",
       "      <td>0</td>\n",
       "      <td>113931.57</td>\n",
       "      <td>1</td>\n",
       "    </tr>\n",
       "    <tr>\n",
       "      <th>3</th>\n",
       "      <td>4</td>\n",
       "      <td>15701354</td>\n",
       "      <td>Boni</td>\n",
       "      <td>699</td>\n",
       "      <td>France</td>\n",
       "      <td>Female</td>\n",
       "      <td>39</td>\n",
       "      <td>1</td>\n",
       "      <td>0.00</td>\n",
       "      <td>2</td>\n",
       "      <td>0</td>\n",
       "      <td>0</td>\n",
       "      <td>93826.63</td>\n",
       "      <td>0</td>\n",
       "    </tr>\n",
       "    <tr>\n",
       "      <th>4</th>\n",
       "      <td>5</td>\n",
       "      <td>15737888</td>\n",
       "      <td>Mitchell</td>\n",
       "      <td>850</td>\n",
       "      <td>Spain</td>\n",
       "      <td>Female</td>\n",
       "      <td>43</td>\n",
       "      <td>2</td>\n",
       "      <td>125510.82</td>\n",
       "      <td>1</td>\n",
       "      <td>1</td>\n",
       "      <td>1</td>\n",
       "      <td>79084.10</td>\n",
       "      <td>0</td>\n",
       "    </tr>\n",
       "  </tbody>\n",
       "</table>\n",
       "</div>"
      ],
      "text/plain": [
       "   row_number  customer_id   surname  credit_score geography  gender  age  \\\n",
       "0           1     15634602  Hargrave           619    France  Female   42   \n",
       "1           2     15647311      Hill           608     Spain  Female   41   \n",
       "2           3     15619304      Onio           502    France  Female   42   \n",
       "3           4     15701354      Boni           699    France  Female   39   \n",
       "4           5     15737888  Mitchell           850     Spain  Female   43   \n",
       "\n",
       "   tenure    balance  num_of_products  has_cr_card  is_active_member  \\\n",
       "0       2       0.00                1            1                 1   \n",
       "1       1   83807.86                1            0                 1   \n",
       "2       8  159660.80                3            1                 0   \n",
       "3       1       0.00                2            0                 0   \n",
       "4       2  125510.82                1            1                 1   \n",
       "\n",
       "   estimated_salary  exited  \n",
       "0         101348.88       1  \n",
       "1         112542.58       0  \n",
       "2         113931.57       1  \n",
       "3          93826.63       0  \n",
       "4          79084.10       0  "
      ]
     },
     "execution_count": 126,
     "metadata": {},
     "output_type": "execute_result"
    }
   ],
   "source": [
    "#Приведем названия к нижнему регистру\n",
    "\n",
    "data.columns = data.columns.str.lower()\n",
    "\n",
    "data.head()"
   ]
  },
  {
   "cell_type": "markdown",
   "metadata": {},
   "source": [
    "# Вывод\n",
    "\n",
    "**row_number** — в этом столбце содержится информация об индексах строк, в дальнейшем, при работе с данным, он нам будет не нужен.\n",
    "\n",
    "**customer_id** — столбец хранит в себе информацию о идентификаторах пользователей. Этот столбец никак не пригодится нам для обучения.\n",
    "\n",
    "**surname** — в столбце представлены фамилии клиентов, эта информация нам не нужна в дальнейшем.\n",
    "\n",
    "**age** и **exited** — типы данных соответствуют действительности.\n",
    "\n",
    "**tenure** — заполнили пропуски медианным значением и изменили тип данных на целочисленный.\n",
    "\n",
    "**Явных дубликатов не выявлено.**\n",
    "\n",
    "**Привели в порядок названия стобцов.**"
   ]
  },
  {
   "cell_type": "markdown",
   "metadata": {},
   "source": [
    "## Исследование задачи"
   ]
  },
  {
   "cell_type": "markdown",
   "metadata": {},
   "source": [
    "Создадим отдельный DataFrame с данными, которые нам в дальнейшем понадобятся для машинного обучения. "
   ]
  },
  {
   "cell_type": "code",
   "execution_count": 127,
   "metadata": {},
   "outputs": [
    {
     "data": {
      "text/html": [
       "<div>\n",
       "<style scoped>\n",
       "    .dataframe tbody tr th:only-of-type {\n",
       "        vertical-align: middle;\n",
       "    }\n",
       "\n",
       "    .dataframe tbody tr th {\n",
       "        vertical-align: top;\n",
       "    }\n",
       "\n",
       "    .dataframe thead th {\n",
       "        text-align: right;\n",
       "    }\n",
       "</style>\n",
       "<table border=\"1\" class=\"dataframe\">\n",
       "  <thead>\n",
       "    <tr style=\"text-align: right;\">\n",
       "      <th></th>\n",
       "      <th>credit_score</th>\n",
       "      <th>geography</th>\n",
       "      <th>gender</th>\n",
       "      <th>age</th>\n",
       "      <th>tenure</th>\n",
       "      <th>balance</th>\n",
       "      <th>num_of_products</th>\n",
       "      <th>has_cr_card</th>\n",
       "      <th>is_active_member</th>\n",
       "      <th>estimated_salary</th>\n",
       "      <th>exited</th>\n",
       "    </tr>\n",
       "  </thead>\n",
       "  <tbody>\n",
       "    <tr>\n",
       "      <th>0</th>\n",
       "      <td>619</td>\n",
       "      <td>France</td>\n",
       "      <td>Female</td>\n",
       "      <td>42</td>\n",
       "      <td>2</td>\n",
       "      <td>0.00</td>\n",
       "      <td>1</td>\n",
       "      <td>1</td>\n",
       "      <td>1</td>\n",
       "      <td>101348.88</td>\n",
       "      <td>1</td>\n",
       "    </tr>\n",
       "    <tr>\n",
       "      <th>1</th>\n",
       "      <td>608</td>\n",
       "      <td>Spain</td>\n",
       "      <td>Female</td>\n",
       "      <td>41</td>\n",
       "      <td>1</td>\n",
       "      <td>83807.86</td>\n",
       "      <td>1</td>\n",
       "      <td>0</td>\n",
       "      <td>1</td>\n",
       "      <td>112542.58</td>\n",
       "      <td>0</td>\n",
       "    </tr>\n",
       "    <tr>\n",
       "      <th>2</th>\n",
       "      <td>502</td>\n",
       "      <td>France</td>\n",
       "      <td>Female</td>\n",
       "      <td>42</td>\n",
       "      <td>8</td>\n",
       "      <td>159660.80</td>\n",
       "      <td>3</td>\n",
       "      <td>1</td>\n",
       "      <td>0</td>\n",
       "      <td>113931.57</td>\n",
       "      <td>1</td>\n",
       "    </tr>\n",
       "    <tr>\n",
       "      <th>3</th>\n",
       "      <td>699</td>\n",
       "      <td>France</td>\n",
       "      <td>Female</td>\n",
       "      <td>39</td>\n",
       "      <td>1</td>\n",
       "      <td>0.00</td>\n",
       "      <td>2</td>\n",
       "      <td>0</td>\n",
       "      <td>0</td>\n",
       "      <td>93826.63</td>\n",
       "      <td>0</td>\n",
       "    </tr>\n",
       "    <tr>\n",
       "      <th>4</th>\n",
       "      <td>850</td>\n",
       "      <td>Spain</td>\n",
       "      <td>Female</td>\n",
       "      <td>43</td>\n",
       "      <td>2</td>\n",
       "      <td>125510.82</td>\n",
       "      <td>1</td>\n",
       "      <td>1</td>\n",
       "      <td>1</td>\n",
       "      <td>79084.10</td>\n",
       "      <td>0</td>\n",
       "    </tr>\n",
       "  </tbody>\n",
       "</table>\n",
       "</div>"
      ],
      "text/plain": [
       "   credit_score geography  gender  age  tenure    balance  num_of_products  \\\n",
       "0           619    France  Female   42       2       0.00                1   \n",
       "1           608     Spain  Female   41       1   83807.86                1   \n",
       "2           502    France  Female   42       8  159660.80                3   \n",
       "3           699    France  Female   39       1       0.00                2   \n",
       "4           850     Spain  Female   43       2  125510.82                1   \n",
       "\n",
       "   has_cr_card  is_active_member  estimated_salary  exited  \n",
       "0            1                 1         101348.88       1  \n",
       "1            0                 1         112542.58       0  \n",
       "2            1                 0         113931.57       1  \n",
       "3            0                 0          93826.63       0  \n",
       "4            1                 1          79084.10       0  "
      ]
     },
     "execution_count": 127,
     "metadata": {},
     "output_type": "execute_result"
    }
   ],
   "source": [
    "#Столбцы, которые не войдут в новый DataFrame\n",
    "\n",
    "drop = ['row_number','customer_id', 'surname']\n",
    "\n",
    "#Создаем новый DataFrame\n",
    "\n",
    "data_ml = data.drop(drop, axis=1)\n",
    "\n",
    "#Посмотрим на новый DataFrame\n",
    "\n",
    "data_ml.head()"
   ]
  },
  {
   "cell_type": "code",
   "execution_count": 128,
   "metadata": {},
   "outputs": [
    {
     "data": {
      "text/plain": [
       "(10000, 11)"
      ]
     },
     "execution_count": 128,
     "metadata": {},
     "output_type": "execute_result"
    }
   ],
   "source": [
    "#Посмотрим размер\n",
    "\n",
    "data_ml.shape"
   ]
  },
  {
   "cell_type": "code",
   "execution_count": 129,
   "metadata": {},
   "outputs": [
    {
     "data": {
      "text/html": [
       "<div>\n",
       "<style scoped>\n",
       "    .dataframe tbody tr th:only-of-type {\n",
       "        vertical-align: middle;\n",
       "    }\n",
       "\n",
       "    .dataframe tbody tr th {\n",
       "        vertical-align: top;\n",
       "    }\n",
       "\n",
       "    .dataframe thead th {\n",
       "        text-align: right;\n",
       "    }\n",
       "</style>\n",
       "<table border=\"1\" class=\"dataframe\">\n",
       "  <thead>\n",
       "    <tr style=\"text-align: right;\">\n",
       "      <th></th>\n",
       "      <th>credit_score</th>\n",
       "      <th>age</th>\n",
       "      <th>tenure</th>\n",
       "      <th>balance</th>\n",
       "      <th>num_of_products</th>\n",
       "      <th>has_cr_card</th>\n",
       "      <th>is_active_member</th>\n",
       "      <th>estimated_salary</th>\n",
       "      <th>exited</th>\n",
       "      <th>geography_Germany</th>\n",
       "      <th>geography_Spain</th>\n",
       "      <th>gender_Male</th>\n",
       "    </tr>\n",
       "  </thead>\n",
       "  <tbody>\n",
       "    <tr>\n",
       "      <th>0</th>\n",
       "      <td>619</td>\n",
       "      <td>42</td>\n",
       "      <td>2</td>\n",
       "      <td>0.00</td>\n",
       "      <td>1</td>\n",
       "      <td>1</td>\n",
       "      <td>1</td>\n",
       "      <td>101348.88</td>\n",
       "      <td>1</td>\n",
       "      <td>0</td>\n",
       "      <td>0</td>\n",
       "      <td>0</td>\n",
       "    </tr>\n",
       "    <tr>\n",
       "      <th>1</th>\n",
       "      <td>608</td>\n",
       "      <td>41</td>\n",
       "      <td>1</td>\n",
       "      <td>83807.86</td>\n",
       "      <td>1</td>\n",
       "      <td>0</td>\n",
       "      <td>1</td>\n",
       "      <td>112542.58</td>\n",
       "      <td>0</td>\n",
       "      <td>0</td>\n",
       "      <td>1</td>\n",
       "      <td>0</td>\n",
       "    </tr>\n",
       "    <tr>\n",
       "      <th>2</th>\n",
       "      <td>502</td>\n",
       "      <td>42</td>\n",
       "      <td>8</td>\n",
       "      <td>159660.80</td>\n",
       "      <td>3</td>\n",
       "      <td>1</td>\n",
       "      <td>0</td>\n",
       "      <td>113931.57</td>\n",
       "      <td>1</td>\n",
       "      <td>0</td>\n",
       "      <td>0</td>\n",
       "      <td>0</td>\n",
       "    </tr>\n",
       "    <tr>\n",
       "      <th>3</th>\n",
       "      <td>699</td>\n",
       "      <td>39</td>\n",
       "      <td>1</td>\n",
       "      <td>0.00</td>\n",
       "      <td>2</td>\n",
       "      <td>0</td>\n",
       "      <td>0</td>\n",
       "      <td>93826.63</td>\n",
       "      <td>0</td>\n",
       "      <td>0</td>\n",
       "      <td>0</td>\n",
       "      <td>0</td>\n",
       "    </tr>\n",
       "    <tr>\n",
       "      <th>4</th>\n",
       "      <td>850</td>\n",
       "      <td>43</td>\n",
       "      <td>2</td>\n",
       "      <td>125510.82</td>\n",
       "      <td>1</td>\n",
       "      <td>1</td>\n",
       "      <td>1</td>\n",
       "      <td>79084.10</td>\n",
       "      <td>0</td>\n",
       "      <td>0</td>\n",
       "      <td>1</td>\n",
       "      <td>0</td>\n",
       "    </tr>\n",
       "  </tbody>\n",
       "</table>\n",
       "</div>"
      ],
      "text/plain": [
       "   credit_score  age  tenure    balance  num_of_products  has_cr_card  \\\n",
       "0           619   42       2       0.00                1            1   \n",
       "1           608   41       1   83807.86                1            0   \n",
       "2           502   42       8  159660.80                3            1   \n",
       "3           699   39       1       0.00                2            0   \n",
       "4           850   43       2  125510.82                1            1   \n",
       "\n",
       "   is_active_member  estimated_salary  exited  geography_Germany  \\\n",
       "0                 1         101348.88       1                  0   \n",
       "1                 1         112542.58       0                  0   \n",
       "2                 0         113931.57       1                  0   \n",
       "3                 0          93826.63       0                  0   \n",
       "4                 1          79084.10       0                  0   \n",
       "\n",
       "   geography_Spain  gender_Male  \n",
       "0                0            0  \n",
       "1                1            0  \n",
       "2                0            0  \n",
       "3                0            0  \n",
       "4                1            0  "
      ]
     },
     "execution_count": 129,
     "metadata": {},
     "output_type": "execute_result"
    }
   ],
   "source": [
    "#Чтобы не попасть в Дамми-ловушку, применим к данным функцию get_dummies\n",
    "\n",
    "data_ml = pd.get_dummies(data_ml, drop_first=True)\n",
    "\n",
    "\n",
    "#Посмотрим на обновленные данные\n",
    "data_ml.head()"
   ]
  },
  {
   "cell_type": "code",
   "execution_count": 130,
   "metadata": {},
   "outputs": [
    {
     "data": {
      "text/plain": [
       "(10000, 12)"
      ]
     },
     "execution_count": 130,
     "metadata": {},
     "output_type": "execute_result"
    }
   ],
   "source": [
    "#Посмотрим на изменившийся размер\n",
    "\n",
    "data_ml.shape"
   ]
  },
  {
   "cell_type": "markdown",
   "metadata": {},
   "source": [
    "Количество столбцов увеличилось на 1. Столбец **geography** разделился на 2 новых **geography_Germany** и **geography_Spain**. Столбец **gender** стал **gender_Male**."
   ]
  },
  {
   "cell_type": "code",
   "execution_count": 131,
   "metadata": {},
   "outputs": [
    {
     "data": {
      "text/html": [
       "<div>\n",
       "<style scoped>\n",
       "    .dataframe tbody tr th:only-of-type {\n",
       "        vertical-align: middle;\n",
       "    }\n",
       "\n",
       "    .dataframe tbody tr th {\n",
       "        vertical-align: top;\n",
       "    }\n",
       "\n",
       "    .dataframe thead th {\n",
       "        text-align: right;\n",
       "    }\n",
       "</style>\n",
       "<table border=\"1\" class=\"dataframe\">\n",
       "  <thead>\n",
       "    <tr style=\"text-align: right;\">\n",
       "      <th></th>\n",
       "      <th>credit_score</th>\n",
       "      <th>age</th>\n",
       "      <th>tenure</th>\n",
       "      <th>balance</th>\n",
       "      <th>num_of_products</th>\n",
       "      <th>has_cr_card</th>\n",
       "      <th>is_active_member</th>\n",
       "      <th>estimated_salary</th>\n",
       "      <th>exited</th>\n",
       "      <th>geography_germany</th>\n",
       "      <th>geography_spain</th>\n",
       "      <th>gender_male</th>\n",
       "    </tr>\n",
       "  </thead>\n",
       "  <tbody>\n",
       "    <tr>\n",
       "      <th>0</th>\n",
       "      <td>619</td>\n",
       "      <td>42</td>\n",
       "      <td>2</td>\n",
       "      <td>0.00</td>\n",
       "      <td>1</td>\n",
       "      <td>1</td>\n",
       "      <td>1</td>\n",
       "      <td>101348.88</td>\n",
       "      <td>1</td>\n",
       "      <td>0</td>\n",
       "      <td>0</td>\n",
       "      <td>0</td>\n",
       "    </tr>\n",
       "    <tr>\n",
       "      <th>1</th>\n",
       "      <td>608</td>\n",
       "      <td>41</td>\n",
       "      <td>1</td>\n",
       "      <td>83807.86</td>\n",
       "      <td>1</td>\n",
       "      <td>0</td>\n",
       "      <td>1</td>\n",
       "      <td>112542.58</td>\n",
       "      <td>0</td>\n",
       "      <td>0</td>\n",
       "      <td>1</td>\n",
       "      <td>0</td>\n",
       "    </tr>\n",
       "    <tr>\n",
       "      <th>2</th>\n",
       "      <td>502</td>\n",
       "      <td>42</td>\n",
       "      <td>8</td>\n",
       "      <td>159660.80</td>\n",
       "      <td>3</td>\n",
       "      <td>1</td>\n",
       "      <td>0</td>\n",
       "      <td>113931.57</td>\n",
       "      <td>1</td>\n",
       "      <td>0</td>\n",
       "      <td>0</td>\n",
       "      <td>0</td>\n",
       "    </tr>\n",
       "    <tr>\n",
       "      <th>3</th>\n",
       "      <td>699</td>\n",
       "      <td>39</td>\n",
       "      <td>1</td>\n",
       "      <td>0.00</td>\n",
       "      <td>2</td>\n",
       "      <td>0</td>\n",
       "      <td>0</td>\n",
       "      <td>93826.63</td>\n",
       "      <td>0</td>\n",
       "      <td>0</td>\n",
       "      <td>0</td>\n",
       "      <td>0</td>\n",
       "    </tr>\n",
       "    <tr>\n",
       "      <th>4</th>\n",
       "      <td>850</td>\n",
       "      <td>43</td>\n",
       "      <td>2</td>\n",
       "      <td>125510.82</td>\n",
       "      <td>1</td>\n",
       "      <td>1</td>\n",
       "      <td>1</td>\n",
       "      <td>79084.10</td>\n",
       "      <td>0</td>\n",
       "      <td>0</td>\n",
       "      <td>1</td>\n",
       "      <td>0</td>\n",
       "    </tr>\n",
       "  </tbody>\n",
       "</table>\n",
       "</div>"
      ],
      "text/plain": [
       "   credit_score  age  tenure    balance  num_of_products  has_cr_card  \\\n",
       "0           619   42       2       0.00                1            1   \n",
       "1           608   41       1   83807.86                1            0   \n",
       "2           502   42       8  159660.80                3            1   \n",
       "3           699   39       1       0.00                2            0   \n",
       "4           850   43       2  125510.82                1            1   \n",
       "\n",
       "   is_active_member  estimated_salary  exited  geography_germany  \\\n",
       "0                 1         101348.88       1                  0   \n",
       "1                 1         112542.58       0                  0   \n",
       "2                 0         113931.57       1                  0   \n",
       "3                 0          93826.63       0                  0   \n",
       "4                 1          79084.10       0                  0   \n",
       "\n",
       "   geography_spain  gender_male  \n",
       "0                0            0  \n",
       "1                1            0  \n",
       "2                0            0  \n",
       "3                0            0  \n",
       "4                1            0  "
      ]
     },
     "execution_count": 131,
     "metadata": {},
     "output_type": "execute_result"
    }
   ],
   "source": [
    "#Приведем столбцы к одному регистру\n",
    "\n",
    "data_ml.columns = data_ml.columns.str.lower()\n",
    "\n",
    "data_ml.head()"
   ]
  },
  {
   "cell_type": "markdown",
   "metadata": {},
   "source": [
    "### Разобьем данные на выборки"
   ]
  },
  {
   "cell_type": "markdown",
   "metadata": {},
   "source": [
    "Данные разобьем на три части: обучающую, валидационную и тестовую. Исходные данные разбивают в соотношении 3:1:1."
   ]
  },
  {
   "cell_type": "code",
   "execution_count": 132,
   "metadata": {},
   "outputs": [],
   "source": [
    "#Разделим на признаки и целевой признак\n",
    "\n",
    "features = data_ml.drop('exited', axis=1)\n",
    "\n",
    "target = data_ml['exited']"
   ]
  },
  {
   "cell_type": "code",
   "execution_count": 133,
   "metadata": {},
   "outputs": [],
   "source": [
    "#Обучающая выборка\n",
    "\n",
    "features_train, features_test, target_train, target_test = train_test_split(features,\n",
    "                                                    target,\n",
    "                                                    train_size=0.6,\n",
    "                                                    random_state=12345)"
   ]
  },
  {
   "cell_type": "code",
   "execution_count": 134,
   "metadata": {},
   "outputs": [],
   "source": [
    "#Валидационная и тестовая выборки\n",
    "\n",
    "features_valid, features_test, target_valid, target_test = train_test_split(features_test,\n",
    "                                                    target_test,\n",
    "                                                    train_size=0.5,\n",
    "                                                    random_state=12345)"
   ]
  },
  {
   "cell_type": "markdown",
   "metadata": {},
   "source": [
    "**Обучающая выборка** - features_train, target_train;\n",
    "\n",
    "**Валидационная выборка** - features_valid, target_valid;\n",
    "\n",
    "**Тестовая выборка** - features_test, target_test."
   ]
  },
  {
   "cell_type": "code",
   "execution_count": 135,
   "metadata": {},
   "outputs": [
    {
     "data": {
      "text/plain": [
       "((6000, 11), (2000, 11), (2000, 11))"
      ]
     },
     "execution_count": 135,
     "metadata": {},
     "output_type": "execute_result"
    }
   ],
   "source": [
    "#Проверим разбивку на соотношение 3:1:1\n",
    "\n",
    "features_train.shape, features_valid.shape, features_test.shape"
   ]
  },
  {
   "cell_type": "code",
   "execution_count": 136,
   "metadata": {},
   "outputs": [],
   "source": [
    "#Для масштабирования методом scaler выделим численные признаки\n",
    "\n",
    "numeric = ['credit_score', 'age', 'tenure', 'balance', 'num_of_products', 'estimated_salary']"
   ]
  },
  {
   "cell_type": "code",
   "execution_count": 137,
   "metadata": {},
   "outputs": [
    {
     "data": {
      "text/plain": [
       "StandardScaler()"
      ]
     },
     "execution_count": 137,
     "metadata": {},
     "output_type": "execute_result"
    }
   ],
   "source": [
    "scaler = StandardScaler()\n",
    "\n",
    "scaler.fit(features_train[numeric])"
   ]
  },
  {
   "cell_type": "code",
   "execution_count": 138,
   "metadata": {},
   "outputs": [
    {
     "data": {
      "text/html": [
       "<div>\n",
       "<style scoped>\n",
       "    .dataframe tbody tr th:only-of-type {\n",
       "        vertical-align: middle;\n",
       "    }\n",
       "\n",
       "    .dataframe tbody tr th {\n",
       "        vertical-align: top;\n",
       "    }\n",
       "\n",
       "    .dataframe thead th {\n",
       "        text-align: right;\n",
       "    }\n",
       "</style>\n",
       "<table border=\"1\" class=\"dataframe\">\n",
       "  <thead>\n",
       "    <tr style=\"text-align: right;\">\n",
       "      <th></th>\n",
       "      <th>credit_score</th>\n",
       "      <th>age</th>\n",
       "      <th>tenure</th>\n",
       "      <th>balance</th>\n",
       "      <th>num_of_products</th>\n",
       "      <th>has_cr_card</th>\n",
       "      <th>is_active_member</th>\n",
       "      <th>estimated_salary</th>\n",
       "      <th>geography_germany</th>\n",
       "      <th>geography_spain</th>\n",
       "      <th>gender_male</th>\n",
       "    </tr>\n",
       "  </thead>\n",
       "  <tbody>\n",
       "    <tr>\n",
       "      <th>7479</th>\n",
       "      <td>-0.886751</td>\n",
       "      <td>-0.373192</td>\n",
       "      <td>1.082277</td>\n",
       "      <td>1.232271</td>\n",
       "      <td>-0.891560</td>\n",
       "      <td>1</td>\n",
       "      <td>0</td>\n",
       "      <td>-0.187705</td>\n",
       "      <td>0</td>\n",
       "      <td>1</td>\n",
       "      <td>1</td>\n",
       "    </tr>\n",
       "    <tr>\n",
       "      <th>3411</th>\n",
       "      <td>0.608663</td>\n",
       "      <td>-0.183385</td>\n",
       "      <td>1.082277</td>\n",
       "      <td>0.600563</td>\n",
       "      <td>-0.891560</td>\n",
       "      <td>0</td>\n",
       "      <td>0</td>\n",
       "      <td>-0.333945</td>\n",
       "      <td>0</td>\n",
       "      <td>0</td>\n",
       "      <td>0</td>\n",
       "    </tr>\n",
       "    <tr>\n",
       "      <th>6027</th>\n",
       "      <td>2.052152</td>\n",
       "      <td>0.480939</td>\n",
       "      <td>-0.737696</td>\n",
       "      <td>1.027098</td>\n",
       "      <td>0.830152</td>\n",
       "      <td>0</td>\n",
       "      <td>1</td>\n",
       "      <td>1.503095</td>\n",
       "      <td>1</td>\n",
       "      <td>0</td>\n",
       "      <td>1</td>\n",
       "    </tr>\n",
       "    <tr>\n",
       "      <th>1247</th>\n",
       "      <td>-1.457915</td>\n",
       "      <td>-1.417129</td>\n",
       "      <td>0.354288</td>\n",
       "      <td>-1.233163</td>\n",
       "      <td>0.830152</td>\n",
       "      <td>1</td>\n",
       "      <td>0</td>\n",
       "      <td>-1.071061</td>\n",
       "      <td>0</td>\n",
       "      <td>0</td>\n",
       "      <td>1</td>\n",
       "    </tr>\n",
       "    <tr>\n",
       "      <th>3716</th>\n",
       "      <td>0.130961</td>\n",
       "      <td>-1.132419</td>\n",
       "      <td>-1.101690</td>\n",
       "      <td>1.140475</td>\n",
       "      <td>-0.891560</td>\n",
       "      <td>0</td>\n",
       "      <td>0</td>\n",
       "      <td>1.524268</td>\n",
       "      <td>1</td>\n",
       "      <td>0</td>\n",
       "      <td>0</td>\n",
       "    </tr>\n",
       "  </tbody>\n",
       "</table>\n",
       "</div>"
      ],
      "text/plain": [
       "      credit_score       age    tenure   balance  num_of_products  \\\n",
       "7479     -0.886751 -0.373192  1.082277  1.232271        -0.891560   \n",
       "3411      0.608663 -0.183385  1.082277  0.600563        -0.891560   \n",
       "6027      2.052152  0.480939 -0.737696  1.027098         0.830152   \n",
       "1247     -1.457915 -1.417129  0.354288 -1.233163         0.830152   \n",
       "3716      0.130961 -1.132419 -1.101690  1.140475        -0.891560   \n",
       "\n",
       "      has_cr_card  is_active_member  estimated_salary  geography_germany  \\\n",
       "7479            1                 0         -0.187705                  0   \n",
       "3411            0                 0         -0.333945                  0   \n",
       "6027            0                 1          1.503095                  1   \n",
       "1247            1                 0         -1.071061                  0   \n",
       "3716            0                 0          1.524268                  1   \n",
       "\n",
       "      geography_spain  gender_male  \n",
       "7479                1            1  \n",
       "3411                0            0  \n",
       "6027                0            1  \n",
       "1247                0            1  \n",
       "3716                0            0  "
      ]
     },
     "execution_count": 138,
     "metadata": {},
     "output_type": "execute_result"
    }
   ],
   "source": [
    "#Масштабируем численные признаки обучающей выборки\n",
    "\n",
    "pd.options.mode.chained_assignment = None\n",
    "\n",
    "features_train[numeric] = scaler.transform(features_train[numeric])\n",
    "\n",
    "features_train.head()\n"
   ]
  },
  {
   "cell_type": "code",
   "execution_count": 139,
   "metadata": {},
   "outputs": [
    {
     "data": {
      "text/html": [
       "<div>\n",
       "<style scoped>\n",
       "    .dataframe tbody tr th:only-of-type {\n",
       "        vertical-align: middle;\n",
       "    }\n",
       "\n",
       "    .dataframe tbody tr th {\n",
       "        vertical-align: top;\n",
       "    }\n",
       "\n",
       "    .dataframe thead th {\n",
       "        text-align: right;\n",
       "    }\n",
       "</style>\n",
       "<table border=\"1\" class=\"dataframe\">\n",
       "  <thead>\n",
       "    <tr style=\"text-align: right;\">\n",
       "      <th></th>\n",
       "      <th>credit_score</th>\n",
       "      <th>age</th>\n",
       "      <th>tenure</th>\n",
       "      <th>balance</th>\n",
       "      <th>num_of_products</th>\n",
       "      <th>has_cr_card</th>\n",
       "      <th>is_active_member</th>\n",
       "      <th>estimated_salary</th>\n",
       "      <th>geography_germany</th>\n",
       "      <th>geography_spain</th>\n",
       "      <th>gender_male</th>\n",
       "    </tr>\n",
       "  </thead>\n",
       "  <tbody>\n",
       "    <tr>\n",
       "      <th>8532</th>\n",
       "      <td>-0.699824</td>\n",
       "      <td>-0.373192</td>\n",
       "      <td>-1.101690</td>\n",
       "      <td>-1.233163</td>\n",
       "      <td>0.830152</td>\n",
       "      <td>1</td>\n",
       "      <td>0</td>\n",
       "      <td>-0.015173</td>\n",
       "      <td>0</td>\n",
       "      <td>0</td>\n",
       "      <td>0</td>\n",
       "    </tr>\n",
       "    <tr>\n",
       "      <th>5799</th>\n",
       "      <td>-0.284431</td>\n",
       "      <td>0.575842</td>\n",
       "      <td>-0.737696</td>\n",
       "      <td>-1.233163</td>\n",
       "      <td>-0.891560</td>\n",
       "      <td>1</td>\n",
       "      <td>1</td>\n",
       "      <td>1.471724</td>\n",
       "      <td>0</td>\n",
       "      <td>0</td>\n",
       "      <td>0</td>\n",
       "    </tr>\n",
       "    <tr>\n",
       "      <th>5511</th>\n",
       "      <td>0.151731</td>\n",
       "      <td>-0.657902</td>\n",
       "      <td>-1.829679</td>\n",
       "      <td>0.438711</td>\n",
       "      <td>-0.891560</td>\n",
       "      <td>1</td>\n",
       "      <td>0</td>\n",
       "      <td>-1.367107</td>\n",
       "      <td>1</td>\n",
       "      <td>0</td>\n",
       "      <td>1</td>\n",
       "    </tr>\n",
       "    <tr>\n",
       "      <th>7365</th>\n",
       "      <td>-0.876366</td>\n",
       "      <td>-0.278288</td>\n",
       "      <td>1.810266</td>\n",
       "      <td>1.239884</td>\n",
       "      <td>-0.891560</td>\n",
       "      <td>1</td>\n",
       "      <td>1</td>\n",
       "      <td>-0.786517</td>\n",
       "      <td>0</td>\n",
       "      <td>1</td>\n",
       "      <td>0</td>\n",
       "    </tr>\n",
       "    <tr>\n",
       "      <th>7367</th>\n",
       "      <td>-0.481743</td>\n",
       "      <td>0.291132</td>\n",
       "      <td>1.810266</td>\n",
       "      <td>-1.233163</td>\n",
       "      <td>0.830152</td>\n",
       "      <td>1</td>\n",
       "      <td>0</td>\n",
       "      <td>1.358533</td>\n",
       "      <td>0</td>\n",
       "      <td>1</td>\n",
       "      <td>1</td>\n",
       "    </tr>\n",
       "  </tbody>\n",
       "</table>\n",
       "</div>"
      ],
      "text/plain": [
       "      credit_score       age    tenure   balance  num_of_products  \\\n",
       "8532     -0.699824 -0.373192 -1.101690 -1.233163         0.830152   \n",
       "5799     -0.284431  0.575842 -0.737696 -1.233163        -0.891560   \n",
       "5511      0.151731 -0.657902 -1.829679  0.438711        -0.891560   \n",
       "7365     -0.876366 -0.278288  1.810266  1.239884        -0.891560   \n",
       "7367     -0.481743  0.291132  1.810266 -1.233163         0.830152   \n",
       "\n",
       "      has_cr_card  is_active_member  estimated_salary  geography_germany  \\\n",
       "8532            1                 0         -0.015173                  0   \n",
       "5799            1                 1          1.471724                  0   \n",
       "5511            1                 0         -1.367107                  1   \n",
       "7365            1                 1         -0.786517                  0   \n",
       "7367            1                 0          1.358533                  0   \n",
       "\n",
       "      geography_spain  gender_male  \n",
       "8532                0            0  \n",
       "5799                0            0  \n",
       "5511                0            1  \n",
       "7365                1            0  \n",
       "7367                1            1  "
      ]
     },
     "execution_count": 139,
     "metadata": {},
     "output_type": "execute_result"
    }
   ],
   "source": [
    "#Масштабируем численные признаки валидационной выборки \n",
    "\n",
    "pd.options.mode.chained_assignment = None\n",
    "\n",
    "features_valid[numeric] = scaler.transform(features_valid[numeric])\n",
    "\n",
    "features_valid.head()"
   ]
  },
  {
   "cell_type": "code",
   "execution_count": 140,
   "metadata": {},
   "outputs": [
    {
     "data": {
      "text/html": [
       "<div>\n",
       "<style scoped>\n",
       "    .dataframe tbody tr th:only-of-type {\n",
       "        vertical-align: middle;\n",
       "    }\n",
       "\n",
       "    .dataframe tbody tr th {\n",
       "        vertical-align: top;\n",
       "    }\n",
       "\n",
       "    .dataframe thead th {\n",
       "        text-align: right;\n",
       "    }\n",
       "</style>\n",
       "<table border=\"1\" class=\"dataframe\">\n",
       "  <thead>\n",
       "    <tr style=\"text-align: right;\">\n",
       "      <th></th>\n",
       "      <th>credit_score</th>\n",
       "      <th>age</th>\n",
       "      <th>tenure</th>\n",
       "      <th>balance</th>\n",
       "      <th>num_of_products</th>\n",
       "      <th>has_cr_card</th>\n",
       "      <th>is_active_member</th>\n",
       "      <th>estimated_salary</th>\n",
       "      <th>geography_germany</th>\n",
       "      <th>geography_spain</th>\n",
       "      <th>gender_male</th>\n",
       "    </tr>\n",
       "  </thead>\n",
       "  <tbody>\n",
       "    <tr>\n",
       "      <th>7041</th>\n",
       "      <td>-2.226392</td>\n",
       "      <td>-0.088482</td>\n",
       "      <td>-1.101690</td>\n",
       "      <td>-1.233163</td>\n",
       "      <td>0.830152</td>\n",
       "      <td>1</td>\n",
       "      <td>0</td>\n",
       "      <td>0.647083</td>\n",
       "      <td>0</td>\n",
       "      <td>0</td>\n",
       "      <td>1</td>\n",
       "    </tr>\n",
       "    <tr>\n",
       "      <th>5709</th>\n",
       "      <td>-0.087120</td>\n",
       "      <td>0.006422</td>\n",
       "      <td>1.446272</td>\n",
       "      <td>-1.233163</td>\n",
       "      <td>-0.891560</td>\n",
       "      <td>1</td>\n",
       "      <td>0</td>\n",
       "      <td>-1.658410</td>\n",
       "      <td>0</td>\n",
       "      <td>0</td>\n",
       "      <td>0</td>\n",
       "    </tr>\n",
       "    <tr>\n",
       "      <th>7117</th>\n",
       "      <td>-0.917905</td>\n",
       "      <td>-0.752805</td>\n",
       "      <td>-0.009707</td>\n",
       "      <td>0.722307</td>\n",
       "      <td>-0.891560</td>\n",
       "      <td>1</td>\n",
       "      <td>1</td>\n",
       "      <td>-1.369334</td>\n",
       "      <td>0</td>\n",
       "      <td>1</td>\n",
       "      <td>1</td>\n",
       "    </tr>\n",
       "    <tr>\n",
       "      <th>7775</th>\n",
       "      <td>-0.253277</td>\n",
       "      <td>0.101325</td>\n",
       "      <td>1.810266</td>\n",
       "      <td>-1.233163</td>\n",
       "      <td>0.830152</td>\n",
       "      <td>1</td>\n",
       "      <td>0</td>\n",
       "      <td>0.075086</td>\n",
       "      <td>0</td>\n",
       "      <td>1</td>\n",
       "      <td>1</td>\n",
       "    </tr>\n",
       "    <tr>\n",
       "      <th>8735</th>\n",
       "      <td>0.785204</td>\n",
       "      <td>-0.847708</td>\n",
       "      <td>1.810266</td>\n",
       "      <td>0.615625</td>\n",
       "      <td>-0.891560</td>\n",
       "      <td>0</td>\n",
       "      <td>1</td>\n",
       "      <td>-1.070919</td>\n",
       "      <td>0</td>\n",
       "      <td>0</td>\n",
       "      <td>1</td>\n",
       "    </tr>\n",
       "  </tbody>\n",
       "</table>\n",
       "</div>"
      ],
      "text/plain": [
       "      credit_score       age    tenure   balance  num_of_products  \\\n",
       "7041     -2.226392 -0.088482 -1.101690 -1.233163         0.830152   \n",
       "5709     -0.087120  0.006422  1.446272 -1.233163        -0.891560   \n",
       "7117     -0.917905 -0.752805 -0.009707  0.722307        -0.891560   \n",
       "7775     -0.253277  0.101325  1.810266 -1.233163         0.830152   \n",
       "8735      0.785204 -0.847708  1.810266  0.615625        -0.891560   \n",
       "\n",
       "      has_cr_card  is_active_member  estimated_salary  geography_germany  \\\n",
       "7041            1                 0          0.647083                  0   \n",
       "5709            1                 0         -1.658410                  0   \n",
       "7117            1                 1         -1.369334                  0   \n",
       "7775            1                 0          0.075086                  0   \n",
       "8735            0                 1         -1.070919                  0   \n",
       "\n",
       "      geography_spain  gender_male  \n",
       "7041                0            1  \n",
       "5709                0            0  \n",
       "7117                1            1  \n",
       "7775                1            1  \n",
       "8735                0            1  "
      ]
     },
     "execution_count": 140,
     "metadata": {},
     "output_type": "execute_result"
    }
   ],
   "source": [
    "#Масштабируем численные признаки тестовой выборки \n",
    "\n",
    "pd.options.mode.chained_assignment = None\n",
    "\n",
    "features_test[numeric] = scaler.transform(features_test[numeric])\n",
    "\n",
    "features_test.head()"
   ]
  },
  {
   "cell_type": "markdown",
   "metadata": {},
   "source": [
    "## Изучим модели без учета дисбаланса"
   ]
  },
  {
   "cell_type": "markdown",
   "metadata": {},
   "source": [
    "Попробуем с помощью циклов найти лучшие гиперпараметры для моделей Случайный лес и Дерево решений."
   ]
  },
  {
   "cell_type": "markdown",
   "metadata": {},
   "source": [
    "# Случайный лес"
   ]
  },
  {
   "cell_type": "markdown",
   "metadata": {},
   "source": [
    "Для начала найдем лучшую модель, рассматривая глубину деревьев от 1 до 15 и количество деревьев от 1 до 51 для лучших показателей модели."
   ]
  },
  {
   "cell_type": "code",
   "execution_count": 141,
   "metadata": {},
   "outputs": [
    {
     "name": "stdout",
     "output_type": "stream",
     "text": [
      "Глубина дерева: 1 Количество лесов: 1 0.2484725050916497\n",
      "Глубина дерева: 1 Количество лесов: 4 0.0\n",
      "Глубина дерева: 1 Количество лесов: 7 0.0\n",
      "Глубина дерева: 1 Количество лесов: 10 0.0\n",
      "Глубина дерева: 1 Количество лесов: 13 0.0\n",
      "Глубина дерева: 1 Количество лесов: 16 0.0\n",
      "Глубина дерева: 1 Количество лесов: 19 0.0\n",
      "Глубина дерева: 1 Количество лесов: 22 0.0\n",
      "Глубина дерева: 1 Количество лесов: 25 0.0\n",
      "Глубина дерева: 1 Количество лесов: 28 0.0\n",
      "Глубина дерева: 1 Количество лесов: 31 0.0\n",
      "Глубина дерева: 1 Количество лесов: 34 0.0\n",
      "Глубина дерева: 1 Количество лесов: 37 0.0\n",
      "Глубина дерева: 1 Количество лесов: 40 0.0\n",
      "Глубина дерева: 1 Количество лесов: 43 0.0\n",
      "Глубина дерева: 1 Количество лесов: 46 0.0\n",
      "Глубина дерева: 1 Количество лесов: 49 0.0\n",
      "Глубина дерева: 2 Количество лесов: 1 0.2484725050916497\n",
      "Глубина дерева: 2 Количество лесов: 4 0.1294642857142857\n",
      "Глубина дерева: 2 Количество лесов: 7 0.2\n",
      "Глубина дерева: 2 Количество лесов: 10 0.2\n",
      "Глубина дерева: 2 Количество лесов: 13 0.2\n",
      "Глубина дерева: 2 Количество лесов: 16 0.1853448275862069\n",
      "Глубина дерева: 2 Количество лесов: 19 0.17748917748917747\n",
      "Глубина дерева: 2 Количество лесов: 22 0.133630289532294\n",
      "Глубина дерева: 2 Количество лесов: 25 0.133630289532294\n",
      "Глубина дерева: 2 Количество лесов: 28 0.15824175824175826\n",
      "Глубина дерева: 2 Количество лесов: 31 0.13392857142857142\n",
      "Глубина дерева: 2 Количество лесов: 34 0.16228070175438597\n",
      "Глубина дерева: 2 Количество лесов: 37 0.189247311827957\n",
      "Глубина дерева: 2 Количество лесов: 40 0.17391304347826086\n",
      "Глубина дерева: 2 Количество лесов: 43 0.165938864628821\n",
      "Глубина дерева: 2 Количество лесов: 46 0.1853448275862069\n",
      "Глубина дерева: 2 Количество лесов: 49 0.18181818181818182\n",
      "Глубина дерева: 3 Количество лесов: 1 0.22268041237113403\n",
      "Глубина дерева: 3 Количество лесов: 4 0.34146341463414626\n",
      "Глубина дерева: 3 Количество лесов: 7 0.3788706739526412\n",
      "Глубина дерева: 3 Количество лесов: 10 0.25102880658436216\n",
      "Глубина дерева: 3 Количество лесов: 13 0.24742268041237114\n",
      "Глубина дерева: 3 Количество лесов: 16 0.22964509394572025\n",
      "Глубина дерева: 3 Количество лесов: 19 0.22964509394572025\n",
      "Глубина дерева: 3 Количество лесов: 22 0.23651452282157678\n",
      "Глубина дерева: 3 Количество лесов: 25 0.22964509394572025\n",
      "Глубина дерева: 3 Количество лесов: 28 0.23430962343096237\n",
      "Глубина дерева: 3 Количество лесов: 31 0.24166666666666667\n",
      "Глубина дерева: 3 Количество лесов: 34 0.22268907563025211\n",
      "Глубина дерева: 3 Количество лесов: 37 0.22641509433962267\n",
      "Глубина дерева: 3 Количество лесов: 40 0.22315789473684208\n",
      "Глубина дерева: 3 Количество лесов: 43 0.24793388429752067\n",
      "Глубина дерева: 3 Количество лесов: 46 0.26283367556468173\n",
      "Глубина дерева: 3 Количество лесов: 49 0.2734693877551021\n",
      "Глубина дерева: 4 Количество лесов: 1 0.4391080617495712\n",
      "Глубина дерева: 4 Количество лесов: 4 0.4525043177892919\n",
      "Глубина дерева: 4 Количество лесов: 7 0.5245901639344263\n",
      "Глубина дерева: 4 Количество лесов: 10 0.49578414839797635\n",
      "Глубина дерева: 4 Количество лесов: 13 0.4195298372513563\n",
      "Глубина дерева: 4 Количество лесов: 16 0.4151624548736462\n",
      "Глубина дерева: 4 Количество лесов: 19 0.44169611307420503\n",
      "Глубина дерева: 4 Количество лесов: 22 0.4080145719489982\n",
      "Глубина дерева: 4 Количество лесов: 25 0.4036697247706422\n",
      "Глубина дерева: 4 Количество лесов: 28 0.3896103896103896\n",
      "Глубина дерева: 4 Количество лесов: 31 0.38888888888888884\n",
      "Глубина дерева: 4 Количество лесов: 34 0.3782771535580524\n",
      "Глубина дерева: 4 Количество лесов: 37 0.3691148775894539\n",
      "Глубина дерева: 4 Количество лесов: 40 0.3866171003717472\n",
      "Глубина дерева: 4 Количество лесов: 43 0.4014732965009208\n",
      "Глубина дерева: 4 Количество лесов: 46 0.4007352941176471\n",
      "Глубина дерева: 4 Количество лесов: 49 0.40293040293040294\n",
      "Глубина дерева: 5 Количество лесов: 1 0.4410774410774411\n",
      "Глубина дерева: 5 Количество лесов: 4 0.5176848874598071\n",
      "Глубина дерева: 5 Количество лесов: 7 0.522314049586777\n",
      "Глубина дерева: 5 Количество лесов: 10 0.5170731707317073\n",
      "Глубина дерева: 5 Количество лесов: 13 0.5041459369817578\n",
      "Глубина дерева: 5 Количество лесов: 16 0.5225806451612903\n",
      "Глубина дерева: 5 Количество лесов: 19 0.5307443365695793\n",
      "Глубина дерева: 5 Количество лесов: 22 0.5123966942148759\n",
      "Глубина дерева: 5 Количество лесов: 25 0.5107084019769357\n",
      "Глубина дерева: 5 Количество лесов: 28 0.49498327759197325\n",
      "Глубина дерева: 5 Количество лесов: 31 0.49749582637729545\n",
      "Глубина дерева: 5 Количество лесов: 34 0.48903878583473864\n",
      "Глубина дерева: 5 Количество лесов: 37 0.48217317487266553\n",
      "Глубина дерева: 5 Количество лесов: 40 0.4745762711864407\n",
      "Глубина дерева: 5 Количество лесов: 43 0.4753820033955858\n",
      "Глубина дерева: 5 Количество лесов: 46 0.4709897610921501\n",
      "Глубина дерева: 5 Количество лесов: 49 0.47521367521367525\n",
      "Глубина дерева: 6 Количество лесов: 1 0.4238178633975481\n",
      "Глубина дерева: 6 Количество лесов: 4 0.5263157894736843\n",
      "Глубина дерева: 6 Количество лесов: 7 0.5252854812398042\n",
      "Глубина дерева: 6 Количество лесов: 10 0.5475409836065573\n",
      "Глубина дерева: 6 Количество лесов: 13 0.5442622950819672\n",
      "Глубина дерева: 6 Количество лесов: 16 0.5454545454545455\n",
      "Глубина дерева: 6 Количество лесов: 19 0.5379537953795379\n",
      "Глубина дерева: 6 Количество лесов: 22 0.5364238410596026\n",
      "Глубина дерева: 6 Количество лесов: 25 0.5403624382207578\n",
      "Глубина дерева: 6 Количество лесов: 28 0.5296052631578947\n",
      "Глубина дерева: 6 Количество лесов: 31 0.5385878489326765\n",
      "Глубина дерева: 6 Количество лесов: 34 0.5275459098497496\n",
      "Глубина дерева: 6 Количество лесов: 37 0.5217391304347826\n",
      "Глубина дерева: 6 Количество лесов: 40 0.53\n",
      "Глубина дерева: 6 Количество лесов: 43 0.5361842105263157\n",
      "Глубина дерева: 6 Количество лесов: 46 0.5315614617940199\n",
      "Глубина дерева: 6 Количество лесов: 49 0.5306799336650083\n",
      "Глубина дерева: 7 Количество лесов: 1 0.5327510917030567\n",
      "Глубина дерева: 7 Количество лесов: 4 0.5714285714285715\n",
      "Глубина дерева: 7 Количество лесов: 7 0.5740181268882175\n",
      "Глубина дерева: 7 Количество лесов: 10 0.5625965996908809\n",
      "Глубина дерева: 7 Количество лесов: 13 0.5688073394495413\n",
      "Глубина дерева: 7 Количество лесов: 16 0.5622119815668203\n",
      "Глубина дерева: 7 Количество лесов: 19 0.563944530046225\n",
      "Глубина дерева: 7 Количество лесов: 22 0.5569620253164557\n",
      "Глубина дерева: 7 Количество лесов: 25 0.5520504731861199\n",
      "Глубина дерева: 7 Количество лесов: 28 0.5468998410174881\n",
      "Глубина дерева: 7 Количество лесов: 31 0.5460317460317461\n",
      "Глубина дерева: 7 Количество лесов: 34 0.5537974683544303\n",
      "Глубина дерева: 7 Количество лесов: 37 0.5486443381180223\n",
      "Глубина дерева: 7 Количество лесов: 40 0.5500794912559619\n",
      "Глубина дерева: 7 Количество лесов: 43 0.554675118858954\n",
      "Глубина дерева: 7 Количество лесов: 46 0.5583596214511041\n",
      "Глубина дерева: 7 Количество лесов: 49 0.5578446909667195\n",
      "Глубина дерева: 8 Количество лесов: 1 0.5367316341829085\n",
      "Глубина дерева: 8 Количество лесов: 4 0.5396341463414633\n",
      "Глубина дерева: 8 Количество лесов: 7 0.5683229813664596\n",
      "Глубина дерева: 8 Количество лесов: 10 0.550314465408805\n",
      "Глубина дерева: 8 Количество лесов: 13 0.5593750000000001\n",
      "Глубина дерева: 8 Количество лесов: 16 0.5537974683544303\n",
      "Глубина дерева: 8 Количество лесов: 19 0.5605095541401274\n",
      "Глубина дерева: 8 Количество лесов: 22 0.5705229793977813\n",
      "Глубина дерева: 8 Количество лесов: 25 0.5673534072900158\n",
      "Глубина дерева: 8 Количество лесов: 28 0.5641838351822503\n",
      "Глубина дерева: 8 Количество лесов: 31 0.5650793650793651\n",
      "Глубина дерева: 8 Количество лесов: 34 0.5564387917329094\n",
      "Глубина дерева: 8 Количество лесов: 37 0.5682539682539683\n",
      "Глубина дерева: 8 Количество лесов: 40 0.5654952076677316\n",
      "Глубина дерева: 8 Количество лесов: 43 0.5627980922098569\n",
      "Глубина дерева: 8 Количество лесов: 46 0.5714285714285715\n",
      "Глубина дерева: 8 Количество лесов: 49 0.5727848101265823\n",
      "Глубина дерева: 9 Количество лесов: 1 0.4801097393689987\n",
      "Глубина дерева: 9 Количество лесов: 4 0.5319148936170213\n",
      "Глубина дерева: 9 Количество лесов: 7 0.56793893129771\n",
      "Глубина дерева: 9 Количество лесов: 10 0.5809379727685325\n",
      "Глубина дерева: 9 Количество лесов: 13 0.5635528330781011\n",
      "Глубина дерева: 9 Количество лесов: 16 0.5670731707317073\n",
      "Глубина дерева: 9 Количество лесов: 19 0.5740740740740741\n",
      "Глубина дерева: 9 Количество лесов: 22 0.5655608214849921\n",
      "Глубина дерева: 9 Количество лесов: 25 0.5709779179810726\n",
      "Глубина дерева: 9 Количество лесов: 28 0.5790297339593113\n",
      "Глубина дерева: 9 Количество лесов: 31 0.571875\n",
      "Глубина дерева: 9 Количество лесов: 34 0.5696400625978091\n",
      "Глубина дерева: 9 Количество лесов: 37 0.5772230889235569\n",
      "Глубина дерева: 9 Количество лесов: 40 0.5736677115987461\n",
      "Глубина дерева: 9 Количество лесов: 43 0.5678627145085803\n",
      "Глубина дерева: 9 Количество лесов: 46 0.5628930817610063\n",
      "Глубина дерева: 9 Количество лесов: 49 0.5727699530516431\n",
      "Глубина дерева: 10 Количество лесов: 1 0.5186170212765957\n",
      "Глубина дерева: 10 Количество лесов: 4 0.5296803652968036\n",
      "Глубина дерева: 10 Количество лесов: 7 0.557427258805513\n",
      "Глубина дерева: 10 Количество лесов: 10 0.5891238670694864\n",
      "Глубина дерева: 10 Количество лесов: 13 0.5792682926829268\n",
      "Глубина дерева: 10 Количество лесов: 16 0.5718654434250765\n",
      "Глубина дерева: 10 Количество лесов: 19 0.5731895223420647\n",
      "Глубина дерева: 10 Количество лесов: 22 0.558641975308642\n",
      "Глубина дерева: 10 Количество лесов: 25 0.5595054095826894\n",
      "Глубина дерева: 10 Количество лесов: 28 0.5577812018489985\n",
      "Глубина дерева: 10 Количество лесов: 31 0.5613496932515338\n",
      "Глубина дерева: 10 Количество лесов: 34 0.558641975308642\n",
      "Глубина дерева: 10 Количество лесов: 37 0.5630769230769231\n",
      "Глубина дерева: 10 Количество лесов: 40 0.562111801242236\n",
      "Глубина дерева: 10 Количество лесов: 43 0.5679012345679013\n",
      "Глубина дерева: 10 Количество лесов: 46 0.5572755417956657\n",
      "Глубина дерева: 10 Количество лесов: 49 0.5564142194744978\n",
      "Глубина дерева: 11 Количество лесов: 1 0.5224071702944942\n",
      "Глубина дерева: 11 Количество лесов: 4 0.5166908563134978\n",
      "Глубина дерева: 11 Количество лесов: 7 0.5880640465793304\n",
      "Глубина дерева: 11 Количество лесов: 10 0.5773195876288659\n",
      "Глубина дерева: 11 Количество лесов: 13 0.5765765765765767\n",
      "Глубина дерева: 11 Количество лесов: 16 0.5787106446776611\n",
      "Глубина дерева: 11 Количество лесов: 19 0.5809379727685325\n",
      "Глубина дерева: 11 Количество лесов: 22 0.5762195121951219\n",
      "Глубина дерева: 11 Количество лесов: 25 0.5731707317073171\n",
      "Глубина дерева: 11 Количество лесов: 28 0.5801526717557252\n",
      "Глубина дерева: 11 Количество лесов: 31 0.5731895223420647\n",
      "Глубина дерева: 11 Количество лесов: 34 0.5723076923076923\n",
      "Глубина дерева: 11 Количество лесов: 37 0.5784615384615386\n",
      "Глубина дерева: 11 Количество лесов: 40 0.5793528505392913\n",
      "Глубина дерева: 11 Количество лесов: 43 0.5771604938271605\n",
      "Глубина дерева: 11 Количество лесов: 46 0.56656346749226\n",
      "Глубина дерева: 11 Количество лесов: 49 0.5766871165644172\n",
      "Глубина дерева: 12 Количество лесов: 1 0.5158150851581509\n",
      "Глубина дерева: 12 Количество лесов: 4 0.5294964028776978\n",
      "Глубина дерева: 12 Количество лесов: 7 0.5637982195845697\n",
      "Глубина дерева: 12 Количество лесов: 10 0.5731166912850812\n",
      "Глубина дерева: 12 Количество лесов: 13 0.5650224215246636\n",
      "Глубина дерева: 12 Количество лесов: 16 0.562406015037594\n",
      "Глубина дерева: 12 Количество лесов: 19 0.5697151424287856\n",
      "Глубина дерева: 12 Количество лесов: 22 0.5774436090225564\n",
      "Глубина дерева: 12 Количество лесов: 25 0.572289156626506\n",
      "Глубина дерева: 12 Количество лесов: 28 0.5666666666666667\n",
      "Глубина дерева: 12 Количество лесов: 31 0.5813253012048193\n",
      "Глубина дерева: 12 Количество лесов: 34 0.5791855203619909\n",
      "Глубина дерева: 12 Количество лесов: 37 0.5791855203619909\n",
      "Глубина дерева: 12 Количество лесов: 40 0.5869894099848714\n",
      "Глубина дерева: 12 Количество лесов: 43 0.5757575757575758\n",
      "Глубина дерева: 12 Количество лесов: 46 0.5792682926829268\n",
      "Глубина дерева: 12 Количество лесов: 49 0.5758039816232772\n",
      "Глубина дерева: 13 Количество лесов: 1 0.5145631067961165\n",
      "Глубина дерева: 13 Количество лесов: 4 0.523121387283237\n",
      "Глубина дерева: 13 Количество лесов: 7 0.5651537335285506\n",
      "Глубина дерева: 13 Количество лесов: 10 0.5638766519823789\n",
      "Глубина дерева: 13 Количество лесов: 13 0.585949177877429\n",
      "Глубина дерева: 13 Количество лесов: 16 0.5688622754491017\n",
      "Глубина дерева: 13 Количество лесов: 19 0.5615615615615616\n",
      "Глубина дерева: 13 Количество лесов: 22 0.5727136431784108\n",
      "Глубина дерева: 13 Количество лесов: 25 0.5847076461769116\n",
      "Глубина дерева: 13 Количество лесов: 28 0.5813253012048193\n",
      "Глубина дерева: 13 Количество лесов: 31 0.5822021116138764\n",
      "Глубина дерева: 13 Количество лесов: 34 0.5830815709969789\n",
      "Глубина дерева: 13 Количество лесов: 37 0.5835866261398177\n",
      "Глубина дерева: 13 Количество лесов: 40 0.583206106870229\n",
      "Глубина дерева: 13 Количество лесов: 43 0.5766312594840668\n",
      "Глубина дерева: 13 Количество лесов: 46 0.5761689291101055\n",
      "Глубина дерева: 13 Количество лесов: 49 0.5761689291101055\n",
      "Глубина дерева: 14 Количество лесов: 1 0.4969843184559711\n",
      "Глубина дерева: 14 Количество лесов: 4 0.5343065693430656\n",
      "Глубина дерева: 14 Количество лесов: 7 0.579172610556348\n",
      "Глубина дерева: 14 Количество лесов: 10 0.5834542815674891\n",
      "Глубина дерева: 14 Количество лесов: 13 0.5798816568047338\n",
      "Глубина дерева: 14 Количество лесов: 16 0.5727136431784108\n",
      "Глубина дерева: 14 Количество лесов: 19 0.5799701046337816\n",
      "Глубина дерева: 14 Количество лесов: 22 0.5714285714285714\n",
      "Глубина дерева: 14 Количество лесов: 25 0.5782414307004471\n",
      "Глубина дерева: 14 Количество лесов: 28 0.5692771084337349\n",
      "Глубина дерева: 14 Количество лесов: 31 0.56203288490284\n",
      "Глубина дерева: 14 Количество лесов: 34 0.5684210526315789\n",
      "Глубина дерева: 14 Количество лесов: 37 0.5654135338345865\n",
      "Глубина дерева: 14 Количество лесов: 40 0.5658093797276854\n",
      "Глубина дерева: 14 Количество лесов: 43 0.5803571428571428\n",
      "Глубина дерева: 14 Количество лесов: 46 0.5684210526315789\n",
      "Глубина дерева: 14 Количество лесов: 49 0.5744047619047619\n",
      "0.5891238670694864\n"
     ]
    }
   ],
   "source": [
    "# Рассмотрим глубины дерева от 1 до 15 с шагом 1\n",
    "score = [] #Список понадобится нам, чтобы удобнее было искать самый высокий показатель меры f1\n",
    "\n",
    "for depth in range(1,15,1):\n",
    "    for n in range(1,51,3):\n",
    "        model_rf =  RandomForestClassifier(max_depth=depth,n_estimators=n,random_state=12345).fit(features_train,target_train)\n",
    "        prediction = model_rf.predict(features_valid)\n",
    "        f1 = f1_score(target_valid,prediction)\n",
    "        score.append(f1)\n",
    "        print('Глубина дерева:',depth, 'Количество лесов:',n, f1)\n",
    "print(max(score))"
   ]
  },
  {
   "cell_type": "code",
   "execution_count": 142,
   "metadata": {},
   "outputs": [
    {
     "name": "stdout",
     "output_type": "stream",
     "text": [
      "0.837370477682541\n"
     ]
    }
   ],
   "source": [
    "probabilities_rf = model_rf.predict_proba(features_valid)\n",
    "\n",
    "probabilities_one_valid_rf = probabilities_rf[:,1]\n",
    "\n",
    "auc_roc_rf = roc_auc_score(target_valid,probabilities_one_valid_rf)\n",
    "print(auc_roc_rf)"
   ]
  },
  {
   "cell_type": "markdown",
   "metadata": {},
   "source": [
    "Наивысший показатель меры f1 для модели Случайного леса - 0.5891238670694864. Гиперпараметры max_depth(глубина дерева) = 10, а n_estimators(количество лесов) = 10. AUC-ROC модели равен 0.837370477682541."
   ]
  },
  {
   "cell_type": "markdown",
   "metadata": {},
   "source": [
    "# Дерево решений"
   ]
  },
  {
   "cell_type": "markdown",
   "metadata": {},
   "source": [
    "Для поиска лучшей модели также воспользуемся циклом, чтобы найти лучший гиперпараметр глубины дерева. "
   ]
  },
  {
   "cell_type": "code",
   "execution_count": 143,
   "metadata": {
    "scrolled": true
   },
   "outputs": [
    {
     "name": "stdout",
     "output_type": "stream",
     "text": [
      "Глубина дерева: 1 0.0\n",
      "Глубина дерева: 2 0.5217391304347825\n",
      "Глубина дерева: 3 0.4234875444839857\n",
      "Глубина дерева: 4 0.5528700906344411\n",
      "Глубина дерева: 5 0.5406249999999999\n",
      "Глубина дерева: 6 0.5696969696969697\n",
      "Глубина дерева: 7 0.5320813771517998\n",
      "Глубина дерева: 8 0.5454545454545454\n",
      "Глубина дерева: 9 0.5633802816901409\n",
      "Глубина дерева: 10 0.5385694249649369\n",
      "Глубина дерева: 11 0.5059920106524634\n",
      "Глубина дерева: 12 0.521072796934866\n",
      "Глубина дерева: 13 0.5038961038961038\n",
      "Глубина дерева: 14 0.48675914249684743\n",
      "0.5696969696969697\n"
     ]
    }
   ],
   "source": [
    "# Для поиска лучшего параметра глубины дерева возьмем диапозон от 1 до 15 с шагом 1\n",
    "score = [] #Список понадобится нам, чтобы удобнее было искать самый высокий показатель меры f1\n",
    "\n",
    "for depth in range(1,15,1):\n",
    "    model_dt = DecisionTreeClassifier(max_depth=depth,random_state=12345).fit(features_train,target_train)\n",
    "    prediction = model_dt.predict(features_valid)\n",
    "    f1 = f1_score(target_valid,prediction)\n",
    "    score.append(f1)\n",
    "    print('Глубина дерева:',depth,f1)\n",
    "print(max(score))"
   ]
  },
  {
   "cell_type": "code",
   "execution_count": 144,
   "metadata": {},
   "outputs": [
    {
     "name": "stdout",
     "output_type": "stream",
     "text": [
      "0.6880062182810205\n"
     ]
    }
   ],
   "source": [
    "probabilities_dt = model_dt.predict_proba(features_valid)\n",
    "\n",
    "probabilities_one_valid_dt = probabilities_dt[:,1]\n",
    "\n",
    "auc_roc_dt = roc_auc_score(target_valid,probabilities_one_valid_dt)\n",
    "print(auc_roc_dt)"
   ]
  },
  {
   "cell_type": "markdown",
   "metadata": {},
   "source": [
    "Лучшая модель с показателем меры f1 = 0.5696969696969697 выдала такой результат при гиперпараметре max_depth(глубина дерева) = 6. AUC-ROC = 0.6880062182810205."
   ]
  },
  {
   "cell_type": "markdown",
   "metadata": {},
   "source": [
    "# Логистическая регрессия"
   ]
  },
  {
   "cell_type": "code",
   "execution_count": 145,
   "metadata": {},
   "outputs": [
    {
     "name": "stdout",
     "output_type": "stream",
     "text": [
      "0.33108108108108103\n"
     ]
    }
   ],
   "source": [
    "model_lr = LogisticRegression(random_state=12345).fit(features_train,target_train)\n",
    "prediction = model_lr.predict(features_valid)\n",
    "print(f1_score(target_valid,prediction))"
   ]
  },
  {
   "cell_type": "code",
   "execution_count": 146,
   "metadata": {},
   "outputs": [
    {
     "name": "stdout",
     "output_type": "stream",
     "text": [
      "0.7588026784580114\n"
     ]
    }
   ],
   "source": [
    "probabilities_lr = model_lr.predict_proba(features_valid)\n",
    "\n",
    "probabilities_one_valid_lr = probabilities_lr[:,1]\n",
    "\n",
    "auc_roc_lr = roc_auc_score(target_valid,probabilities_one_valid_lr)\n",
    "print(auc_roc_lr)"
   ]
  },
  {
   "cell_type": "markdown",
   "metadata": {},
   "source": [
    "Модель, обученная логистической регрессией, показала наихудшие результаты. Мера f1 = 0.33108108108108103. AUC-ROC = 0.7588026784580114."
   ]
  },
  {
   "cell_type": "markdown",
   "metadata": {},
   "source": [
    "# Вывод"
   ]
  },
  {
   "cell_type": "markdown",
   "metadata": {},
   "source": [
    "Лучшей из моделей стала модель Случайного леса. При найденных оптимальных гиперпараметрах её мера f1 = 0.5891238670694864. И самый высокий показатель AUC-ROC также у неё - 0.837370477682541."
   ]
  },
  {
   "cell_type": "markdown",
   "metadata": {},
   "source": [
    "## Борьба с дисбалансом"
   ]
  },
  {
   "cell_type": "code",
   "execution_count": 147,
   "metadata": {},
   "outputs": [
    {
     "data": {
      "text/plain": [
       "0    7963\n",
       "1    2037\n",
       "Name: exited, dtype: int64"
      ]
     },
     "execution_count": 147,
     "metadata": {},
     "output_type": "execute_result"
    }
   ],
   "source": [
    "#Посмотрим соотношение данных \n",
    "\n",
    "target.value_counts()"
   ]
  },
  {
   "cell_type": "markdown",
   "metadata": {},
   "source": [
    "Очевидно, что дисбаланс присутствует. Сбалансируем классы выборки. Для этого напишем функцию upsample. Она разделит обучающую выборку на отрицательные и положительные объекты, увеличит количество положительных объектов, создаст новую обучающую выборку и перемешает данные."
   ]
  },
  {
   "cell_type": "code",
   "execution_count": 148,
   "metadata": {},
   "outputs": [],
   "source": [
    "def upsample(features, target, repeat):\n",
    "    features_zeros = features[target == 0]\n",
    "    features_ones = features[target == 1]\n",
    "    target_zeros = target[target == 0]\n",
    "    target_ones = target[target == 1]\n",
    "\n",
    "    features_upsampled = pd.concat([features_zeros] + [features_ones] * repeat)\n",
    "    target_upsampled = pd.concat([target_zeros] + [target_ones] * repeat)\n",
    "    \n",
    "    features_upsampled, target_upsampled = shuffle(\n",
    "        features_upsampled, target_upsampled, random_state=12345)\n",
    "    \n",
    "    return features_upsampled, target_upsampled"
   ]
  },
  {
   "cell_type": "code",
   "execution_count": 149,
   "metadata": {},
   "outputs": [],
   "source": [
    "#Сделаем вызов функции\n",
    "\n",
    "features_upsampled, target_upsampled = upsample(features_train, target_train, 4)"
   ]
  },
  {
   "cell_type": "code",
   "execution_count": 150,
   "metadata": {},
   "outputs": [
    {
     "data": {
      "text/plain": [
       "0    4804\n",
       "1    4784\n",
       "Name: exited, dtype: int64"
      ]
     },
     "execution_count": 150,
     "metadata": {},
     "output_type": "execute_result"
    }
   ],
   "source": [
    "#Проверим, изменилось ли соотношение\n",
    "\n",
    "target_upsampled.value_counts()"
   ]
  },
  {
   "cell_type": "markdown",
   "metadata": {},
   "source": [
    "Классы сбалансированны! Но на всякий случай рассмотрим еще один метод борьбы с дисбалансом. Применим технику downsampling. Напишем функцию downsample, которая разделит обучающую выборку на отрицательные и положительные объекты, отбросит часть отрицательных объектов в случайном порядке, а из полученных данных создаст новую обучающую выборку и перемешает данные."
   ]
  },
  {
   "cell_type": "code",
   "execution_count": 151,
   "metadata": {},
   "outputs": [],
   "source": [
    "def downsample(features, target, fraction):\n",
    "    features_zeros = features[target == 0]\n",
    "    features_ones = features[target == 1]\n",
    "    target_zeros = target[target == 0]\n",
    "    target_ones = target[target == 1]\n",
    "\n",
    "    features_downsampled = pd.concat(\n",
    "        [features_zeros.sample(frac=fraction, random_state=12345)] + [features_ones])\n",
    "    target_downsampled = pd.concat(\n",
    "        [target_zeros.sample(frac=fraction, random_state=12345)] + [target_ones])\n",
    "    \n",
    "    features_downsampled, target_downsampled = shuffle(\n",
    "        features_downsampled, target_downsampled, random_state=12345)\n",
    "    \n",
    "    return features_downsampled, target_downsampled"
   ]
  },
  {
   "cell_type": "code",
   "execution_count": 152,
   "metadata": {},
   "outputs": [],
   "source": [
    "#Сделаем вызов функции\n",
    "\n",
    "features_downsampled, target_downsampled = downsample(features_train, target_train, 0.3)"
   ]
  },
  {
   "cell_type": "code",
   "execution_count": 153,
   "metadata": {},
   "outputs": [
    {
     "data": {
      "text/plain": [
       "0    1441\n",
       "1    1196\n",
       "Name: exited, dtype: int64"
      ]
     },
     "execution_count": 153,
     "metadata": {},
     "output_type": "execute_result"
    }
   ],
   "source": [
    "#Проверим, изменилось ли соотношение\n",
    "\n",
    "target_downsampled.value_counts()"
   ]
  },
  {
   "cell_type": "markdown",
   "metadata": {},
   "source": [
    "### Обучение моделей на сбалансированных данных"
   ]
  },
  {
   "cell_type": "markdown",
   "metadata": {},
   "source": [
    "# Модели , обученные на данных, которые были сбалансированы техникой upsampling."
   ]
  },
  {
   "cell_type": "markdown",
   "metadata": {},
   "source": [
    "Как и в обучении моделей с дисбалансом, воспользуемся циклами для подбора лучших гиперпараметров для моделей."
   ]
  },
  {
   "cell_type": "markdown",
   "metadata": {},
   "source": [
    "# Случайный лес"
   ]
  },
  {
   "cell_type": "code",
   "execution_count": 154,
   "metadata": {},
   "outputs": [
    {
     "name": "stdout",
     "output_type": "stream",
     "text": [
      "Глубина дерева: 1 Количество лесов: 1 0.2484725050916497\n",
      "Глубина дерева: 1 Количество лесов: 4 0.541015625\n",
      "Глубина дерева: 1 Количество лесов: 7 0.5466666666666666\n",
      "Глубина дерева: 1 Количество лесов: 10 0.5159165751920967\n",
      "Глубина дерева: 1 Количество лесов: 13 0.5336048879837066\n",
      "Глубина дерева: 1 Количество лесов: 16 0.5336048879837066\n",
      "Глубина дерева: 1 Количество лесов: 19 0.5336048879837066\n",
      "Глубина дерева: 1 Количество лесов: 22 0.5318021201413426\n",
      "Глубина дерева: 1 Количество лесов: 25 0.5452881976212259\n",
      "Глубина дерева: 1 Количество лесов: 28 0.5452881976212259\n",
      "Глубина дерева: 1 Количество лесов: 31 0.5221757322175732\n",
      "Глубина дерева: 1 Количество лесов: 34 0.5241730279898219\n",
      "Глубина дерева: 1 Количество лесов: 37 0.5403508771929824\n",
      "Глубина дерева: 1 Количество лесов: 40 0.5373913043478261\n",
      "Глубина дерева: 1 Количество лесов: 43 0.5377107364685004\n",
      "Глубина дерева: 1 Количество лесов: 46 0.5373913043478261\n",
      "Глубина дерева: 1 Количество лесов: 49 0.5451197053406998\n",
      "Глубина дерева: 2 Количество лесов: 1 0.4020304568527919\n",
      "Глубина дерева: 2 Количество лесов: 4 0.5454545454545455\n",
      "Глубина дерева: 2 Количество лесов: 7 0.5601577909270218\n",
      "Глубина дерева: 2 Количество лесов: 10 0.5766129032258065\n",
      "Глубина дерева: 2 Количество лесов: 13 0.5690140845070423\n",
      "Глубина дерева: 2 Количество лесов: 16 0.5549348230912476\n",
      "Глубина дерева: 2 Количество лесов: 19 0.5500910746812386\n",
      "Глубина дерева: 2 Количество лесов: 22 0.5459459459459459\n",
      "Глубина дерева: 2 Количество лесов: 25 0.5529522024367386\n",
      "Глубина дерева: 2 Количество лесов: 28 0.5529953917050692\n",
      "Глубина дерева: 2 Количество лесов: 31 0.552346570397112\n",
      "Глубина дерева: 2 Количество лесов: 34 0.5532302092811647\n",
      "Глубина дерева: 2 Количество лесов: 37 0.5652582159624413\n",
      "Глубина дерева: 2 Количество лесов: 40 0.5570093457943924\n",
      "Глубина дерева: 2 Количество лесов: 43 0.5657894736842105\n",
      "Глубина дерева: 2 Количество лесов: 46 0.5587958607714018\n",
      "Глубина дерева: 2 Количество лесов: 49 0.5587958607714018\n",
      "Глубина дерева: 3 Количество лесов: 1 0.48187633262260127\n",
      "Глубина дерева: 3 Количество лесов: 4 0.5297891842346472\n",
      "Глубина дерева: 3 Количество лесов: 7 0.548748921484038\n",
      "Глубина дерева: 3 Количество лесов: 10 0.5792972459639126\n",
      "Глубина дерева: 3 Количество лесов: 13 0.5806451612903226\n",
      "Глубина дерева: 3 Количество лесов: 16 0.5617173524150267\n",
      "Глубина дерева: 3 Количество лесов: 19 0.5706371191135733\n",
      "Глубина дерева: 3 Количество лесов: 22 0.5643382352941176\n",
      "Глубина дерева: 3 Количество лесов: 25 0.5570530098831985\n",
      "Глубина дерева: 3 Количество лесов: 28 0.5560538116591929\n",
      "Глубина дерева: 3 Количество лесов: 31 0.554367201426025\n",
      "Глубина дерева: 3 Количество лесов: 34 0.5528888888888889\n",
      "Глубина дерева: 3 Количество лесов: 37 0.5602901178603807\n",
      "Глубина дерева: 3 Количество лесов: 40 0.5677888989990901\n",
      "Глубина дерева: 3 Количество лесов: 43 0.5664527956003665\n",
      "Глубина дерева: 3 Количество лесов: 46 0.570110701107011\n",
      "Глубина дерева: 3 Количество лесов: 49 0.5695852534562212\n",
      "Глубина дерева: 4 Количество лесов: 1 0.5557768924302788\n",
      "Глубина дерева: 4 Количество лесов: 4 0.5588785046728972\n",
      "Глубина дерева: 4 Количество лесов: 7 0.6042296072507553\n",
      "Глубина дерева: 4 Количество лесов: 10 0.6064257028112451\n",
      "Глубина дерева: 4 Количество лесов: 13 0.5932367149758453\n",
      "Глубина дерева: 4 Количество лесов: 16 0.5957446808510638\n",
      "Глубина дерева: 4 Количество лесов: 19 0.6005946481665014\n",
      "Глубина дерева: 4 Количество лесов: 22 0.6071428571428573\n",
      "Глубина дерева: 4 Количество лесов: 25 0.5978367748279253\n",
      "Глубина дерева: 4 Количество лесов: 28 0.5964912280701754\n",
      "Глубина дерева: 4 Количество лесов: 31 0.5980582524271844\n",
      "Глубина дерева: 4 Количество лесов: 34 0.5976562500000001\n",
      "Глубина дерева: 4 Количество лесов: 37 0.6052889324191969\n",
      "Глубина дерева: 4 Количество лесов: 40 0.6038834951456311\n",
      "Глубина дерева: 4 Количество лесов: 43 0.6009661835748793\n",
      "Глубина дерева: 4 Количество лесов: 46 0.6023391812865497\n",
      "Глубина дерева: 4 Количество лесов: 49 0.6015625\n",
      "Глубина дерева: 5 Количество лесов: 1 0.5532831001076427\n",
      "Глубина дерева: 5 Количество лесов: 4 0.5834146341463414\n",
      "Глубина дерева: 5 Количество лесов: 7 0.6033966033966035\n",
      "Глубина дерева: 5 Количество лесов: 10 0.6046966731898239\n",
      "Глубина дерева: 5 Количество лесов: 13 0.5848513902205178\n",
      "Глубина дерева: 5 Количество лесов: 16 0.5961538461538461\n",
      "Глубина дерева: 5 Количество лесов: 19 0.6091269841269841\n",
      "Глубина дерева: 5 Количество лесов: 22 0.6061204343534059\n",
      "Глубина дерева: 5 Количество лесов: 25 0.6068965517241379\n",
      "Глубина дерева: 5 Количество лесов: 28 0.6007827788649707\n",
      "Глубина дерева: 5 Количество лесов: 31 0.6049261083743843\n",
      "Глубина дерева: 5 Количество лесов: 34 0.5986124876114965\n",
      "Глубина дерева: 5 Количество лесов: 37 0.6043737574552684\n",
      "Глубина дерева: 5 Количество лесов: 40 0.601577909270217\n",
      "Глубина дерева: 5 Количество лесов: 43 0.6029268292682926\n",
      "Глубина дерева: 5 Количество лесов: 46 0.6058823529411765\n",
      "Глубина дерева: 5 Количество лесов: 49 0.6074950690335306\n",
      "Глубина дерева: 6 Количество лесов: 1 0.5775193798449612\n",
      "Глубина дерева: 6 Количество лесов: 4 0.5797373358348968\n",
      "Глубина дерева: 6 Количество лесов: 7 0.5923753665689149\n",
      "Глубина дерева: 6 Количество лесов: 10 0.5886939571150097\n",
      "Глубина дерева: 6 Количество лесов: 13 0.5880039331366764\n",
      "Глубина дерева: 6 Количество лесов: 16 0.596078431372549\n",
      "Глубина дерева: 6 Количество лесов: 19 0.6043737574552684\n",
      "Глубина дерева: 6 Количество лесов: 22 0.6047904191616765\n",
      "Глубина дерева: 6 Количество лесов: 25 0.6078234704112337\n",
      "Глубина дерева: 6 Количество лесов: 28 0.6081754735792622\n",
      "Глубина дерева: 6 Количество лесов: 31 0.6083499005964215\n",
      "Глубина дерева: 6 Количество лесов: 34 0.6067864271457085\n",
      "Глубина дерева: 6 Количество лесов: 37 0.603585657370518\n",
      "Глубина дерева: 6 Количество лесов: 40 0.6023622047244094\n",
      "Глубина дерева: 6 Количество лесов: 43 0.603960396039604\n",
      "Глубина дерева: 6 Количество лесов: 46 0.6033630069238377\n",
      "Глубина дерева: 6 Количество лесов: 49 0.6043307086614174\n",
      "Глубина дерева: 7 Количество лесов: 1 0.5602968460111317\n",
      "Глубина дерева: 7 Количество лесов: 4 0.572232645403377\n",
      "Глубина дерева: 7 Количество лесов: 7 0.5964566929133858\n",
      "Глубина дерева: 7 Количество лесов: 10 0.5970731707317073\n",
      "Глубина дерева: 7 Количество лесов: 13 0.6091269841269841\n",
      "Глубина дерева: 7 Количество лесов: 16 0.6082677165354331\n",
      "Глубина дерева: 7 Количество лесов: 19 0.6156941649899397\n",
      "Глубина дерева: 7 Количество лесов: 22 0.6102719033232628\n",
      "Глубина дерева: 7 Количество лесов: 25 0.6218144750254841\n",
      "Глубина дерева: 7 Количество лесов: 28 0.6169354838709677\n",
      "Глубина дерева: 7 Количество лесов: 31 0.6208291203235592\n",
      "Глубина дерева: 7 Количество лесов: 34 0.6155398587285571\n",
      "Глубина дерева: 7 Количество лесов: 37 0.6204819277108434\n",
      "Глубина дерева: 7 Количество лесов: 40 0.6176762661370407\n",
      "Глубина дерева: 7 Количество лесов: 43 0.6133866133866134\n",
      "Глубина дерева: 7 Количество лесов: 46 0.6170854271356784\n",
      "Глубина дерева: 7 Количество лесов: 49 0.6143001007049347\n",
      "Глубина дерева: 8 Количество лесов: 1 0.5596059113300493\n",
      "Глубина дерева: 8 Количество лесов: 4 0.5786290322580645\n",
      "Глубина дерева: 8 Количество лесов: 7 0.602238046795524\n",
      "Глубина дерева: 8 Количество лесов: 10 0.6125\n",
      "Глубина дерева: 8 Количество лесов: 13 0.6207605344295992\n",
      "Глубина дерева: 8 Количество лесов: 16 0.6147540983606556\n",
      "Глубина дерева: 8 Количество лесов: 19 0.6220391349124613\n",
      "Глубина дерева: 8 Количество лесов: 22 0.6252587991718427\n",
      "Глубина дерева: 8 Количество лесов: 25 0.6269270298047276\n",
      "Глубина дерева: 8 Количество лесов: 28 0.6211180124223603\n",
      "Глубина дерева: 8 Количество лесов: 31 0.6207605344295992\n",
      "Глубина дерева: 8 Количество лесов: 34 0.6179196704428424\n",
      "Глубина дерева: 8 Количество лесов: 37 0.6198347107438017\n",
      "Глубина дерева: 8 Количество лесов: 40 0.6163391933815926\n",
      "Глубина дерева: 8 Количество лесов: 43 0.6163391933815926\n",
      "Глубина дерева: 8 Количество лесов: 46 0.616822429906542\n",
      "Глубина дерева: 8 Количество лесов: 49 0.6214807090719499\n",
      "Глубина дерева: 9 Количество лесов: 1 0.5365402405180388\n",
      "Глубина дерева: 9 Количество лесов: 4 0.5685483870967741\n",
      "Глубина дерева: 9 Количество лесов: 7 0.6029411764705882\n",
      "Глубина дерева: 9 Количество лесов: 10 0.6029723991507432\n",
      "Глубина дерева: 9 Количество лесов: 13 0.6023329798515378\n",
      "Глубина дерева: 9 Количество лесов: 16 0.5980911983032874\n",
      "Глубина дерева: 9 Количество лесов: 19 0.5967914438502674\n",
      "Глубина дерева: 9 Количество лесов: 22 0.6087888531618436\n",
      "Глубина дерева: 9 Количество лесов: 25 0.6143931256713211\n",
      "Глубина дерева: 9 Количество лесов: 28 0.6098081023454158\n",
      "Глубина дерева: 9 Количество лесов: 31 0.6198083067092651\n",
      "Глубина дерева: 9 Количество лесов: 34 0.6193001060445388\n",
      "Глубина дерева: 9 Количество лесов: 37 0.6191489361702128\n",
      "Глубина дерева: 9 Количество лесов: 40 0.6207627118644068\n",
      "Глубина дерева: 9 Количество лесов: 43 0.6247334754797441\n",
      "Глубина дерева: 9 Количество лесов: 46 0.6239316239316238\n",
      "Глубина дерева: 9 Количество лесов: 49 0.6219382321618744\n",
      "Глубина дерева: 10 Количество лесов: 1 0.533462657613967\n",
      "Глубина дерева: 10 Количество лесов: 4 0.5754310344827587\n",
      "Глубина дерева: 10 Количество лесов: 7 0.5831578947368421\n",
      "Глубина дерева: 10 Количество лесов: 10 0.5849462365591399\n",
      "Глубина дерева: 10 Количество лесов: 13 0.6025641025641025\n",
      "Глубина дерева: 10 Количество лесов: 16 0.6061899679829243\n",
      "Глубина дерева: 10 Количество лесов: 19 0.614054054054054\n",
      "Глубина дерева: 10 Количество лесов: 22 0.6130434782608695\n",
      "Глубина дерева: 10 Количество лесов: 25 0.6150490730643402\n",
      "Глубина дерева: 10 Количество лесов: 28 0.6175514626218851\n",
      "Глубина дерева: 10 Количество лесов: 31 0.6210640608034745\n",
      "Глубина дерева: 10 Количество лесов: 34 0.6173913043478261\n",
      "Глубина дерева: 10 Количество лесов: 37 0.6163934426229508\n",
      "Глубина дерева: 10 Количество лесов: 40 0.6190998902305158\n",
      "Глубина дерева: 10 Количество лесов: 43 0.615553121577218\n",
      "Глубина дерева: 10 Количество лесов: 46 0.6214442013129103\n",
      "Глубина дерева: 10 Количество лесов: 49 0.6206140350877193\n",
      "Глубина дерева: 11 Количество лесов: 1 0.5450941526263628\n",
      "Глубина дерева: 11 Количество лесов: 4 0.56\n",
      "Глубина дерева: 11 Количество лесов: 7 0.5925925925925927\n",
      "Глубина дерева: 11 Количество лесов: 10 0.5950226244343891\n",
      "Глубина дерева: 11 Количество лесов: 13 0.607909604519774\n",
      "Глубина дерева: 11 Количество лесов: 16 0.609673790776153\n",
      "Глубина дерева: 11 Количество лесов: 19 0.6099773242630385\n",
      "Глубина дерева: 11 Количество лесов: 22 0.6090909090909091\n",
      "Глубина дерева: 11 Количество лесов: 25 0.6083995459704882\n",
      "Глубина дерева: 11 Количество лесов: 28 0.6072234762979685\n",
      "Глубина дерева: 11 Количество лесов: 31 0.6059225512528474\n",
      "Глубина дерева: 11 Количество лесов: 34 0.6138165345413363\n",
      "Глубина дерева: 11 Количество лесов: 37 0.6115515288788222\n",
      "Глубина дерева: 11 Количество лесов: 40 0.6174801362088536\n",
      "Глубина дерева: 11 Количество лесов: 43 0.6167800453514739\n",
      "Глубина дерева: 11 Количество лесов: 46 0.6148648648648649\n",
      "Глубина дерева: 11 Количество лесов: 49 0.6185101580135439\n",
      "Глубина дерева: 12 Количество лесов: 1 0.5034965034965035\n",
      "Глубина дерева: 12 Количество лесов: 4 0.5372460496613995\n",
      "Глубина дерева: 12 Количество лесов: 7 0.5842956120092379\n",
      "Глубина дерева: 12 Количество лесов: 10 0.5875576036866359\n",
      "Глубина дерева: 12 Количество лесов: 13 0.6032110091743119\n",
      "Глубина дерева: 12 Количество лесов: 16 0.6108490566037735\n",
      "Глубина дерева: 12 Количество лесов: 19 0.605568445475638\n",
      "Глубина дерева: 12 Количество лесов: 22 0.5993031358885017\n",
      "Глубина дерева: 12 Количество лесов: 25 0.6109175377468061\n",
      "Глубина дерева: 12 Количество лесов: 28 0.6071842410196988\n",
      "Глубина дерева: 12 Количество лесов: 31 0.6102088167053364\n",
      "Глубина дерева: 12 Количество лесов: 34 0.6091015169194866\n",
      "Глубина дерева: 12 Количество лесов: 37 0.6021003500583431\n",
      "Глубина дерева: 12 Количество лесов: 40 0.6013986013986014\n",
      "Глубина дерева: 12 Количество лесов: 43 0.6060606060606061\n",
      "Глубина дерева: 12 Количество лесов: 46 0.6023255813953489\n",
      "Глубина дерева: 12 Количество лесов: 49 0.6116279069767442\n",
      "Глубина дерева: 13 Количество лесов: 1 0.5216515609264853\n",
      "Глубина дерева: 13 Количество лесов: 4 0.5640423031727378\n",
      "Глубина дерева: 13 Количество лесов: 7 0.6061997703788748\n",
      "Глубина дерева: 13 Количество лесов: 10 0.6146682188591385\n",
      "Глубина дерева: 13 Количество лесов: 13 0.6089965397923875\n",
      "Глубина дерева: 13 Количество лесов: 16 0.6097271648873073\n",
      "Глубина дерева: 13 Количество лесов: 19 0.6195524146054182\n",
      "Глубина дерева: 13 Количество лесов: 22 0.6150178784266984\n",
      "Глубина дерева: 13 Количество лесов: 25 0.6174334140435835\n",
      "Глубина дерева: 13 Количество лесов: 28 0.6189320388349514\n",
      "Глубина дерева: 13 Количество лесов: 31 0.6189320388349514\n",
      "Глубина дерева: 13 Количество лесов: 34 0.617611580217129\n",
      "Глубина дерева: 13 Количество лесов: 37 0.6135265700483091\n",
      "Глубина дерева: 13 Количество лесов: 40 0.619277108433735\n",
      "Глубина дерева: 13 Количество лесов: 43 0.6142684401451026\n",
      "Глубина дерева: 13 Количество лесов: 46 0.6129807692307692\n",
      "Глубина дерева: 13 Количество лесов: 49 0.6140776699029126\n",
      "Глубина дерева: 14 Количество лесов: 1 0.4925053533190578\n",
      "Глубина дерева: 14 Количество лесов: 4 0.5333333333333333\n",
      "Глубина дерева: 14 Количество лесов: 7 0.5866983372921615\n",
      "Глубина дерева: 14 Количество лесов: 10 0.6067961165048544\n",
      "Глубина дерева: 14 Количество лесов: 13 0.6097560975609756\n",
      "Глубина дерева: 14 Количество лесов: 16 0.6157635467980296\n",
      "Глубина дерева: 14 Количество лесов: 19 0.6219512195121951\n",
      "Глубина дерева: 14 Количество лесов: 22 0.619753086419753\n",
      "Глубина дерева: 14 Количество лесов: 25 0.6188118811881188\n",
      "Глубина дерева: 14 Количество лесов: 28 0.6218905472636815\n",
      "Глубина дерева: 14 Количество лесов: 31 0.6205191594561187\n",
      "Глубина дерева: 14 Количество лесов: 34 0.6134663341645886\n",
      "Глубина дерева: 14 Количество лесов: 37 0.6228287841191066\n",
      "Глубина дерева: 14 Количество лесов: 40 0.6161490683229813\n",
      "Глубина дерева: 14 Количество лесов: 43 0.6153846153846153\n",
      "Глубина дерева: 14 Количество лесов: 46 0.6163366336633663\n",
      "Глубина дерева: 14 Количество лесов: 49 0.6127450980392157\n",
      "0.6269270298047276\n"
     ]
    }
   ],
   "source": [
    "# Рассмотрим диапозон значений глубины дерева от 1 до 15\n",
    "\n",
    "score=[] #Список понадобится нам, чтобы удобнее было искать самый высокий показатель меры f1\n",
    "\n",
    "for depth in range(1,15,1):\n",
    "    for n in range(1,51,3):\n",
    "        model_rf =  RandomForestClassifier(max_depth=depth,n_estimators=n,random_state=12345).fit(features_upsampled,target_upsampled)\n",
    "        prediction = model_rf.predict(features_valid)\n",
    "        f1 = f1_score(target_valid,prediction)\n",
    "        score.append(f1)\n",
    "        print('Глубина дерева:',depth,'Количество лесов:',n,f1)\n",
    "print(max(score))"
   ]
  },
  {
   "cell_type": "code",
   "execution_count": 155,
   "metadata": {},
   "outputs": [
    {
     "name": "stdout",
     "output_type": "stream",
     "text": [
      "0.8442609439931283\n"
     ]
    }
   ],
   "source": [
    "probabilities_rf = model_rf.predict_proba(features_valid)\n",
    "\n",
    "probabilities_one_valid_rf = probabilities_rf[:,1]\n",
    "\n",
    "auc_roc_rf = roc_auc_score(target_valid,probabilities_one_valid_rf)\n",
    "print(auc_roc_rf)"
   ]
  },
  {
   "cell_type": "markdown",
   "metadata": {},
   "source": [
    "Наилучший показатель f1 = 0.6269270298047276, он получился при подобранных гиперпараметрах max_depth = 8 (глубина дерева) и n_estimators = 25 (количество лесов). AUC-ROC = 0.8442609439931283. Модель показывает лучший результат на сбалансированных классах."
   ]
  },
  {
   "cell_type": "markdown",
   "metadata": {},
   "source": [
    "# Дерево решений"
   ]
  },
  {
   "cell_type": "code",
   "execution_count": 156,
   "metadata": {},
   "outputs": [
    {
     "name": "stdout",
     "output_type": "stream",
     "text": [
      "Глубина дерева: 1 0.4994903160040775\n",
      "Глубина дерева: 2 0.541015625\n",
      "Глубина дерева: 3 0.541015625\n",
      "Глубина дерева: 4 0.5277777777777778\n",
      "Глубина дерева: 5 0.5963791267305644\n",
      "Глубина дерева: 6 0.5581835383159887\n",
      "Глубина дерева: 7 0.5524752475247525\n",
      "Глубина дерева: 8 0.5408560311284047\n",
      "Глубина дерева: 9 0.5405940594059405\n",
      "Глубина дерева: 10 0.5159420289855072\n",
      "Глубина дерева: 11 0.5351521511017839\n",
      "Глубина дерева: 12 0.5117227319062181\n",
      "Глубина дерева: 13 0.5119825708061002\n",
      "Глубина дерева: 14 0.4994375703037121\n",
      "0.5963791267305644\n"
     ]
    }
   ],
   "source": [
    "# Для поиска лучшего параметра глубины дерева возьмем диапозон от 1 до 15 с шагом 1\n",
    "\n",
    "score = [] #Список понадобится нам, чтобы удобнее было искать самый высокий показатель меры f1\n",
    "\n",
    "for depth in range(1,15,1):\n",
    "    model_dt = DecisionTreeClassifier(max_depth=depth,random_state=12345).fit(features_upsampled,target_upsampled)\n",
    "    prediction = model_dt.predict(features_valid)\n",
    "    f1 = f1_score(target_valid,prediction)\n",
    "    score.append(f1)\n",
    "    print('Глубина дерева:',depth,f1)\n",
    "print(max(score))"
   ]
  },
  {
   "cell_type": "code",
   "execution_count": 157,
   "metadata": {},
   "outputs": [
    {
     "name": "stdout",
     "output_type": "stream",
     "text": [
      "0.7002197267101785\n"
     ]
    }
   ],
   "source": [
    "probabilities_dt = model_dt.predict_proba(features_valid)\n",
    "\n",
    "probabilities_one_valid_dt = probabilities_dt[:,1]\n",
    "\n",
    "auc_roc_dt = roc_auc_score(target_valid,probabilities_one_valid_dt)\n",
    "print(auc_roc_dt)"
   ]
  },
  {
   "cell_type": "markdown",
   "metadata": {},
   "source": [
    "Лучший показатель меры f1 = 0.5963791267305644, он достигнут при помощи гиперпараметра max_depth = 5 (глубина дерева). AUC-ROC = 0.7002197267101785. Показатели стали чуть лучше на сбалансированных данных, но пока лидирует модель Случайного леса. "
   ]
  },
  {
   "cell_type": "markdown",
   "metadata": {},
   "source": [
    "# Логистическая регрессия"
   ]
  },
  {
   "cell_type": "code",
   "execution_count": 158,
   "metadata": {},
   "outputs": [
    {
     "name": "stdout",
     "output_type": "stream",
     "text": [
      "0.4888507718696398\n"
     ]
    }
   ],
   "source": [
    "model_lr = LogisticRegression(random_state=12345).fit(features_upsampled,target_upsampled)\n",
    "prediction = model_lr.predict(features_valid)\n",
    "print(f1_score(target_valid,prediction))"
   ]
  },
  {
   "cell_type": "code",
   "execution_count": 159,
   "metadata": {},
   "outputs": [
    {
     "name": "stdout",
     "output_type": "stream",
     "text": [
      "0.7636206364664678\n"
     ]
    }
   ],
   "source": [
    "probabilities_lr = model_lr.predict_proba(features_valid)\n",
    "\n",
    "probabilities_one_valid_lr = probabilities_lr[:,1]\n",
    "\n",
    "auc_roc_lr = roc_auc_score(target_valid,probabilities_one_valid_lr)\n",
    "print(auc_roc_lr)"
   ]
  },
  {
   "cell_type": "markdown",
   "metadata": {},
   "source": [
    "Показатель f1 вырос до 0.4888507718696398. За AUC-ROC также заметен рост - 0.7636206364664678. Баланс классов тоже пошел на пользу модели."
   ]
  },
  {
   "cell_type": "markdown",
   "metadata": {},
   "source": [
    "Лучшая модель по показателям меры f1 и AUC-ROC - это модель Случайного леса. Построим ROC-кривую для оценки адекватности."
   ]
  },
  {
   "cell_type": "markdown",
   "metadata": {},
   "source": [
    "# Модели , обученные на данных, которые были сбалансированы техникой downsampling."
   ]
  },
  {
   "cell_type": "markdown",
   "metadata": {},
   "source": [
    "# Случайный лес"
   ]
  },
  {
   "cell_type": "code",
   "execution_count": 160,
   "metadata": {},
   "outputs": [
    {
     "name": "stdout",
     "output_type": "stream",
     "text": [
      "Глубина дерева: 1 Количество лесов: 1 0.2484725050916497\n",
      "Глубина дерева: 1 Количество лесов: 4 0.5447667087011349\n",
      "Глубина дерева: 1 Количество лесов: 7 0.5371120107962214\n",
      "Глубина дерева: 1 Количество лесов: 10 0.4055944055944056\n",
      "Глубина дерева: 1 Количество лесов: 13 0.4131944444444444\n",
      "Глубина дерева: 1 Количество лесов: 16 0.4714714714714715\n",
      "Глубина дерева: 1 Количество лесов: 19 0.5583126550868488\n",
      "Глубина дерева: 1 Количество лесов: 22 0.5566502463054187\n",
      "Глубина дерева: 1 Количество лесов: 25 0.5432098765432098\n",
      "Глубина дерева: 1 Количество лесов: 28 0.5391304347826086\n",
      "Глубина дерева: 1 Количество лесов: 31 0.5361596009975063\n",
      "Глубина дерева: 1 Количество лесов: 34 0.5437908496732026\n",
      "Глубина дерева: 1 Количество лесов: 37 0.5519053876478319\n",
      "Глубина дерева: 1 Количество лесов: 40 0.5591133004926109\n",
      "Глубина дерева: 1 Количество лесов: 43 0.5271739130434783\n",
      "Глубина дерева: 1 Количество лесов: 46 0.5563725490196078\n",
      "Глубина дерева: 1 Количество лесов: 49 0.5567765567765567\n",
      "Глубина дерева: 2 Количество лесов: 1 0.4020304568527919\n",
      "Глубина дерева: 2 Количество лесов: 4 0.5394456289978679\n",
      "Глубина дерева: 2 Количество лесов: 7 0.5856980703745743\n",
      "Глубина дерева: 2 Количество лесов: 10 0.590455049944506\n",
      "Глубина дерева: 2 Количество лесов: 13 0.5751479289940827\n",
      "Глубина дерева: 2 Количество лесов: 16 0.5855758880516685\n",
      "Глубина дерева: 2 Количество лесов: 19 0.5779716466739367\n",
      "Глубина дерева: 2 Количество лесов: 22 0.5831533477321815\n",
      "Глубина дерева: 2 Количество лесов: 25 0.5761658031088084\n",
      "Глубина дерева: 2 Количество лесов: 28 0.574712643678161\n",
      "Глубина дерева: 2 Количество лесов: 31 0.5815450643776824\n",
      "Глубина дерева: 2 Количество лесов: 34 0.5753715498938429\n",
      "Глубина дерева: 2 Количество лесов: 37 0.5839736553238198\n",
      "Глубина дерева: 2 Количество лесов: 40 0.5828819068255687\n",
      "Глубина дерева: 2 Количество лесов: 43 0.5866666666666667\n",
      "Глубина дерева: 2 Количество лесов: 46 0.5902004454342986\n",
      "Глубина дерева: 2 Количество лесов: 49 0.589247311827957\n",
      "Глубина дерева: 3 Количество лесов: 1 0.48074179743223966\n",
      "Глубина дерева: 3 Количество лесов: 4 0.5156993339676499\n",
      "Глубина дерева: 3 Количество лесов: 7 0.5528301886792452\n",
      "Глубина дерева: 3 Количество лесов: 10 0.5949748743718594\n",
      "Глубина дерева: 3 Количество лесов: 13 0.5906432748538012\n",
      "Глубина дерева: 3 Количество лесов: 16 0.5758454106280193\n",
      "Глубина дерева: 3 Количество лесов: 19 0.5799404170804369\n",
      "Глубина дерева: 3 Количество лесов: 22 0.5836653386454184\n",
      "Глубина дерева: 3 Количество лесов: 25 0.5935613682092555\n",
      "Глубина дерева: 3 Количество лесов: 28 0.5837512537612839\n",
      "Глубина дерева: 3 Количество лесов: 31 0.5876494023904383\n",
      "Глубина дерева: 3 Количество лесов: 34 0.5821782178217823\n",
      "Глубина дерева: 3 Количество лесов: 37 0.5949238578680203\n",
      "Глубина дерева: 3 Количество лесов: 40 0.5951417004048584\n",
      "Глубина дерева: 3 Количество лесов: 43 0.5938775510204082\n",
      "Глубина дерева: 3 Количество лесов: 46 0.5922131147540983\n",
      "Глубина дерева: 3 Количество лесов: 49 0.5948717948717949\n",
      "Глубина дерева: 4 Количество лесов: 1 0.5525525525525525\n",
      "Глубина дерева: 4 Количество лесов: 4 0.5544354838709679\n",
      "Глубина дерева: 4 Количество лесов: 7 0.5740181268882175\n",
      "Глубина дерева: 4 Количество лесов: 10 0.6186252771618626\n",
      "Глубина дерева: 4 Количество лесов: 13 0.6073752711496746\n",
      "Глубина дерева: 4 Количество лесов: 16 0.6129032258064516\n",
      "Глубина дерева: 4 Количество лесов: 19 0.621978021978022\n",
      "Глубина дерева: 4 Количество лесов: 22 0.6222707423580787\n",
      "Глубина дерева: 4 Количество лесов: 25 0.6132177681473456\n",
      "Глубина дерева: 4 Количество лесов: 28 0.6167023554603854\n",
      "Глубина дерева: 4 Количество лесов: 31 0.6119402985074627\n",
      "Глубина дерева: 4 Количество лесов: 34 0.6168831168831168\n",
      "Глубина дерева: 4 Количество лесов: 37 0.6170678336980308\n",
      "Глубина дерева: 4 Количество лесов: 40 0.6172300981461287\n",
      "Глубина дерева: 4 Количество лесов: 43 0.6209150326797385\n",
      "Глубина дерева: 4 Количество лесов: 46 0.6224156692056584\n",
      "Глубина дерева: 4 Количество лесов: 49 0.6225596529284164\n",
      "Глубина дерева: 5 Количество лесов: 1 0.5476923076923076\n",
      "Глубина дерева: 5 Количество лесов: 4 0.5576354679802956\n",
      "Глубина дерева: 5 Количество лесов: 7 0.5856573705179282\n",
      "Глубина дерева: 5 Количество лесов: 10 0.620616365568544\n",
      "Глубина дерева: 5 Количество лесов: 13 0.5997973657548126\n",
      "Глубина дерева: 5 Количество лесов: 16 0.5925925925925926\n",
      "Глубина дерева: 5 Количество лесов: 19 0.6004056795131846\n",
      "Глубина дерева: 5 Количество лесов: 22 0.5975609756097561\n",
      "Глубина дерева: 5 Количество лесов: 25 0.606811145510836\n",
      "Глубина дерева: 5 Количество лесов: 28 0.6078838174273858\n",
      "Глубина дерева: 5 Количество лесов: 31 0.6113445378151261\n",
      "Глубина дерева: 5 Количество лесов: 34 0.6136125654450261\n",
      "Глубина дерева: 5 Количество лесов: 37 0.6161934805467928\n",
      "Глубина дерева: 5 Количество лесов: 40 0.614736842105263\n",
      "Глубина дерева: 5 Количество лесов: 43 0.6230200633579726\n",
      "Глубина дерева: 5 Количество лесов: 46 0.6201058201058202\n",
      "Глубина дерева: 5 Количество лесов: 49 0.6222222222222222\n",
      "Глубина дерева: 6 Количество лесов: 1 0.49204864359214223\n",
      "Глубина дерева: 6 Количество лесов: 4 0.584313725490196\n",
      "Глубина дерева: 6 Количество лесов: 7 0.588477366255144\n",
      "Глубина дерева: 6 Количество лесов: 10 0.6035751840168244\n",
      "Глубина дерева: 6 Количество лесов: 13 0.6019007391763465\n",
      "Глубина дерева: 6 Количество лесов: 16 0.6014568158168574\n",
      "Глубина дерева: 6 Количество лесов: 19 0.604602510460251\n",
      "Глубина дерева: 6 Количество лесов: 22 0.6027111574556829\n",
      "Глубина дерева: 6 Количество лесов: 25 0.6166842661034847\n",
      "Глубина дерева: 6 Количество лесов: 28 0.6181434599156118\n",
      "Глубина дерева: 6 Количество лесов: 31 0.6226415094339622\n",
      "Глубина дерева: 6 Количество лесов: 34 0.6226415094339622\n",
      "Глубина дерева: 6 Количество лесов: 37 0.6253934942287513\n",
      "Глубина дерева: 6 Количество лесов: 40 0.6259220231822971\n",
      "Глубина дерева: 6 Количество лесов: 43 0.6251319957761352\n",
      "Глубина дерева: 6 Количество лесов: 46 0.6207627118644068\n",
      "Глубина дерева: 6 Количество лесов: 49 0.6201058201058202\n",
      "Глубина дерева: 7 Количество лесов: 1 0.5334555453712191\n",
      "Глубина дерева: 7 Количество лесов: 4 0.5611650485436893\n",
      "Глубина дерева: 7 Количество лесов: 7 0.5830039525691699\n",
      "Глубина дерева: 7 Количество лесов: 10 0.5890688259109311\n",
      "Глубина дерева: 7 Количество лесов: 13 0.6049382716049383\n",
      "Глубина дерева: 7 Количество лесов: 16 0.5991983967935872\n",
      "Глубина дерева: 7 Количество лесов: 19 0.6006066734074823\n",
      "Глубина дерева: 7 Количество лесов: 22 0.6050761421319797\n",
      "Глубина дерева: 7 Количество лесов: 25 0.6049382716049383\n",
      "Глубина дерева: 7 Количество лесов: 28 0.6134969325153374\n",
      "Глубина дерева: 7 Количество лесов: 31 0.6087844739530134\n",
      "Глубина дерева: 7 Количество лесов: 34 0.610134436401241\n",
      "Глубина дерева: 7 Количество лесов: 37 0.6145833333333333\n",
      "Глубина дерева: 7 Количество лесов: 40 0.6182572614107884\n",
      "Глубина дерева: 7 Количество лесов: 43 0.6144329896907217\n",
      "Глубина дерева: 7 Количество лесов: 46 0.6090534979423868\n",
      "Глубина дерева: 7 Количество лесов: 49 0.6035015447991762\n",
      "Глубина дерева: 8 Количество лесов: 1 0.5074037512339586\n",
      "Глубина дерева: 8 Количество лесов: 4 0.5457979225684608\n",
      "Глубина дерева: 8 Количество лесов: 7 0.5851780558229066\n",
      "Глубина дерева: 8 Количество лесов: 10 0.5947521865889213\n",
      "Глубина дерева: 8 Количество лесов: 13 0.6002014098690837\n",
      "Глубина дерева: 8 Количество лесов: 16 0.5956175298804781\n",
      "Глубина дерева: 8 Количество лесов: 19 0.6010152284263959\n",
      "Глубина дерева: 8 Количество лесов: 22 0.5983772819472617\n",
      "Глубина дерева: 8 Количество лесов: 25 0.6018423746161718\n",
      "Глубина дерева: 8 Количество лесов: 28 0.6\n",
      "Глубина дерева: 8 Количество лесов: 31 0.5995893223819301\n",
      "Глубина дерева: 8 Количество лесов: 34 0.6059979317476731\n",
      "Глубина дерева: 8 Количество лесов: 37 0.6062500000000001\n",
      "Глубина дерева: 8 Количество лесов: 40 0.6066252587991718\n",
      "Глубина дерева: 8 Количество лесов: 43 0.6029106029106029\n",
      "Глубина дерева: 8 Количество лесов: 46 0.6072538860103628\n",
      "Глубина дерева: 8 Количество лесов: 49 0.6077003121748179\n",
      "Глубина дерева: 9 Количество лесов: 1 0.5411089866156787\n",
      "Глубина дерева: 9 Количество лесов: 4 0.5641025641025641\n",
      "Глубина дерева: 9 Количество лесов: 7 0.5845845845845846\n",
      "Глубина дерева: 9 Количество лесов: 10 0.6006006006006005\n",
      "Глубина дерева: 9 Количество лесов: 13 0.6074672048435923\n",
      "Глубина дерева: 9 Количество лесов: 16 0.6036217303822937\n",
      "Глубина дерева: 9 Количество лесов: 19 0.5931174089068827\n",
      "Глубина дерева: 9 Количество лесов: 22 0.5981688708036622\n",
      "Глубина дерева: 9 Количество лесов: 25 0.6030456852791878\n",
      "Глубина дерева: 9 Количество лесов: 28 0.6042726347914548\n",
      "Глубина дерева: 9 Количество лесов: 31 0.6087844739530134\n",
      "Глубина дерева: 9 Количество лесов: 34 0.6147540983606556\n",
      "Глубина дерева: 9 Количество лесов: 37 0.6198347107438017\n",
      "Глубина дерева: 9 Количество лесов: 40 0.6142709410548086\n",
      "Глубина дерева: 9 Количество лесов: 43 0.619979402677652\n",
      "Глубина дерева: 9 Количество лесов: 46 0.6190476190476191\n",
      "Глубина дерева: 9 Количество лесов: 49 0.6093264248704664\n",
      "Глубина дерева: 10 Количество лесов: 1 0.4782993799822853\n",
      "Глубина дерева: 10 Количество лесов: 4 0.5439999999999999\n",
      "Глубина дерева: 10 Количество лесов: 7 0.5866935483870968\n",
      "Глубина дерева: 10 Количество лесов: 10 0.5938775510204082\n",
      "Глубина дерева: 10 Количество лесов: 13 0.5924412665985701\n",
      "Глубина дерева: 10 Количество лесов: 16 0.6\n",
      "Глубина дерева: 10 Количество лесов: 19 0.5993820803295572\n",
      "Глубина дерева: 10 Количество лесов: 22 0.6072538860103628\n",
      "Глубина дерева: 10 Количество лесов: 25 0.6033057851239669\n",
      "Глубина дерева: 10 Количество лесов: 28 0.6071794871794871\n",
      "Глубина дерева: 10 Количество лесов: 31 0.6061855670103093\n",
      "Глубина дерева: 10 Количество лесов: 34 0.6053719008264464\n",
      "Глубина дерева: 10 Количество лесов: 37 0.6113989637305699\n",
      "Глубина дерева: 10 Количество лесов: 40 0.6133056133056134\n",
      "Глубина дерева: 10 Количество лесов: 43 0.6122026887280247\n",
      "Глубина дерева: 10 Количество лесов: 46 0.6112266112266111\n",
      "Глубина дерева: 10 Количество лесов: 49 0.6137787056367432\n",
      "Глубина дерева: 11 Количество лесов: 1 0.4796380090497738\n",
      "Глубина дерева: 11 Количество лесов: 4 0.534769833496572\n",
      "Глубина дерева: 11 Количество лесов: 7 0.5557655954631379\n",
      "Глубина дерева: 11 Количество лесов: 10 0.566824644549763\n",
      "Глубина дерева: 11 Количество лесов: 13 0.5780795344325897\n",
      "Глубина дерева: 11 Количество лесов: 16 0.5855072463768116\n",
      "Глубина дерева: 11 Количество лесов: 19 0.5954500494559841\n",
      "Глубина дерева: 11 Количество лесов: 22 0.596039603960396\n",
      "Глубина дерева: 11 Количество лесов: 25 0.6011904761904762\n",
      "Глубина дерева: 11 Количество лесов: 28 0.6053946053946054\n",
      "Глубина дерева: 11 Количество лесов: 31 0.5928143712574849\n",
      "Глубина дерева: 11 Количество лесов: 34 0.5991983967935872\n",
      "Глубина дерева: 11 Количество лесов: 37 0.606\n",
      "Глубина дерева: 11 Количество лесов: 40 0.6046046046046046\n",
      "Глубина дерева: 11 Количество лесов: 43 0.6066066066066066\n",
      "Глубина дерева: 11 Количество лесов: 46 0.6104417670682731\n",
      "Глубина дерева: 11 Количество лесов: 49 0.6092184368737475\n",
      "Глубина дерева: 12 Количество лесов: 1 0.50355871886121\n",
      "Глубина дерева: 12 Количество лесов: 4 0.5230769230769231\n",
      "Глубина дерева: 12 Количество лесов: 7 0.5703422053231939\n",
      "Глубина дерева: 12 Количество лесов: 10 0.575\n",
      "Глубина дерева: 12 Количество лесов: 13 0.5834970530451867\n",
      "Глубина дерева: 12 Количество лесов: 16 0.5865102639296187\n",
      "Глубина дерева: 12 Количество лесов: 19 0.5801376597836775\n",
      "Глубина дерева: 12 Количество лесов: 22 0.5871921182266009\n",
      "Глубина дерева: 12 Количество лесов: 25 0.5916334661354582\n",
      "Глубина дерева: 12 Количество лесов: 28 0.6032064128256514\n",
      "Глубина дерева: 12 Количество лесов: 31 0.6042296072507553\n",
      "Глубина дерева: 12 Количество лесов: 34 0.5993945509586277\n",
      "Глубина дерева: 12 Количество лесов: 37 0.5977933801404213\n",
      "Глубина дерева: 12 Количество лесов: 40 0.5905905905905906\n",
      "Глубина дерева: 12 Количество лесов: 43 0.59214501510574\n",
      "Глубина дерева: 12 Количество лесов: 46 0.5945399393326594\n",
      "Глубина дерева: 12 Количество лесов: 49 0.596173212487412\n",
      "Глубина дерева: 13 Количество лесов: 1 0.5097674418604651\n",
      "Глубина дерева: 13 Количество лесов: 4 0.5508474576271187\n",
      "Глубина дерева: 13 Количество лесов: 7 0.5700197238658776\n",
      "Глубина дерева: 13 Количество лесов: 10 0.5797392176529589\n",
      "Глубина дерева: 13 Количество лесов: 13 0.5867195242814668\n",
      "Глубина дерева: 13 Количество лесов: 16 0.5906838453914767\n",
      "Глубина дерева: 13 Количество лесов: 19 0.5973763874873864\n",
      "Глубина дерева: 13 Количество лесов: 22 0.6032064128256514\n",
      "Глубина дерева: 13 Количество лесов: 25 0.6106719367588933\n",
      "Глубина дерева: 13 Количество лесов: 28 0.6126482213438735\n",
      "Глубина дерева: 13 Количество лесов: 31 0.6073926073926074\n",
      "Глубина дерева: 13 Количество лесов: 34 0.61\n",
      "Глубина дерева: 13 Количество лесов: 37 0.6013986013986014\n",
      "Глубина дерева: 13 Количество лесов: 40 0.597609561752988\n",
      "Глубина дерева: 13 Количество лесов: 43 0.5964214711729622\n",
      "Глубина дерева: 13 Количество лесов: 46 0.6087824351297404\n",
      "Глубина дерева: 13 Количество лесов: 49 0.6043737574552684\n",
      "Глубина дерева: 14 Количество лесов: 1 0.5086505190311418\n",
      "Глубина дерева: 14 Количество лесов: 4 0.5417989417989418\n",
      "Глубина дерева: 14 Количество лесов: 7 0.5649717514124293\n",
      "Глубина дерева: 14 Количество лесов: 10 0.5740000000000001\n",
      "Глубина дерева: 14 Количество лесов: 13 0.584070796460177\n",
      "Глубина дерева: 14 Количество лесов: 16 0.5757575757575757\n",
      "Глубина дерева: 14 Количество лесов: 19 0.5796812749003984\n",
      "Глубина дерева: 14 Количество лесов: 22 0.5819265143992055\n",
      "Глубина дерева: 14 Количество лесов: 25 0.5947006869479882\n",
      "Глубина дерева: 14 Количество лесов: 28 0.5962113659022932\n",
      "Глубина дерева: 14 Количество лесов: 31 0.6013986013986014\n",
      "Глубина дерева: 14 Количество лесов: 34 0.5934065934065935\n",
      "Глубина дерева: 14 Количество лесов: 37 0.6018054162487462\n",
      "Глубина дерева: 14 Количество лесов: 40 0.6008064516129031\n",
      "Глубина дерева: 14 Количество лесов: 43 0.6050251256281407\n",
      "Глубина дерева: 14 Количество лесов: 46 0.6046046046046046\n",
      "Глубина дерева: 14 Количество лесов: 49 0.6052631578947368\n",
      "0.6259220231822971\n"
     ]
    }
   ],
   "source": [
    "# Рассмотрим диапозон значений глубины дерева от 1 до 15\n",
    "\n",
    "score=[] #Список понадобится нам, чтобы удобнее было искать самый высокий показатель меры f1\n",
    "\n",
    "for depth in range(1,15,1):\n",
    "    for n in range(1,51,3):\n",
    "        model_rf_d =  RandomForestClassifier(max_depth=depth,n_estimators=n,random_state=12345).fit(features_downsampled, target_downsampled)\n",
    "        prediction = model_rf_d.predict(features_valid)\n",
    "        f1 = f1_score(target_valid,prediction)\n",
    "        score.append(f1)\n",
    "        print('Глубина дерева:',depth,'Количество лесов:',n,f1)\n",
    "print(max(score))"
   ]
  },
  {
   "cell_type": "code",
   "execution_count": 161,
   "metadata": {},
   "outputs": [
    {
     "name": "stdout",
     "output_type": "stream",
     "text": [
      "0.8406172309292943\n"
     ]
    }
   ],
   "source": [
    "probabilities_rf_d = model_rf_d.predict_proba(features_valid)\n",
    "\n",
    "probabilities_one_valid_rf_d = probabilities_rf_d[:,1]\n",
    "\n",
    "auc_roc_rf_d = roc_auc_score(target_valid,probabilities_one_valid_rf_d)\n",
    "print(auc_roc_rf_d)"
   ]
  },
  {
   "cell_type": "markdown",
   "metadata": {},
   "source": [
    "Наилучший показатель f1 = 0.6259220231822971, он получился при подобранных гиперпараметрах max_depth = 6 (глубина дерева) и n_estimators = 40 (количество лесов). AUC-ROC = 0.8406172309292943. Модель показывает лучший результат на сбалансированных классах."
   ]
  },
  {
   "cell_type": "markdown",
   "metadata": {},
   "source": [
    "# Дерево решений"
   ]
  },
  {
   "cell_type": "code",
   "execution_count": 162,
   "metadata": {},
   "outputs": [
    {
     "name": "stdout",
     "output_type": "stream",
     "text": [
      "Глубина дерева: 1 0.5061845861084681\n",
      "Глубина дерева: 2 0.5394495412844036\n",
      "Глубина дерева: 3 0.5394495412844036\n",
      "Глубина дерева: 4 0.5491329479768786\n",
      "Глубина дерева: 5 0.579212916246216\n",
      "Глубина дерева: 6 0.5789473684210527\n",
      "Глубина дерева: 7 0.5588235294117647\n",
      "Глубина дерева: 8 0.5572441742654509\n",
      "Глубина дерева: 9 0.5313092979127135\n",
      "Глубина дерева: 10 0.5355871886120996\n",
      "Глубина дерева: 11 0.5246511627906976\n",
      "Глубина дерева: 12 0.5253456221198157\n",
      "Глубина дерева: 13 0.5276073619631901\n",
      "Глубина дерева: 14 0.5176056338028169\n",
      "0.579212916246216\n"
     ]
    }
   ],
   "source": [
    "# Для поиска лучшего параметра глубины дерева возьмем диапозон от 1 до 15 с шагом 1\n",
    "\n",
    "score = [] #Список понадобится нам, чтобы удобнее было искать самый высокий показатель меры f1\n",
    "\n",
    "for depth in range(1,15,1):\n",
    "    model_dt_d = DecisionTreeClassifier(max_depth=depth,random_state=12345).fit(features_downsampled, target_downsampled)\n",
    "    prediction = model_dt_d.predict(features_valid)\n",
    "    f1 = f1_score(target_valid,prediction)\n",
    "    score.append(f1)\n",
    "    print('Глубина дерева:',depth,f1)\n",
    "print(max(score))"
   ]
  },
  {
   "cell_type": "code",
   "execution_count": 164,
   "metadata": {},
   "outputs": [
    {
     "name": "stdout",
     "output_type": "stream",
     "text": [
      "0.7232040781761322\n"
     ]
    }
   ],
   "source": [
    "probabilities_dt_d = model_dt_d.predict_proba(features_valid)\n",
    "\n",
    "probabilities_one_valid_dt_d = probabilities_dt_d[:,1]\n",
    "\n",
    "auc_roc_dt_d = roc_auc_score(target_valid,probabilities_one_valid_dt_d)\n",
    "print(auc_roc_dt_d)"
   ]
  },
  {
   "cell_type": "markdown",
   "metadata": {},
   "source": [
    "Лучший показатель меры f1 = 0.579212916246216, он достигнут при помощи гиперпараметра max_depth = 5 (глубина дерева). AUC-ROC = 0.7232040781761322. Показатели стали чуть лучше на сбалансированных данных."
   ]
  },
  {
   "cell_type": "markdown",
   "metadata": {},
   "source": [
    "# Логистическая регрессия"
   ]
  },
  {
   "cell_type": "code",
   "execution_count": 165,
   "metadata": {},
   "outputs": [
    {
     "name": "stdout",
     "output_type": "stream",
     "text": [
      "0.497164461247637\n"
     ]
    }
   ],
   "source": [
    "model_lr_d = LogisticRegression(random_state=12345).fit(features_downsampled, target_downsampled)\n",
    "prediction = model_lr_d.predict(features_valid)\n",
    "print(f1_score(target_valid,prediction))"
   ]
  },
  {
   "cell_type": "code",
   "execution_count": 166,
   "metadata": {},
   "outputs": [
    {
     "name": "stdout",
     "output_type": "stream",
     "text": [
      "0.7637461513800592\n"
     ]
    }
   ],
   "source": [
    "probabilities_lr_d = model_lr_d.predict_proba(features_valid)\n",
    "\n",
    "probabilities_one_valid_lr_d = probabilities_lr_d[:,1]\n",
    "\n",
    "auc_roc_lr_d = roc_auc_score(target_valid,probabilities_one_valid_lr_d)\n",
    "print(auc_roc_lr_d)"
   ]
  },
  {
   "cell_type": "markdown",
   "metadata": {},
   "source": [
    "Показатель f1 вырос до 0.497164461247637. За AUC-ROC также заметен рост - 0.7637461513800592. Баланс классов тоже пошел на пользу модели."
   ]
  },
  {
   "cell_type": "code",
   "execution_count": 167,
   "metadata": {},
   "outputs": [
    {
     "data": {
      "text/html": [
       "<div>\n",
       "<style scoped>\n",
       "    .dataframe tbody tr th:only-of-type {\n",
       "        vertical-align: middle;\n",
       "    }\n",
       "\n",
       "    .dataframe tbody tr th {\n",
       "        vertical-align: top;\n",
       "    }\n",
       "\n",
       "    .dataframe thead th {\n",
       "        text-align: right;\n",
       "    }\n",
       "</style>\n",
       "<table border=\"1\" class=\"dataframe\">\n",
       "  <thead>\n",
       "    <tr style=\"text-align: right;\">\n",
       "      <th></th>\n",
       "      <th>Случайный лес</th>\n",
       "      <th>Дерево Решения</th>\n",
       "      <th>Логистическая регрессия</th>\n",
       "    </tr>\n",
       "  </thead>\n",
       "  <tbody>\n",
       "    <tr>\n",
       "      <th>F1 без учета дисбаланса</th>\n",
       "      <td>0.589124</td>\n",
       "      <td>0.569697</td>\n",
       "      <td>0.331081</td>\n",
       "    </tr>\n",
       "    <tr>\n",
       "      <th>F1 с учетом дисбаланса(upsampling)</th>\n",
       "      <td>0.626927</td>\n",
       "      <td>0.596379</td>\n",
       "      <td>0.488851</td>\n",
       "    </tr>\n",
       "    <tr>\n",
       "      <th>F1 с учетом дисбаланса(downsampling)</th>\n",
       "      <td>0.625922</td>\n",
       "      <td>0.579213</td>\n",
       "      <td>0.497164</td>\n",
       "    </tr>\n",
       "    <tr>\n",
       "      <th>AUC-ROC без учета дисбаланса</th>\n",
       "      <td>0.837370</td>\n",
       "      <td>0.688006</td>\n",
       "      <td>0.758803</td>\n",
       "    </tr>\n",
       "    <tr>\n",
       "      <th>AUC-ROC с учетом дисбаланса(upsampling)</th>\n",
       "      <td>0.844261</td>\n",
       "      <td>0.700220</td>\n",
       "      <td>0.763631</td>\n",
       "    </tr>\n",
       "    <tr>\n",
       "      <th>AUC-ROC с учетом дисбаланса(downsampling)</th>\n",
       "      <td>0.840617</td>\n",
       "      <td>0.723204</td>\n",
       "      <td>0.763746</td>\n",
       "    </tr>\n",
       "  </tbody>\n",
       "</table>\n",
       "</div>"
      ],
      "text/plain": [
       "                                           Случайный лес  Дерево Решения  \\\n",
       "F1 без учета дисбаланса                         0.589124        0.569697   \n",
       "F1 с учетом дисбаланса(upsampling)              0.626927        0.596379   \n",
       "F1 с учетом дисбаланса(downsampling)            0.625922        0.579213   \n",
       "AUC-ROC без учета дисбаланса                    0.837370        0.688006   \n",
       "AUC-ROC с учетом дисбаланса(upsampling)         0.844261        0.700220   \n",
       "AUC-ROC с учетом дисбаланса(downsampling)       0.840617        0.723204   \n",
       "\n",
       "                                           Логистическая регрессия  \n",
       "F1 без учета дисбаланса                                   0.331081  \n",
       "F1 с учетом дисбаланса(upsampling)                        0.488851  \n",
       "F1 с учетом дисбаланса(downsampling)                      0.497164  \n",
       "AUC-ROC без учета дисбаланса                              0.758803  \n",
       "AUC-ROC с учетом дисбаланса(upsampling)                   0.763631  \n",
       "AUC-ROC с учетом дисбаланса(downsampling)                 0.763746  "
      ]
     },
     "execution_count": 167,
     "metadata": {},
     "output_type": "execute_result"
    }
   ],
   "source": [
    "table_1 = {'Случайный лес':np.array([0.5891238670694864,0.6269270298047276,0.6259220231822971,\n",
    "                                     0.837370477682541,0.8442609439931283,0.8406172309292943]),\n",
    "           'Дерево Решения':np.array([0.5696969696969697,0.5963791267305644,0.579212916246216,\n",
    "                                      0.6880062182810205,0.7002197267101785,0.7232040781761322]),\n",
    "           'Логистическая регрессия':np.array([0.33108108108108103,0.4888507718696398,0.497164461247637,\n",
    "                                               0.7588026784580114,0.7636312220615901,0.7637461513800592])}\n",
    "\n",
    "table_total = pd.DataFrame(table_1,index=['F1 без учета дисбаланса','F1 с учетом дисбаланса(upsampling)', \n",
    "                                          'F1 с учетом дисбаланса(downsampling)',\n",
    "                                          'AUC-ROC без учета дисбаланса','AUC-ROC с учетом дисбаланса(upsampling)',\n",
    "                                          'AUC-ROC с учетом дисбаланса(downsampling)'])\n",
    "\n",
    "table_total"
   ]
  },
  {
   "cell_type": "markdown",
   "metadata": {},
   "source": [
    "Можем сделать вывод, что, в данном случае, техника для балансирования классов upsampling справилась со своей задачей немного лучше, чем техника downsampling,. Логистической регрессии пришлись по духу данные, сбалансированные техникой downsampling."
   ]
  },
  {
   "cell_type": "markdown",
   "metadata": {},
   "source": [
    "Лучшая модель по показателям меры f1 и AUC-ROC - это модель Случайного леса, обученная на сбалансированных данных по технике upsampling. Построим ROC-кривую для оценки адекватности."
   ]
  },
  {
   "cell_type": "markdown",
   "metadata": {},
   "source": [
    "# ROC-кривая лучшей модели"
   ]
  },
  {
   "cell_type": "code",
   "execution_count": 168,
   "metadata": {},
   "outputs": [],
   "source": [
    "fpr_rf,tpr_rf,thresholds = roc_curve(target_valid,probabilities_one_valid_rf)"
   ]
  },
  {
   "cell_type": "code",
   "execution_count": 169,
   "metadata": {},
   "outputs": [
    {
     "data": {
      "image/png": "[encoded data removed]",
      "text/plain": [
       "<Figure size 432x432 with 1 Axes>"
      ]
     },
     "metadata": {
      "needs_background": "light"
     },
     "output_type": "display_data"
    }
   ],
   "source": [
    "plt.figure(figsize=(6, 6))\n",
    "plt.plot(fpr_rf, tpr_rf)\n",
    "plt.plot([0, 1], [0, 1], linestyle='--')\n",
    "plt.xlabel('False Positive Rate ')\n",
    "plt.ylabel('True Positive Rate ')\n",
    "plt.ylim([0.0, 1.05])\n",
    "plt.xlim([0.0, 1.0])\n",
    "plt.title('ROC-кривая')\n",
    "plt.show() \n"
   ]
  },
  {
   "cell_type": "markdown",
   "metadata": {},
   "source": [
    "Произведем тестирование модели."
   ]
  },
  {
   "cell_type": "markdown",
   "metadata": {},
   "source": [
    "# Тестирование модели"
   ]
  },
  {
   "cell_type": "code",
   "execution_count": 170,
   "metadata": {},
   "outputs": [
    {
     "name": "stdout",
     "output_type": "stream",
     "text": [
      "0.6019656019656019\n"
     ]
    }
   ],
   "source": [
    "prediction = model_rf.predict(features_test)\n",
    "\n",
    "print(f1_score(target_test, prediction))"
   ]
  },
  {
   "cell_type": "markdown",
   "metadata": {},
   "source": [
    "Итоговая задача выполнена. Нам удалось достичь показатель f1 меры не менее 0.59."
   ]
  },
  {
   "cell_type": "markdown",
   "metadata": {},
   "source": [
    "# Общий вывод"
   ]
  },
  {
   "cell_type": "markdown",
   "metadata": {},
   "source": [
    "Для решения задачи нам в первую очередь потребовалось подготовить данные для дальнейшего взаимодействия с ними. В столбце **tenure** заменили пропуски на медианное значение и изменили тип данных на целочисленный. Привели названия столбцов к нижнему регистру, явных дубликатов не выявили. Создали новый DataFrame без ненужной для нас информации. С помощью техники OHE преобразовали данные в столбцах. Разбили данные на выборки: обучающую, валидационную и тестовую. Произвели масштабирование признаков. Обучили модели на данных без учета дисбаланса. Лучшие результаты показала модель Случайного леса с найденными гиперпараметрами max_depth=10, n_estimators = 10. При этих параметрах f1 = 0.5891238670694864, AUC-ROC модели равен 0.837370477682541. Решили проблему дисбаланса и на новых данных обучили модели. Лучший показатель меры f1, как и в прошлый раз, оказался у модели Случайного леса: f1 = 0.6269270298047276, он получился при подобранных гиперпараметрах max_depth = 8 (глубина дерева) и n_estimators = 25(количество лесов), AUC-ROC = 0.8442609439931283. Построили ROC-кривую, которая показывает отличие нашей модели от случайной. Протестировали модель на тестовой выборке, получили показатель меры f1 = 0.6019656019656019."
   ]
  }
 ],
 "metadata": {
  "ExecuteTimeLog": [
   {
    "duration": 1492,
    "start_time": "2023-01-20T09:16:44.875Z"
   },
   {
    "duration": 176,
    "start_time": "2023-01-20T09:19:43.834Z"
   },
   {
    "duration": 43,
    "start_time": "2023-01-20T09:21:26.546Z"
   },
   {
    "duration": 3,
    "start_time": "2023-01-20T09:22:30.535Z"
   },
   {
    "duration": 67,
    "start_time": "2023-01-20T09:24:14.856Z"
   },
   {
    "duration": 5,
    "start_time": "2023-01-20T09:40:45.603Z"
   },
   {
    "duration": 5,
    "start_time": "2023-01-20T09:40:50.432Z"
   },
   {
    "duration": 13,
    "start_time": "2023-01-20T09:41:51.096Z"
   },
   {
    "duration": 5,
    "start_time": "2023-01-20T09:43:09.285Z"
   },
   {
    "duration": 1013,
    "start_time": "2023-01-20T09:49:18.309Z"
   },
   {
    "duration": 5,
    "start_time": "2023-01-20T09:49:33.917Z"
   },
   {
    "duration": 77,
    "start_time": "2023-01-20T09:49:33.924Z"
   },
   {
    "duration": 25,
    "start_time": "2023-01-20T09:49:34.003Z"
   },
   {
    "duration": 87,
    "start_time": "2023-01-20T09:49:34.030Z"
   },
   {
    "duration": 13,
    "start_time": "2023-01-20T09:49:34.119Z"
   },
   {
    "duration": 7,
    "start_time": "2023-01-20T09:49:34.134Z"
   },
   {
    "duration": 4,
    "start_time": "2023-01-20T09:50:21.376Z"
   },
   {
    "duration": 54,
    "start_time": "2023-01-20T09:50:21.382Z"
   },
   {
    "duration": 4,
    "start_time": "2023-01-20T09:50:21.438Z"
   },
   {
    "duration": 99,
    "start_time": "2023-01-20T09:50:21.444Z"
   },
   {
    "duration": 14,
    "start_time": "2023-01-20T09:50:21.545Z"
   },
   {
    "duration": 11,
    "start_time": "2023-01-20T09:53:41.810Z"
   },
   {
    "duration": 12,
    "start_time": "2023-01-20T11:37:25.720Z"
   },
   {
    "duration": 16,
    "start_time": "2023-01-20T11:38:52.969Z"
   },
   {
    "duration": 22,
    "start_time": "2023-01-20T11:39:18.427Z"
   },
   {
    "duration": 15,
    "start_time": "2023-01-20T11:39:55.205Z"
   },
   {
    "duration": 15,
    "start_time": "2023-01-20T11:40:03.929Z"
   },
   {
    "duration": 18,
    "start_time": "2023-01-20T11:42:03.799Z"
   },
   {
    "duration": 5,
    "start_time": "2023-01-20T11:43:25.830Z"
   },
   {
    "duration": 10,
    "start_time": "2023-01-20T11:47:05.137Z"
   },
   {
    "duration": 18,
    "start_time": "2023-01-20T11:47:13.977Z"
   },
   {
    "duration": 4,
    "start_time": "2023-01-20T11:48:09.405Z"
   },
   {
    "duration": 15,
    "start_time": "2023-01-20T11:52:59.122Z"
   },
   {
    "duration": 5,
    "start_time": "2023-01-20T11:54:17.905Z"
   },
   {
    "duration": 4,
    "start_time": "2023-01-20T11:54:55.651Z"
   },
   {
    "duration": 14,
    "start_time": "2023-01-20T11:55:19.941Z"
   },
   {
    "duration": 14,
    "start_time": "2023-01-20T11:57:50.972Z"
   },
   {
    "duration": 4,
    "start_time": "2023-01-20T11:57:59.019Z"
   },
   {
    "duration": 20,
    "start_time": "2023-01-20T11:58:02.420Z"
   },
   {
    "duration": 16,
    "start_time": "2023-01-20T12:04:12.237Z"
   },
   {
    "duration": 6,
    "start_time": "2023-01-20T12:16:06.903Z"
   },
   {
    "duration": 8,
    "start_time": "2023-01-20T12:16:38.123Z"
   },
   {
    "duration": 6,
    "start_time": "2023-01-20T12:18:39.532Z"
   },
   {
    "duration": 7,
    "start_time": "2023-01-20T12:19:50.015Z"
   },
   {
    "duration": 7,
    "start_time": "2023-01-20T12:19:52.659Z"
   },
   {
    "duration": 7,
    "start_time": "2023-01-20T12:25:14.896Z"
   },
   {
    "duration": 5,
    "start_time": "2023-01-20T12:25:17.735Z"
   },
   {
    "duration": 3,
    "start_time": "2023-01-20T12:27:46.277Z"
   },
   {
    "duration": 12,
    "start_time": "2023-01-20T12:28:12.399Z"
   },
   {
    "duration": 3,
    "start_time": "2023-01-20T12:28:56.240Z"
   },
   {
    "duration": 9,
    "start_time": "2023-01-20T12:29:00.107Z"
   },
   {
    "duration": 27,
    "start_time": "2023-01-20T12:29:49.591Z"
   },
   {
    "duration": 20,
    "start_time": "2023-01-20T12:31:07.002Z"
   },
   {
    "duration": 19,
    "start_time": "2023-01-20T12:32:02.035Z"
   },
   {
    "duration": 19,
    "start_time": "2023-01-20T12:32:45.794Z"
   },
   {
    "duration": 6,
    "start_time": "2023-01-20T12:33:36.515Z"
   },
   {
    "duration": 6,
    "start_time": "2023-01-20T12:33:38.901Z"
   },
   {
    "duration": 3,
    "start_time": "2023-01-20T12:33:41.371Z"
   },
   {
    "duration": 16,
    "start_time": "2023-01-20T12:33:43.352Z"
   },
   {
    "duration": 22,
    "start_time": "2023-01-20T12:33:48.322Z"
   },
   {
    "duration": 1362,
    "start_time": "2023-01-20T12:34:29.928Z"
   },
   {
    "duration": 58,
    "start_time": "2023-01-20T12:34:31.292Z"
   },
   {
    "duration": 4,
    "start_time": "2023-01-20T12:34:31.352Z"
   },
   {
    "duration": 113,
    "start_time": "2023-01-20T12:34:31.358Z"
   },
   {
    "duration": 13,
    "start_time": "2023-01-20T12:34:31.474Z"
   },
   {
    "duration": 27,
    "start_time": "2023-01-20T12:34:31.489Z"
   },
   {
    "duration": 40,
    "start_time": "2023-01-20T12:34:31.519Z"
   },
   {
    "duration": 49,
    "start_time": "2023-01-20T12:34:31.562Z"
   },
   {
    "duration": 46,
    "start_time": "2023-01-20T12:34:31.613Z"
   },
   {
    "duration": 18,
    "start_time": "2023-01-20T12:34:31.660Z"
   },
   {
    "duration": 41,
    "start_time": "2023-01-20T12:34:31.680Z"
   },
   {
    "duration": 22,
    "start_time": "2023-01-20T12:34:31.723Z"
   },
   {
    "duration": 39,
    "start_time": "2023-01-20T12:34:31.747Z"
   },
   {
    "duration": 12,
    "start_time": "2023-01-20T12:34:31.789Z"
   },
   {
    "duration": 23,
    "start_time": "2023-01-20T12:34:31.803Z"
   },
   {
    "duration": 133,
    "start_time": "2023-01-20T12:34:31.828Z"
   },
   {
    "duration": 0,
    "start_time": "2023-01-20T12:34:31.964Z"
   },
   {
    "duration": 0,
    "start_time": "2023-01-20T12:34:31.965Z"
   },
   {
    "duration": 0,
    "start_time": "2023-01-20T12:34:31.967Z"
   },
   {
    "duration": 0,
    "start_time": "2023-01-20T12:34:31.968Z"
   },
   {
    "duration": 0,
    "start_time": "2023-01-20T12:34:31.970Z"
   },
   {
    "duration": 6,
    "start_time": "2023-01-20T12:35:03.237Z"
   },
   {
    "duration": 3,
    "start_time": "2023-01-20T12:35:13.876Z"
   },
   {
    "duration": 10,
    "start_time": "2023-01-20T12:35:16.037Z"
   },
   {
    "duration": 24,
    "start_time": "2023-01-20T12:35:18.177Z"
   },
   {
    "duration": 20,
    "start_time": "2023-01-20T12:35:23.294Z"
   },
   {
    "duration": 19,
    "start_time": "2023-01-20T12:35:32.636Z"
   },
   {
    "duration": 1427,
    "start_time": "2023-01-20T15:23:50.536Z"
   },
   {
    "duration": 85,
    "start_time": "2023-01-20T15:23:51.965Z"
   },
   {
    "duration": 3,
    "start_time": "2023-01-20T15:23:52.052Z"
   },
   {
    "duration": 61,
    "start_time": "2023-01-20T15:23:52.057Z"
   },
   {
    "duration": 12,
    "start_time": "2023-01-20T15:23:52.120Z"
   },
   {
    "duration": 18,
    "start_time": "2023-01-20T15:23:52.137Z"
   },
   {
    "duration": 10,
    "start_time": "2023-01-20T15:23:52.157Z"
   },
   {
    "duration": 31,
    "start_time": "2023-01-20T15:23:52.169Z"
   },
   {
    "duration": 15,
    "start_time": "2023-01-20T15:23:52.201Z"
   },
   {
    "duration": 3,
    "start_time": "2023-01-20T15:23:52.219Z"
   },
   {
    "duration": 29,
    "start_time": "2023-01-20T15:23:52.223Z"
   },
   {
    "duration": 8,
    "start_time": "2023-01-20T15:23:52.256Z"
   },
   {
    "duration": 14,
    "start_time": "2023-01-20T15:23:52.265Z"
   },
   {
    "duration": 10,
    "start_time": "2023-01-20T15:23:52.280Z"
   },
   {
    "duration": 17,
    "start_time": "2023-01-20T15:23:52.292Z"
   },
   {
    "duration": 19,
    "start_time": "2023-01-20T15:23:52.311Z"
   },
   {
    "duration": 26,
    "start_time": "2023-01-20T15:23:52.331Z"
   },
   {
    "duration": 14,
    "start_time": "2023-01-20T15:23:52.359Z"
   },
   {
    "duration": 22,
    "start_time": "2023-01-20T15:23:52.374Z"
   },
   {
    "duration": 21,
    "start_time": "2023-01-20T15:23:52.398Z"
   },
   {
    "duration": 31,
    "start_time": "2023-01-20T15:23:52.421Z"
   },
   {
    "duration": 4,
    "start_time": "2023-01-20T15:23:52.454Z"
   },
   {
    "duration": 134,
    "start_time": "2023-01-20T15:24:40.135Z"
   },
   {
    "duration": 4,
    "start_time": "2023-01-20T15:25:08.232Z"
   },
   {
    "duration": 290,
    "start_time": "2023-01-20T15:25:10.848Z"
   },
   {
    "duration": 7,
    "start_time": "2023-01-20T15:26:17.840Z"
   },
   {
    "duration": 284,
    "start_time": "2023-01-20T15:26:20.558Z"
   },
   {
    "duration": 278,
    "start_time": "2023-01-20T15:37:17.868Z"
   },
   {
    "duration": 4,
    "start_time": "2023-01-20T15:51:27.864Z"
   },
   {
    "duration": 1398,
    "start_time": "2023-01-20T15:52:59.341Z"
   },
   {
    "duration": 37,
    "start_time": "2023-01-20T15:53:00.741Z"
   },
   {
    "duration": 4,
    "start_time": "2023-01-20T15:53:00.780Z"
   },
   {
    "duration": 106,
    "start_time": "2023-01-20T15:53:00.786Z"
   },
   {
    "duration": 12,
    "start_time": "2023-01-20T15:53:00.894Z"
   },
   {
    "duration": 33,
    "start_time": "2023-01-20T15:53:00.908Z"
   },
   {
    "duration": 21,
    "start_time": "2023-01-20T15:53:00.943Z"
   },
   {
    "duration": 45,
    "start_time": "2023-01-20T15:53:00.965Z"
   },
   {
    "duration": 38,
    "start_time": "2023-01-20T15:53:01.012Z"
   },
   {
    "duration": 31,
    "start_time": "2023-01-20T15:53:01.053Z"
   },
   {
    "duration": 51,
    "start_time": "2023-01-20T15:53:01.086Z"
   },
   {
    "duration": 46,
    "start_time": "2023-01-20T15:53:01.139Z"
   },
   {
    "duration": 42,
    "start_time": "2023-01-20T15:53:01.186Z"
   },
   {
    "duration": 53,
    "start_time": "2023-01-20T15:53:01.230Z"
   },
   {
    "duration": 24,
    "start_time": "2023-01-20T15:53:01.285Z"
   },
   {
    "duration": 26,
    "start_time": "2023-01-20T15:53:01.311Z"
   },
   {
    "duration": 31,
    "start_time": "2023-01-20T15:53:01.338Z"
   },
   {
    "duration": 24,
    "start_time": "2023-01-20T15:53:01.370Z"
   },
   {
    "duration": 31,
    "start_time": "2023-01-20T15:53:01.396Z"
   },
   {
    "duration": 40,
    "start_time": "2023-01-20T15:53:01.429Z"
   },
   {
    "duration": 31,
    "start_time": "2023-01-20T15:53:01.471Z"
   },
   {
    "duration": 28,
    "start_time": "2023-01-20T15:53:01.504Z"
   },
   {
    "duration": 7,
    "start_time": "2023-01-20T15:53:01.533Z"
   },
   {
    "duration": 305,
    "start_time": "2023-01-20T15:53:01.542Z"
   },
   {
    "duration": 5,
    "start_time": "2023-01-20T15:54:14.580Z"
   },
   {
    "duration": 8,
    "start_time": "2023-01-20T15:55:51.255Z"
   },
   {
    "duration": 7,
    "start_time": "2023-01-20T15:57:13.317Z"
   },
   {
    "duration": 141,
    "start_time": "2023-01-20T16:00:21.857Z"
   },
   {
    "duration": 126,
    "start_time": "2023-01-20T16:01:27.443Z"
   },
   {
    "duration": 5,
    "start_time": "2023-01-20T16:45:00.327Z"
   },
   {
    "duration": 581,
    "start_time": "2023-01-20T16:45:30.933Z"
   },
   {
    "duration": 76,
    "start_time": "2023-01-20T16:46:21.077Z"
   },
   {
    "duration": 6,
    "start_time": "2023-01-20T16:48:13.802Z"
   },
   {
    "duration": 879,
    "start_time": "2023-01-20T16:48:16.676Z"
   },
   {
    "duration": 5,
    "start_time": "2023-01-20T16:48:52.543Z"
   },
   {
    "duration": 623,
    "start_time": "2023-01-20T16:48:56.548Z"
   },
   {
    "duration": 5,
    "start_time": "2023-01-20T16:49:09.336Z"
   },
   {
    "duration": 764,
    "start_time": "2023-01-20T16:49:11.516Z"
   },
   {
    "duration": 7,
    "start_time": "2023-01-20T16:54:43.168Z"
   },
   {
    "duration": 808,
    "start_time": "2023-01-20T16:54:45.601Z"
   },
   {
    "duration": 1508,
    "start_time": "2023-01-24T19:02:34.851Z"
   },
   {
    "duration": 162,
    "start_time": "2023-01-24T19:02:36.361Z"
   },
   {
    "duration": 4,
    "start_time": "2023-01-24T19:02:36.524Z"
   },
   {
    "duration": 63,
    "start_time": "2023-01-24T19:02:36.530Z"
   },
   {
    "duration": 12,
    "start_time": "2023-01-24T19:02:36.594Z"
   },
   {
    "duration": 49,
    "start_time": "2023-01-24T19:02:36.607Z"
   },
   {
    "duration": 4,
    "start_time": "2023-01-24T19:02:36.659Z"
   },
   {
    "duration": 15,
    "start_time": "2023-01-24T19:02:36.664Z"
   },
   {
    "duration": 20,
    "start_time": "2023-01-24T19:02:36.680Z"
   },
   {
    "duration": 3,
    "start_time": "2023-01-24T19:02:36.704Z"
   },
   {
    "duration": 40,
    "start_time": "2023-01-24T19:02:36.709Z"
   },
   {
    "duration": 3,
    "start_time": "2023-01-24T19:02:36.751Z"
   },
   {
    "duration": 12,
    "start_time": "2023-01-24T19:02:36.756Z"
   },
   {
    "duration": 7,
    "start_time": "2023-01-24T19:02:36.770Z"
   },
   {
    "duration": 7,
    "start_time": "2023-01-24T19:02:36.779Z"
   },
   {
    "duration": 6,
    "start_time": "2023-01-24T19:02:36.788Z"
   },
   {
    "duration": 14,
    "start_time": "2023-01-24T19:02:36.795Z"
   },
   {
    "duration": 6,
    "start_time": "2023-01-24T19:02:36.811Z"
   },
   {
    "duration": 38,
    "start_time": "2023-01-24T19:02:36.819Z"
   },
   {
    "duration": 26,
    "start_time": "2023-01-24T19:02:36.860Z"
   },
   {
    "duration": 15,
    "start_time": "2023-01-24T19:02:36.888Z"
   },
   {
    "duration": 16,
    "start_time": "2023-01-24T19:02:36.904Z"
   },
   {
    "duration": 28,
    "start_time": "2023-01-24T19:02:36.922Z"
   },
   {
    "duration": 308,
    "start_time": "2023-01-24T19:02:36.952Z"
   },
   {
    "duration": 88,
    "start_time": "2023-01-24T19:02:37.261Z"
   },
   {
    "duration": 251,
    "start_time": "2023-01-24T19:02:37.351Z"
   },
   {
    "duration": 5,
    "start_time": "2023-01-24T19:02:37.603Z"
   },
   {
    "duration": 866,
    "start_time": "2023-01-24T19:02:37.611Z"
   },
   {
    "duration": 1745,
    "start_time": "2023-01-28T09:42:08.664Z"
   },
   {
    "duration": 83,
    "start_time": "2023-01-28T09:42:10.411Z"
   },
   {
    "duration": 3,
    "start_time": "2023-01-28T09:42:10.496Z"
   },
   {
    "duration": 104,
    "start_time": "2023-01-28T09:42:10.502Z"
   },
   {
    "duration": 15,
    "start_time": "2023-01-28T09:42:10.608Z"
   },
   {
    "duration": 17,
    "start_time": "2023-01-28T09:42:10.626Z"
   },
   {
    "duration": 18,
    "start_time": "2023-01-28T09:42:10.645Z"
   },
   {
    "duration": 28,
    "start_time": "2023-01-28T09:42:10.666Z"
   },
   {
    "duration": 16,
    "start_time": "2023-01-28T09:42:10.696Z"
   },
   {
    "duration": 19,
    "start_time": "2023-01-28T09:42:10.715Z"
   },
   {
    "duration": 26,
    "start_time": "2023-01-28T09:42:10.736Z"
   },
   {
    "duration": 22,
    "start_time": "2023-01-28T09:42:10.764Z"
   },
   {
    "duration": 27,
    "start_time": "2023-01-28T09:42:10.788Z"
   },
   {
    "duration": 12,
    "start_time": "2023-01-28T09:42:10.817Z"
   },
   {
    "duration": 8,
    "start_time": "2023-01-28T09:42:10.831Z"
   },
   {
    "duration": 6,
    "start_time": "2023-01-28T09:42:10.841Z"
   },
   {
    "duration": 14,
    "start_time": "2023-01-28T09:42:10.849Z"
   },
   {
    "duration": 7,
    "start_time": "2023-01-28T09:42:10.865Z"
   },
   {
    "duration": 22,
    "start_time": "2023-01-28T09:42:10.874Z"
   },
   {
    "duration": 28,
    "start_time": "2023-01-28T09:42:10.898Z"
   },
   {
    "duration": 24,
    "start_time": "2023-01-28T09:42:10.928Z"
   },
   {
    "duration": 45,
    "start_time": "2023-01-28T09:42:10.954Z"
   },
   {
    "duration": 7,
    "start_time": "2023-01-28T09:42:11.001Z"
   },
   {
    "duration": 379,
    "start_time": "2023-01-28T09:42:11.010Z"
   },
   {
    "duration": 95,
    "start_time": "2023-01-28T09:42:11.391Z"
   },
   {
    "duration": 222,
    "start_time": "2023-01-28T09:42:11.488Z"
   },
   {
    "duration": 6,
    "start_time": "2023-01-28T09:42:11.712Z"
   },
   {
    "duration": 987,
    "start_time": "2023-01-28T09:42:11.722Z"
   },
   {
    "duration": 86,
    "start_time": "2023-01-28T09:42:44.763Z"
   },
   {
    "duration": 1003,
    "start_time": "2023-01-28T09:42:47.144Z"
   },
   {
    "duration": 4,
    "start_time": "2023-01-28T09:58:22.623Z"
   },
   {
    "duration": 786,
    "start_time": "2023-01-28T09:59:21.735Z"
   },
   {
    "duration": 838,
    "start_time": "2023-01-28T10:00:09.056Z"
   },
   {
    "duration": 11,
    "start_time": "2023-01-28T10:01:31.237Z"
   },
   {
    "duration": 48,
    "start_time": "2023-01-28T10:05:04.661Z"
   },
   {
    "duration": 12,
    "start_time": "2023-01-28T10:05:18.233Z"
   },
   {
    "duration": 137,
    "start_time": "2023-01-28T10:06:55.555Z"
   },
   {
    "duration": 14,
    "start_time": "2023-01-28T10:07:09.033Z"
   },
   {
    "duration": 65,
    "start_time": "2023-01-28T10:10:50.352Z"
   },
   {
    "duration": 10,
    "start_time": "2023-01-28T10:16:11.418Z"
   },
   {
    "duration": 17,
    "start_time": "2023-01-28T10:20:08.798Z"
   },
   {
    "duration": 5,
    "start_time": "2023-01-28T10:33:56.985Z"
   },
   {
    "duration": 4,
    "start_time": "2023-01-28T10:40:46.833Z"
   },
   {
    "duration": 199,
    "start_time": "2023-01-28T10:41:14.254Z"
   },
   {
    "duration": 7,
    "start_time": "2023-01-28T10:42:04.960Z"
   },
   {
    "duration": 149,
    "start_time": "2023-01-28T10:42:07.446Z"
   },
   {
    "duration": 433,
    "start_time": "2023-01-28T10:45:30.587Z"
   },
   {
    "duration": 67,
    "start_time": "2023-01-28T10:46:42.390Z"
   },
   {
    "duration": 11,
    "start_time": "2023-01-28T10:47:12.431Z"
   },
   {
    "duration": 14,
    "start_time": "2023-01-28T10:47:38.090Z"
   },
   {
    "duration": 8,
    "start_time": "2023-01-28T11:02:57.474Z"
   },
   {
    "duration": 6,
    "start_time": "2023-01-28T11:04:21.977Z"
   },
   {
    "duration": 13,
    "start_time": "2023-01-28T11:06:22.173Z"
   },
   {
    "duration": 16,
    "start_time": "2023-01-28T11:10:34.261Z"
   },
   {
    "duration": 18,
    "start_time": "2023-01-28T11:10:46.471Z"
   },
   {
    "duration": 21,
    "start_time": "2023-01-28T11:10:57.138Z"
   },
   {
    "duration": 10,
    "start_time": "2023-01-28T11:11:53.922Z"
   },
   {
    "duration": 15,
    "start_time": "2023-01-28T11:12:28.665Z"
   },
   {
    "duration": 14,
    "start_time": "2023-01-28T11:15:25.947Z"
   },
   {
    "duration": 17,
    "start_time": "2023-01-28T11:16:21.243Z"
   },
   {
    "duration": 13,
    "start_time": "2023-01-28T11:16:23.419Z"
   },
   {
    "duration": 5,
    "start_time": "2023-01-28T11:17:47.838Z"
   },
   {
    "duration": 20,
    "start_time": "2023-01-28T11:17:49.757Z"
   },
   {
    "duration": 9,
    "start_time": "2023-01-28T11:17:52.146Z"
   },
   {
    "duration": 16,
    "start_time": "2023-01-28T11:17:53.946Z"
   },
   {
    "duration": 16,
    "start_time": "2023-01-28T11:18:00.747Z"
   },
   {
    "duration": 16,
    "start_time": "2023-01-28T11:18:03.435Z"
   },
   {
    "duration": 105,
    "start_time": "2023-01-28T11:21:18.775Z"
   },
   {
    "duration": 101,
    "start_time": "2023-01-28T11:21:23.966Z"
   },
   {
    "duration": 424,
    "start_time": "2023-01-28T11:23:34.077Z"
   },
   {
    "duration": 514,
    "start_time": "2023-01-28T11:24:07.676Z"
   },
   {
    "duration": 178,
    "start_time": "2023-01-28T11:33:23.561Z"
   },
   {
    "duration": 50,
    "start_time": "2023-01-28T11:33:31.766Z"
   },
   {
    "duration": 51,
    "start_time": "2023-01-28T11:33:51.804Z"
   },
   {
    "duration": 11,
    "start_time": "2023-01-28T11:35:22.711Z"
   },
   {
    "duration": 354,
    "start_time": "2023-01-28T11:37:05.912Z"
   },
   {
    "duration": 401,
    "start_time": "2023-01-28T11:37:42.858Z"
   },
   {
    "duration": 30,
    "start_time": "2023-01-28T11:39:22.064Z"
   },
   {
    "duration": 183,
    "start_time": "2023-01-28T11:40:45.816Z"
   },
   {
    "duration": 241,
    "start_time": "2023-01-28T11:40:57.243Z"
   },
   {
    "duration": 100,
    "start_time": "2023-01-28T11:42:26.292Z"
   },
   {
    "duration": 362,
    "start_time": "2023-01-28T11:47:48.728Z"
   },
   {
    "duration": 31,
    "start_time": "2023-01-28T11:48:48.773Z"
   },
   {
    "duration": 307,
    "start_time": "2023-01-28T11:49:11.071Z"
   },
   {
    "duration": 26,
    "start_time": "2023-01-28T11:49:14.249Z"
   },
   {
    "duration": 335,
    "start_time": "2023-01-28T11:49:22.685Z"
   },
   {
    "duration": 30,
    "start_time": "2023-01-28T11:49:24.826Z"
   },
   {
    "duration": 28,
    "start_time": "2023-01-28T11:51:08.054Z"
   },
   {
    "duration": 8,
    "start_time": "2023-01-28T11:51:35.718Z"
   },
   {
    "duration": 17,
    "start_time": "2023-01-28T11:54:08.855Z"
   },
   {
    "duration": 13,
    "start_time": "2023-01-28T11:54:24.223Z"
   },
   {
    "duration": 12,
    "start_time": "2023-01-28T11:55:15.897Z"
   },
   {
    "duration": 1689,
    "start_time": "2023-01-28T12:08:31.520Z"
   },
   {
    "duration": 70,
    "start_time": "2023-01-28T12:08:33.211Z"
   },
   {
    "duration": 4,
    "start_time": "2023-01-28T12:08:33.283Z"
   },
   {
    "duration": 142,
    "start_time": "2023-01-28T12:08:33.291Z"
   },
   {
    "duration": 16,
    "start_time": "2023-01-28T12:08:33.436Z"
   },
   {
    "duration": 42,
    "start_time": "2023-01-28T12:08:33.454Z"
   },
   {
    "duration": 7,
    "start_time": "2023-01-28T12:08:33.498Z"
   },
   {
    "duration": 69,
    "start_time": "2023-01-28T12:08:33.507Z"
   },
   {
    "duration": 39,
    "start_time": "2023-01-28T12:08:33.577Z"
   },
   {
    "duration": 54,
    "start_time": "2023-01-28T12:08:33.621Z"
   },
   {
    "duration": 83,
    "start_time": "2023-01-28T12:08:33.677Z"
   },
   {
    "duration": 18,
    "start_time": "2023-01-28T12:08:33.762Z"
   },
   {
    "duration": 66,
    "start_time": "2023-01-28T12:08:33.783Z"
   },
   {
    "duration": 44,
    "start_time": "2023-01-28T12:08:33.851Z"
   },
   {
    "duration": 29,
    "start_time": "2023-01-28T12:08:33.897Z"
   },
   {
    "duration": 52,
    "start_time": "2023-01-28T12:08:33.928Z"
   },
   {
    "duration": 62,
    "start_time": "2023-01-28T12:08:33.983Z"
   },
   {
    "duration": 24,
    "start_time": "2023-01-28T12:08:34.047Z"
   },
   {
    "duration": 38,
    "start_time": "2023-01-28T12:08:34.073Z"
   },
   {
    "duration": 49,
    "start_time": "2023-01-28T12:08:34.112Z"
   },
   {
    "duration": 21,
    "start_time": "2023-01-28T12:08:34.163Z"
   },
   {
    "duration": 49,
    "start_time": "2023-01-28T12:08:34.187Z"
   },
   {
    "duration": 15,
    "start_time": "2023-01-28T12:08:34.238Z"
   },
   {
    "duration": 361,
    "start_time": "2023-01-28T12:08:34.255Z"
   },
   {
    "duration": 78,
    "start_time": "2023-01-28T12:08:34.618Z"
   },
   {
    "duration": 387,
    "start_time": "2023-01-28T12:08:34.699Z"
   },
   {
    "duration": 9,
    "start_time": "2023-01-28T12:08:35.089Z"
   },
   {
    "duration": 1204,
    "start_time": "2023-01-28T12:08:35.104Z"
   },
   {
    "duration": 3,
    "start_time": "2023-01-28T12:08:36.310Z"
   },
   {
    "duration": 961,
    "start_time": "2023-01-28T12:08:36.315Z"
   },
   {
    "duration": 13,
    "start_time": "2023-01-28T12:08:37.278Z"
   },
   {
    "duration": 101,
    "start_time": "2023-01-28T12:08:37.295Z"
   },
   {
    "duration": 12,
    "start_time": "2023-01-28T12:08:37.399Z"
   },
   {
    "duration": 195,
    "start_time": "2023-01-28T12:08:37.414Z"
   },
   {
    "duration": 42,
    "start_time": "2023-01-28T12:08:37.612Z"
   },
   {
    "duration": 53,
    "start_time": "2023-01-28T12:08:37.657Z"
   },
   {
    "duration": 43,
    "start_time": "2023-01-28T12:08:37.715Z"
   },
   {
    "duration": 183,
    "start_time": "2023-01-28T12:08:37.760Z"
   },
   {
    "duration": 145,
    "start_time": "2023-01-28T12:08:37.945Z"
   },
   {
    "duration": 30,
    "start_time": "2023-01-28T12:08:38.092Z"
   },
   {
    "duration": 115,
    "start_time": "2023-01-28T12:08:38.124Z"
   },
   {
    "duration": 44,
    "start_time": "2023-01-28T12:08:38.242Z"
   },
   {
    "duration": 312,
    "start_time": "2023-01-28T12:08:38.288Z"
   },
   {
    "duration": 341,
    "start_time": "2023-01-28T12:08:38.602Z"
   },
   {
    "duration": 7,
    "start_time": "2023-01-28T12:08:38.944Z"
   },
   {
    "duration": 13,
    "start_time": "2023-01-28T12:08:38.953Z"
   },
   {
    "duration": 35,
    "start_time": "2023-01-28T12:08:38.968Z"
   },
   {
    "duration": 11,
    "start_time": "2023-01-28T12:08:39.005Z"
   },
   {
    "duration": 15,
    "start_time": "2023-01-28T12:08:39.018Z"
   },
   {
    "duration": 15,
    "start_time": "2023-01-28T12:08:39.035Z"
   },
   {
    "duration": 109,
    "start_time": "2023-01-28T12:08:39.085Z"
   },
   {
    "duration": 345,
    "start_time": "2023-01-28T12:08:39.197Z"
   },
   {
    "duration": 696,
    "start_time": "2023-01-28T12:08:39.588Z"
   },
   {
    "duration": 142,
    "start_time": "2023-01-28T12:08:40.287Z"
   },
   {
    "duration": 11,
    "start_time": "2023-01-28T12:08:40.431Z"
   },
   {
    "duration": 485,
    "start_time": "2023-01-28T12:08:40.445Z"
   },
   {
    "duration": 35,
    "start_time": "2023-01-28T12:08:40.932Z"
   },
   {
    "duration": 124,
    "start_time": "2023-01-28T12:08:40.970Z"
   },
   {
    "duration": 92,
    "start_time": "2023-01-28T12:08:41.099Z"
   },
   {
    "duration": 635,
    "start_time": "2023-01-28T12:08:41.193Z"
   },
   {
    "duration": 35,
    "start_time": "2023-01-28T12:08:41.830Z"
   },
   {
    "duration": 41,
    "start_time": "2023-01-28T12:08:41.868Z"
   },
   {
    "duration": 8,
    "start_time": "2023-01-28T12:08:41.911Z"
   },
   {
    "duration": 28,
    "start_time": "2023-01-28T12:08:41.921Z"
   },
   {
    "duration": 1788,
    "start_time": "2023-06-04T14:20:40.233Z"
   },
   {
    "duration": 482,
    "start_time": "2023-06-04T14:20:42.023Z"
   },
   {
    "duration": 4,
    "start_time": "2023-06-04T14:20:42.508Z"
   },
   {
    "duration": 92,
    "start_time": "2023-06-04T14:20:42.515Z"
   },
   {
    "duration": 15,
    "start_time": "2023-06-04T14:20:42.609Z"
   },
   {
    "duration": 12,
    "start_time": "2023-06-04T14:20:42.626Z"
   },
   {
    "duration": 22,
    "start_time": "2023-06-04T14:20:42.640Z"
   },
   {
    "duration": 31,
    "start_time": "2023-06-04T14:20:42.668Z"
   },
   {
    "duration": 13,
    "start_time": "2023-06-04T14:20:42.701Z"
   },
   {
    "duration": 3,
    "start_time": "2023-06-04T14:20:42.717Z"
   },
   {
    "duration": 20,
    "start_time": "2023-06-04T14:20:42.722Z"
   },
   {
    "duration": 22,
    "start_time": "2023-06-04T14:20:42.744Z"
   },
   {
    "duration": 22,
    "start_time": "2023-06-04T14:20:42.775Z"
   },
   {
    "duration": 5,
    "start_time": "2023-06-04T14:20:42.798Z"
   },
   {
    "duration": 7,
    "start_time": "2023-06-04T14:20:42.805Z"
   },
   {
    "duration": 6,
    "start_time": "2023-06-04T14:20:42.814Z"
   },
   {
    "duration": 6,
    "start_time": "2023-06-04T14:20:42.821Z"
   },
   {
    "duration": 4,
    "start_time": "2023-06-04T14:20:42.828Z"
   },
   {
    "duration": 33,
    "start_time": "2023-06-04T14:20:42.834Z"
   },
   {
    "duration": 44,
    "start_time": "2023-06-04T14:20:42.869Z"
   },
   {
    "duration": 18,
    "start_time": "2023-06-04T14:20:42.915Z"
   },
   {
    "duration": 36,
    "start_time": "2023-06-04T14:20:42.934Z"
   },
   {
    "duration": 1597,
    "start_time": "2023-06-05T09:06:21.438Z"
   },
   {
    "duration": 80,
    "start_time": "2023-06-05T09:06:23.037Z"
   },
   {
    "duration": 3,
    "start_time": "2023-06-05T09:06:23.119Z"
   },
   {
    "duration": 59,
    "start_time": "2023-06-05T09:06:23.197Z"
   },
   {
    "duration": 5,
    "start_time": "2023-06-05T09:08:55.351Z"
   },
   {
    "duration": 13,
    "start_time": "2023-06-05T09:12:16.259Z"
   },
   {
    "duration": 15,
    "start_time": "2023-06-05T09:12:28.829Z"
   },
   {
    "duration": 4,
    "start_time": "2023-06-05T09:12:29.853Z"
   },
   {
    "duration": 11,
    "start_time": "2023-06-05T09:12:35.042Z"
   },
   {
    "duration": 12,
    "start_time": "2023-06-05T09:13:09.196Z"
   },
   {
    "duration": 4,
    "start_time": "2023-06-05T09:13:18.663Z"
   },
   {
    "duration": 26,
    "start_time": "2023-06-05T09:13:49.837Z"
   },
   {
    "duration": 4,
    "start_time": "2023-06-05T09:13:58.842Z"
   },
   {
    "duration": 11,
    "start_time": "2023-06-05T09:14:13.872Z"
   },
   {
    "duration": 4,
    "start_time": "2023-06-05T09:16:32.426Z"
   },
   {
    "duration": 76,
    "start_time": "2023-06-05T09:16:32.433Z"
   },
   {
    "duration": 17,
    "start_time": "2023-06-05T09:16:32.511Z"
   },
   {
    "duration": 69,
    "start_time": "2023-06-05T09:16:32.529Z"
   },
   {
    "duration": 4,
    "start_time": "2023-06-05T09:16:32.600Z"
   },
   {
    "duration": 107,
    "start_time": "2023-06-05T09:16:32.605Z"
   },
   {
    "duration": 50,
    "start_time": "2023-06-05T09:16:32.713Z"
   },
   {
    "duration": 26,
    "start_time": "2023-06-05T09:16:32.765Z"
   },
   {
    "duration": 46,
    "start_time": "2023-06-05T09:16:32.793Z"
   },
   {
    "duration": 23,
    "start_time": "2023-06-05T09:16:32.841Z"
   },
   {
    "duration": 24,
    "start_time": "2023-06-05T09:16:32.866Z"
   },
   {
    "duration": 44,
    "start_time": "2023-06-05T09:16:32.892Z"
   },
   {
    "duration": 21,
    "start_time": "2023-06-05T09:16:32.938Z"
   },
   {
    "duration": 55,
    "start_time": "2023-06-05T09:16:32.960Z"
   },
   {
    "duration": 15,
    "start_time": "2023-06-05T09:16:33.016Z"
   },
   {
    "duration": 11,
    "start_time": "2023-06-05T09:16:33.032Z"
   },
   {
    "duration": 26,
    "start_time": "2023-06-05T09:16:33.044Z"
   },
   {
    "duration": 15,
    "start_time": "2023-06-05T09:16:33.071Z"
   },
   {
    "duration": 16,
    "start_time": "2023-06-05T09:16:33.087Z"
   },
   {
    "duration": 16,
    "start_time": "2023-06-05T09:16:33.105Z"
   },
   {
    "duration": 21,
    "start_time": "2023-06-05T09:16:33.123Z"
   },
   {
    "duration": 17,
    "start_time": "2023-06-05T09:16:33.146Z"
   },
   {
    "duration": 21,
    "start_time": "2023-06-05T09:16:33.164Z"
   },
   {
    "duration": 112,
    "start_time": "2023-06-05T10:18:43.945Z"
   },
   {
    "duration": 8806,
    "start_time": "2023-06-05T10:21:06.984Z"
   },
   {
    "duration": 9003,
    "start_time": "2023-06-05T10:21:28.489Z"
   },
   {
    "duration": 3039,
    "start_time": "2023-06-05T10:26:38.066Z"
   },
   {
    "duration": 8818,
    "start_time": "2023-06-05T10:31:22.650Z"
   },
   {
    "duration": 6492,
    "start_time": "2023-06-05T10:35:18.739Z"
   },
   {
    "duration": 844,
    "start_time": "2023-06-05T10:43:57.516Z"
   },
   {
    "duration": 1003,
    "start_time": "2023-06-05T10:47:10.337Z"
   },
   {
    "duration": 604,
    "start_time": "2023-06-05T10:47:46.788Z"
   },
   {
    "duration": 272,
    "start_time": "2023-06-05T10:53:36.214Z"
   },
   {
    "duration": 3,
    "start_time": "2023-06-05T11:21:50.728Z"
   },
   {
    "duration": 11,
    "start_time": "2023-06-05T11:22:17.670Z"
   },
   {
    "duration": 16383,
    "start_time": "2023-06-05T11:28:24.535Z"
   },
   {
    "duration": 76,
    "start_time": "2023-06-05T11:32:12.984Z"
   },
   {
    "duration": 100,
    "start_time": "2023-06-05T11:32:18.623Z"
   },
   {
    "duration": 7831,
    "start_time": "2023-06-05T11:32:41.729Z"
   },
   {
    "duration": 5055,
    "start_time": "2023-06-05T11:37:36.023Z"
   },
   {
    "duration": 7450,
    "start_time": "2023-06-05T11:38:03.199Z"
   },
   {
    "duration": 8125,
    "start_time": "2023-06-05T11:38:21.963Z"
   },
   {
    "duration": 5200,
    "start_time": "2023-06-05T11:38:44.901Z"
   },
   {
    "duration": 1322,
    "start_time": "2023-06-05T11:47:07.299Z"
   },
   {
    "duration": 844,
    "start_time": "2023-06-05T11:48:57.328Z"
   },
   {
    "duration": 119,
    "start_time": "2023-06-05T11:59:01.869Z"
   },
   {
    "duration": 202,
    "start_time": "2023-06-05T12:00:31.885Z"
   },
   {
    "duration": 201,
    "start_time": "2023-06-05T12:00:50.692Z"
   },
   {
    "duration": 5112,
    "start_time": "2023-06-05T12:22:13.842Z"
   },
   {
    "duration": 8,
    "start_time": "2023-06-05T12:22:22.287Z"
   },
   {
    "duration": 3,
    "start_time": "2023-06-05T12:22:59.040Z"
   },
   {
    "duration": 3,
    "start_time": "2023-06-05T12:23:21.549Z"
   },
   {
    "duration": 45,
    "start_time": "2023-06-05T12:23:21.554Z"
   },
   {
    "duration": 2,
    "start_time": "2023-06-05T12:23:21.601Z"
   },
   {
    "duration": 63,
    "start_time": "2023-06-05T12:23:21.605Z"
   },
   {
    "duration": 17,
    "start_time": "2023-06-05T12:23:21.670Z"
   },
   {
    "duration": 23,
    "start_time": "2023-06-05T12:23:21.688Z"
   },
   {
    "duration": 11,
    "start_time": "2023-06-05T12:23:21.713Z"
   },
   {
    "duration": 4,
    "start_time": "2023-06-05T12:23:21.725Z"
   },
   {
    "duration": 23,
    "start_time": "2023-06-05T12:23:21.731Z"
   },
   {
    "duration": 14,
    "start_time": "2023-06-05T12:23:21.756Z"
   },
   {
    "duration": 3,
    "start_time": "2023-06-05T12:23:21.772Z"
   },
   {
    "duration": 16,
    "start_time": "2023-06-05T12:23:21.785Z"
   },
   {
    "duration": 3,
    "start_time": "2023-06-05T12:23:21.803Z"
   },
   {
    "duration": 14,
    "start_time": "2023-06-05T12:23:21.808Z"
   },
   {
    "duration": 5,
    "start_time": "2023-06-05T12:23:21.823Z"
   },
   {
    "duration": 18,
    "start_time": "2023-06-05T12:23:21.830Z"
   },
   {
    "duration": 7,
    "start_time": "2023-06-05T12:23:21.849Z"
   },
   {
    "duration": 13,
    "start_time": "2023-06-05T12:23:21.858Z"
   },
   {
    "duration": 2,
    "start_time": "2023-06-05T12:23:21.884Z"
   },
   {
    "duration": 11,
    "start_time": "2023-06-05T12:23:21.888Z"
   },
   {
    "duration": 20,
    "start_time": "2023-06-05T12:23:21.901Z"
   },
   {
    "duration": 17,
    "start_time": "2023-06-05T12:23:21.923Z"
   },
   {
    "duration": 16,
    "start_time": "2023-06-05T12:23:21.941Z"
   },
   {
    "duration": 6587,
    "start_time": "2023-06-05T12:23:21.960Z"
   },
   {
    "duration": 3072,
    "start_time": "2023-06-05T12:23:28.548Z"
   },
   {
    "duration": 579,
    "start_time": "2023-06-05T12:23:31.622Z"
   },
   {
    "duration": 87,
    "start_time": "2023-06-05T12:23:32.203Z"
   },
   {
    "duration": 195,
    "start_time": "2023-06-05T12:23:32.291Z"
   },
   {
    "duration": 41,
    "start_time": "2023-06-05T12:23:32.488Z"
   },
   {
    "duration": 7687,
    "start_time": "2023-06-05T12:23:32.531Z"
   },
   {
    "duration": 5055,
    "start_time": "2023-06-05T12:23:40.219Z"
   },
   {
    "duration": 18,
    "start_time": "2023-06-05T12:23:45.276Z"
   },
   {
    "duration": 0,
    "start_time": "2023-06-05T12:23:45.295Z"
   },
   {
    "duration": 0,
    "start_time": "2023-06-05T12:23:45.297Z"
   },
   {
    "duration": 0,
    "start_time": "2023-06-05T12:23:45.299Z"
   },
   {
    "duration": 4,
    "start_time": "2023-06-05T12:24:10.361Z"
   },
   {
    "duration": 52,
    "start_time": "2023-06-05T12:24:10.368Z"
   },
   {
    "duration": 4,
    "start_time": "2023-06-05T12:24:10.422Z"
   },
   {
    "duration": 66,
    "start_time": "2023-06-05T12:24:10.428Z"
   },
   {
    "duration": 4,
    "start_time": "2023-06-05T12:24:10.495Z"
   },
   {
    "duration": 14,
    "start_time": "2023-06-05T12:24:10.501Z"
   },
   {
    "duration": 10,
    "start_time": "2023-06-05T12:24:10.516Z"
   },
   {
    "duration": 6,
    "start_time": "2023-06-05T12:24:10.528Z"
   },
   {
    "duration": 14,
    "start_time": "2023-06-05T12:24:10.535Z"
   },
   {
    "duration": 34,
    "start_time": "2023-06-05T12:24:10.551Z"
   },
   {
    "duration": 3,
    "start_time": "2023-06-05T12:24:10.587Z"
   },
   {
    "duration": 18,
    "start_time": "2023-06-05T12:24:10.592Z"
   },
   {
    "duration": 6,
    "start_time": "2023-06-05T12:24:10.612Z"
   },
   {
    "duration": 13,
    "start_time": "2023-06-05T12:24:10.619Z"
   },
   {
    "duration": 5,
    "start_time": "2023-06-05T12:24:10.634Z"
   },
   {
    "duration": 12,
    "start_time": "2023-06-05T12:24:10.641Z"
   },
   {
    "duration": 30,
    "start_time": "2023-06-05T12:24:10.654Z"
   },
   {
    "duration": 4,
    "start_time": "2023-06-05T12:24:10.686Z"
   },
   {
    "duration": 20,
    "start_time": "2023-06-05T12:24:10.691Z"
   },
   {
    "duration": 58,
    "start_time": "2023-06-05T12:24:10.713Z"
   },
   {
    "duration": 84,
    "start_time": "2023-06-05T12:24:10.772Z"
   },
   {
    "duration": 30,
    "start_time": "2023-06-05T12:24:10.857Z"
   },
   {
    "duration": 18,
    "start_time": "2023-06-05T12:24:10.888Z"
   },
   {
    "duration": 6204,
    "start_time": "2023-06-05T12:24:10.907Z"
   },
   {
    "duration": 3068,
    "start_time": "2023-06-05T12:24:17.113Z"
   },
   {
    "duration": 564,
    "start_time": "2023-06-05T12:24:20.183Z"
   },
   {
    "duration": 136,
    "start_time": "2023-06-05T12:24:20.749Z"
   },
   {
    "duration": 97,
    "start_time": "2023-06-05T12:24:20.889Z"
   },
   {
    "duration": 26,
    "start_time": "2023-06-05T12:24:20.988Z"
   },
   {
    "duration": 7838,
    "start_time": "2023-06-05T12:24:21.016Z"
   },
   {
    "duration": 5078,
    "start_time": "2023-06-05T12:24:28.856Z"
   },
   {
    "duration": 858,
    "start_time": "2023-06-05T12:24:33.936Z"
   },
   {
    "duration": 296,
    "start_time": "2023-06-05T12:24:34.795Z"
   },
   {
    "duration": 207,
    "start_time": "2023-06-05T12:24:35.092Z"
   },
   {
    "duration": 10,
    "start_time": "2023-06-05T12:26:38.876Z"
   },
   {
    "duration": 22,
    "start_time": "2023-06-05T12:26:42.095Z"
   },
   {
    "duration": 9,
    "start_time": "2023-06-05T12:26:44.959Z"
   },
   {
    "duration": 6,
    "start_time": "2023-06-05T12:27:13.664Z"
   },
   {
    "duration": 117,
    "start_time": "2023-06-05T12:31:35.817Z"
   },
   {
    "duration": 159,
    "start_time": "2023-06-05T12:32:14.825Z"
   },
   {
    "duration": 24,
    "start_time": "2023-06-05T12:44:08.075Z"
   },
   {
    "duration": 24,
    "start_time": "2023-06-05T12:44:23.400Z"
   },
   {
    "duration": 4,
    "start_time": "2023-06-05T12:44:26.990Z"
   },
   {
    "duration": 67,
    "start_time": "2023-06-05T12:44:26.995Z"
   },
   {
    "duration": 3,
    "start_time": "2023-06-05T12:44:27.065Z"
   },
   {
    "duration": 73,
    "start_time": "2023-06-05T12:44:27.069Z"
   },
   {
    "duration": 5,
    "start_time": "2023-06-05T12:44:27.144Z"
   },
   {
    "duration": 30,
    "start_time": "2023-06-05T12:44:27.150Z"
   },
   {
    "duration": 21,
    "start_time": "2023-06-05T12:44:27.182Z"
   },
   {
    "duration": 30,
    "start_time": "2023-06-05T12:44:27.205Z"
   },
   {
    "duration": 20,
    "start_time": "2023-06-05T12:44:27.237Z"
   },
   {
    "duration": 51,
    "start_time": "2023-06-05T12:44:27.259Z"
   },
   {
    "duration": 43,
    "start_time": "2023-06-05T12:44:27.312Z"
   },
   {
    "duration": 43,
    "start_time": "2023-06-05T12:44:27.356Z"
   },
   {
    "duration": 3,
    "start_time": "2023-06-05T12:44:27.400Z"
   },
   {
    "duration": 34,
    "start_time": "2023-06-05T12:44:27.405Z"
   },
   {
    "duration": 24,
    "start_time": "2023-06-05T12:44:27.440Z"
   },
   {
    "duration": 21,
    "start_time": "2023-06-05T12:44:27.466Z"
   },
   {
    "duration": 34,
    "start_time": "2023-06-05T12:44:27.488Z"
   },
   {
    "duration": 21,
    "start_time": "2023-06-05T12:44:27.524Z"
   },
   {
    "duration": 17,
    "start_time": "2023-06-05T12:44:27.546Z"
   },
   {
    "duration": 39,
    "start_time": "2023-06-05T12:44:27.565Z"
   },
   {
    "duration": 28,
    "start_time": "2023-06-05T12:44:27.605Z"
   },
   {
    "duration": 18,
    "start_time": "2023-06-05T12:44:27.634Z"
   },
   {
    "duration": 27,
    "start_time": "2023-06-05T12:44:27.654Z"
   },
   {
    "duration": 6069,
    "start_time": "2023-06-05T12:44:27.683Z"
   },
   {
    "duration": 3084,
    "start_time": "2023-06-05T12:44:33.754Z"
   },
   {
    "duration": 584,
    "start_time": "2023-06-05T12:44:36.840Z"
   },
   {
    "duration": 68,
    "start_time": "2023-06-05T12:44:37.426Z"
   },
   {
    "duration": 7,
    "start_time": "2023-06-05T12:44:37.586Z"
   },
   {
    "duration": 119,
    "start_time": "2023-06-05T12:44:37.596Z"
   },
   {
    "duration": 7504,
    "start_time": "2023-06-05T12:44:37.717Z"
   },
   {
    "duration": 5443,
    "start_time": "2023-06-05T12:44:45.222Z"
   },
   {
    "duration": 953,
    "start_time": "2023-06-05T12:44:50.666Z"
   },
   {
    "duration": 265,
    "start_time": "2023-06-05T12:44:51.620Z"
   },
   {
    "duration": 108,
    "start_time": "2023-06-05T12:44:51.893Z"
   },
   {
    "duration": 5,
    "start_time": "2023-06-05T12:44:52.002Z"
   },
   {
    "duration": 130,
    "start_time": "2023-06-05T12:44:52.009Z"
   },
   {
    "duration": 26,
    "start_time": "2023-06-05T12:44:52.141Z"
   },
   {
    "duration": 109,
    "start_time": "2023-06-05T12:49:07.834Z"
   },
   {
    "duration": 113,
    "start_time": "2023-06-05T12:49:15.004Z"
   },
   {
    "duration": 4,
    "start_time": "2023-06-05T13:03:42.427Z"
   },
   {
    "duration": 3,
    "start_time": "2023-06-05T13:32:39.853Z"
   },
   {
    "duration": 46,
    "start_time": "2023-06-05T13:32:39.858Z"
   },
   {
    "duration": 3,
    "start_time": "2023-06-05T13:32:39.906Z"
   },
   {
    "duration": 54,
    "start_time": "2023-06-05T13:32:39.910Z"
   },
   {
    "duration": 20,
    "start_time": "2023-06-05T13:32:39.966Z"
   },
   {
    "duration": 13,
    "start_time": "2023-06-05T13:32:39.987Z"
   },
   {
    "duration": 9,
    "start_time": "2023-06-05T13:32:40.002Z"
   },
   {
    "duration": 7,
    "start_time": "2023-06-05T13:32:40.012Z"
   },
   {
    "duration": 21,
    "start_time": "2023-06-05T13:32:40.020Z"
   },
   {
    "duration": 13,
    "start_time": "2023-06-05T13:32:40.042Z"
   },
   {
    "duration": 9,
    "start_time": "2023-06-05T13:32:40.058Z"
   },
   {
    "duration": 25,
    "start_time": "2023-06-05T13:32:40.069Z"
   },
   {
    "duration": 3,
    "start_time": "2023-06-05T13:32:40.095Z"
   },
   {
    "duration": 12,
    "start_time": "2023-06-05T13:32:40.099Z"
   },
   {
    "duration": 6,
    "start_time": "2023-06-05T13:32:40.113Z"
   },
   {
    "duration": 5,
    "start_time": "2023-06-05T13:32:40.120Z"
   },
   {
    "duration": 5,
    "start_time": "2023-06-05T13:32:40.126Z"
   },
   {
    "duration": 8,
    "start_time": "2023-06-05T13:32:40.132Z"
   },
   {
    "duration": 30,
    "start_time": "2023-06-05T13:32:40.141Z"
   },
   {
    "duration": 9,
    "start_time": "2023-06-05T13:32:40.172Z"
   },
   {
    "duration": 17,
    "start_time": "2023-06-05T13:32:40.183Z"
   },
   {
    "duration": 14,
    "start_time": "2023-06-05T13:32:40.201Z"
   },
   {
    "duration": 14,
    "start_time": "2023-06-05T13:32:40.216Z"
   },
   {
    "duration": 5752,
    "start_time": "2023-06-05T13:32:40.231Z"
   },
   {
    "duration": 3100,
    "start_time": "2023-06-05T13:32:45.984Z"
   },
   {
    "duration": 588,
    "start_time": "2023-06-05T13:32:49.086Z"
   },
   {
    "duration": 112,
    "start_time": "2023-06-05T13:32:49.676Z"
   },
   {
    "duration": 97,
    "start_time": "2023-06-05T13:32:49.790Z"
   },
   {
    "duration": 105,
    "start_time": "2023-06-05T13:32:49.889Z"
   },
   {
    "duration": 7854,
    "start_time": "2023-06-05T13:32:49.996Z"
   },
   {
    "duration": 4810,
    "start_time": "2023-06-05T13:32:57.851Z"
   },
   {
    "duration": 795,
    "start_time": "2023-06-05T13:33:02.662Z"
   },
   {
    "duration": 135,
    "start_time": "2023-06-05T13:33:03.458Z"
   },
   {
    "duration": 107,
    "start_time": "2023-06-05T13:33:03.685Z"
   },
   {
    "duration": 4,
    "start_time": "2023-06-05T13:33:03.794Z"
   },
   {
    "duration": 125,
    "start_time": "2023-06-05T13:33:03.799Z"
   },
   {
    "duration": 25,
    "start_time": "2023-06-05T13:33:03.925Z"
   },
   {
    "duration": 3,
    "start_time": "2023-06-05T13:38:23.979Z"
   },
   {
    "duration": 39,
    "start_time": "2023-06-05T13:38:23.991Z"
   },
   {
    "duration": 3,
    "start_time": "2023-06-05T13:38:24.032Z"
   },
   {
    "duration": 53,
    "start_time": "2023-06-05T13:38:24.036Z"
   },
   {
    "duration": 4,
    "start_time": "2023-06-05T13:38:24.091Z"
   },
   {
    "duration": 21,
    "start_time": "2023-06-05T13:38:24.096Z"
   },
   {
    "duration": 8,
    "start_time": "2023-06-05T13:38:24.118Z"
   },
   {
    "duration": 19,
    "start_time": "2023-06-05T13:38:24.127Z"
   },
   {
    "duration": 21,
    "start_time": "2023-06-05T13:38:24.147Z"
   },
   {
    "duration": 11,
    "start_time": "2023-06-05T13:38:24.169Z"
   },
   {
    "duration": 4,
    "start_time": "2023-06-05T13:38:24.182Z"
   },
   {
    "duration": 29,
    "start_time": "2023-06-05T13:38:24.187Z"
   },
   {
    "duration": 5,
    "start_time": "2023-06-05T13:38:24.218Z"
   },
   {
    "duration": 29,
    "start_time": "2023-06-05T13:38:24.224Z"
   },
   {
    "duration": 9,
    "start_time": "2023-06-05T13:38:24.254Z"
   },
   {
    "duration": 8,
    "start_time": "2023-06-05T13:38:24.265Z"
   },
   {
    "duration": 11,
    "start_time": "2023-06-05T13:38:24.275Z"
   },
   {
    "duration": 4,
    "start_time": "2023-06-05T13:38:24.288Z"
   },
   {
    "duration": 4,
    "start_time": "2023-06-05T13:38:24.293Z"
   },
   {
    "duration": 9,
    "start_time": "2023-06-05T13:38:24.298Z"
   },
   {
    "duration": 18,
    "start_time": "2023-06-05T13:38:24.308Z"
   },
   {
    "duration": 16,
    "start_time": "2023-06-05T13:38:24.327Z"
   },
   {
    "duration": 40,
    "start_time": "2023-06-05T13:38:24.344Z"
   },
   {
    "duration": 5950,
    "start_time": "2023-06-05T13:38:24.386Z"
   },
   {
    "duration": 2956,
    "start_time": "2023-06-05T13:38:30.337Z"
   },
   {
    "duration": 592,
    "start_time": "2023-06-05T13:38:33.294Z"
   },
   {
    "duration": 97,
    "start_time": "2023-06-05T13:38:33.887Z"
   },
   {
    "duration": 106,
    "start_time": "2023-06-05T13:38:33.985Z"
   },
   {
    "duration": 26,
    "start_time": "2023-06-05T13:38:34.095Z"
   },
   {
    "duration": 7288,
    "start_time": "2023-06-05T13:38:34.123Z"
   },
   {
    "duration": 4743,
    "start_time": "2023-06-05T13:38:41.413Z"
   },
   {
    "duration": 812,
    "start_time": "2023-06-05T13:38:46.158Z"
   },
   {
    "duration": 213,
    "start_time": "2023-06-05T13:38:46.972Z"
   },
   {
    "duration": 121,
    "start_time": "2023-06-05T13:38:47.187Z"
   },
   {
    "duration": 4,
    "start_time": "2023-06-05T13:38:47.309Z"
   },
   {
    "duration": 120,
    "start_time": "2023-06-05T13:38:47.315Z"
   },
   {
    "duration": 22,
    "start_time": "2023-06-05T13:38:47.436Z"
   },
   {
    "duration": 1597,
    "start_time": "2023-06-06T16:18:55.044Z"
   },
   {
    "duration": 165,
    "start_time": "2023-06-06T16:18:56.644Z"
   },
   {
    "duration": 3,
    "start_time": "2023-06-06T16:18:56.811Z"
   },
   {
    "duration": 78,
    "start_time": "2023-06-06T16:18:56.815Z"
   },
   {
    "duration": 5,
    "start_time": "2023-06-06T16:18:59.776Z"
   },
   {
    "duration": 104,
    "start_time": "2023-06-06T16:20:01.163Z"
   },
   {
    "duration": 107,
    "start_time": "2023-06-06T16:20:15.475Z"
   },
   {
    "duration": 16,
    "start_time": "2023-06-06T16:20:29.353Z"
   },
   {
    "duration": 5,
    "start_time": "2023-06-06T16:21:04.120Z"
   },
   {
    "duration": 12,
    "start_time": "2023-06-06T16:25:59.870Z"
   },
   {
    "duration": 20,
    "start_time": "2023-06-06T16:27:08.619Z"
   },
   {
    "duration": 13,
    "start_time": "2023-06-06T16:33:16.446Z"
   },
   {
    "duration": 4,
    "start_time": "2023-06-06T16:33:52.903Z"
   },
   {
    "duration": 4,
    "start_time": "2023-06-06T16:34:57.920Z"
   },
   {
    "duration": 14,
    "start_time": "2023-06-06T16:35:13.795Z"
   },
   {
    "duration": 5,
    "start_time": "2023-06-06T16:49:53.982Z"
   },
   {
    "duration": 13,
    "start_time": "2023-06-06T16:51:10.608Z"
   },
   {
    "duration": 12,
    "start_time": "2023-06-06T16:51:19.420Z"
   },
   {
    "duration": 9,
    "start_time": "2023-06-06T16:51:23.468Z"
   },
   {
    "duration": 23,
    "start_time": "2023-06-06T16:52:05.345Z"
   },
   {
    "duration": 5,
    "start_time": "2023-06-06T16:52:17.380Z"
   },
   {
    "duration": 53,
    "start_time": "2023-06-06T16:52:17.388Z"
   },
   {
    "duration": 3,
    "start_time": "2023-06-06T16:52:17.443Z"
   },
   {
    "duration": 77,
    "start_time": "2023-06-06T16:52:17.448Z"
   },
   {
    "duration": 4,
    "start_time": "2023-06-06T16:52:17.528Z"
   },
   {
    "duration": 42,
    "start_time": "2023-06-06T16:52:17.534Z"
   },
   {
    "duration": 40,
    "start_time": "2023-06-06T16:52:17.577Z"
   },
   {
    "duration": 5,
    "start_time": "2023-06-06T16:52:17.618Z"
   },
   {
    "duration": 22,
    "start_time": "2023-06-06T16:52:17.624Z"
   },
   {
    "duration": 17,
    "start_time": "2023-06-06T16:52:17.648Z"
   },
   {
    "duration": 5,
    "start_time": "2023-06-06T16:52:17.669Z"
   },
   {
    "duration": 29,
    "start_time": "2023-06-06T16:52:17.676Z"
   },
   {
    "duration": 53,
    "start_time": "2023-06-06T16:52:17.707Z"
   },
   {
    "duration": 12,
    "start_time": "2023-06-06T16:52:17.761Z"
   },
   {
    "duration": 234,
    "start_time": "2023-06-06T16:52:17.775Z"
   },
   {
    "duration": 0,
    "start_time": "2023-06-06T16:52:18.011Z"
   },
   {
    "duration": 0,
    "start_time": "2023-06-06T16:52:18.013Z"
   },
   {
    "duration": 0,
    "start_time": "2023-06-06T16:52:18.014Z"
   },
   {
    "duration": 0,
    "start_time": "2023-06-06T16:52:18.015Z"
   },
   {
    "duration": 0,
    "start_time": "2023-06-06T16:52:18.017Z"
   },
   {
    "duration": 0,
    "start_time": "2023-06-06T16:52:18.019Z"
   },
   {
    "duration": 0,
    "start_time": "2023-06-06T16:52:18.020Z"
   },
   {
    "duration": 0,
    "start_time": "2023-06-06T16:52:18.022Z"
   },
   {
    "duration": 0,
    "start_time": "2023-06-06T16:52:18.024Z"
   },
   {
    "duration": 0,
    "start_time": "2023-06-06T16:52:18.026Z"
   },
   {
    "duration": 0,
    "start_time": "2023-06-06T16:52:18.027Z"
   },
   {
    "duration": 0,
    "start_time": "2023-06-06T16:52:18.029Z"
   },
   {
    "duration": 0,
    "start_time": "2023-06-06T16:52:18.058Z"
   },
   {
    "duration": 0,
    "start_time": "2023-06-06T16:52:18.059Z"
   },
   {
    "duration": 0,
    "start_time": "2023-06-06T16:52:18.061Z"
   },
   {
    "duration": 0,
    "start_time": "2023-06-06T16:52:18.063Z"
   },
   {
    "duration": 0,
    "start_time": "2023-06-06T16:52:18.065Z"
   },
   {
    "duration": 0,
    "start_time": "2023-06-06T16:52:18.066Z"
   },
   {
    "duration": 0,
    "start_time": "2023-06-06T16:52:18.071Z"
   },
   {
    "duration": 0,
    "start_time": "2023-06-06T16:52:18.073Z"
   },
   {
    "duration": 0,
    "start_time": "2023-06-06T16:52:18.075Z"
   },
   {
    "duration": 0,
    "start_time": "2023-06-06T16:52:18.076Z"
   },
   {
    "duration": 0,
    "start_time": "2023-06-06T16:52:18.078Z"
   },
   {
    "duration": 0,
    "start_time": "2023-06-06T16:52:18.080Z"
   },
   {
    "duration": 0,
    "start_time": "2023-06-06T16:52:18.082Z"
   },
   {
    "duration": 411,
    "start_time": "2023-06-06T16:53:25.976Z"
   },
   {
    "duration": 177,
    "start_time": "2023-06-06T16:58:10.894Z"
   },
   {
    "duration": 454,
    "start_time": "2023-06-06T16:58:40.574Z"
   },
   {
    "duration": 405,
    "start_time": "2023-06-06T17:02:42.815Z"
   },
   {
    "duration": 8,
    "start_time": "2023-06-06T17:17:55.524Z"
   },
   {
    "duration": 1614,
    "start_time": "2023-06-06T17:18:16.347Z"
   },
   {
    "duration": 104,
    "start_time": "2023-06-06T17:19:10.373Z"
   },
   {
    "duration": 907,
    "start_time": "2023-06-06T17:20:47.574Z"
   },
   {
    "duration": 14,
    "start_time": "2023-06-06T17:21:49.123Z"
   },
   {
    "duration": 13,
    "start_time": "2023-06-06T17:22:38.296Z"
   },
   {
    "duration": 14,
    "start_time": "2023-06-06T17:22:56.047Z"
   },
   {
    "duration": 17,
    "start_time": "2023-06-06T17:24:17.433Z"
   },
   {
    "duration": 3,
    "start_time": "2023-06-06T17:25:28.784Z"
   },
   {
    "duration": 43,
    "start_time": "2023-06-06T17:25:28.792Z"
   },
   {
    "duration": 4,
    "start_time": "2023-06-06T17:25:28.836Z"
   },
   {
    "duration": 87,
    "start_time": "2023-06-06T17:25:28.841Z"
   },
   {
    "duration": 5,
    "start_time": "2023-06-06T17:25:28.930Z"
   },
   {
    "duration": 41,
    "start_time": "2023-06-06T17:25:28.937Z"
   },
   {
    "duration": 14,
    "start_time": "2023-06-06T17:25:28.980Z"
   },
   {
    "duration": 5,
    "start_time": "2023-06-06T17:25:28.995Z"
   },
   {
    "duration": 19,
    "start_time": "2023-06-06T17:25:29.002Z"
   },
   {
    "duration": 11,
    "start_time": "2023-06-06T17:25:29.058Z"
   },
   {
    "duration": 4,
    "start_time": "2023-06-06T17:25:29.072Z"
   },
   {
    "duration": 16,
    "start_time": "2023-06-06T17:25:29.078Z"
   },
   {
    "duration": 19,
    "start_time": "2023-06-06T17:25:29.096Z"
   },
   {
    "duration": 4,
    "start_time": "2023-06-06T17:25:29.117Z"
   },
   {
    "duration": 24,
    "start_time": "2023-06-06T17:25:29.156Z"
   },
   {
    "duration": 4,
    "start_time": "2023-06-06T17:25:29.182Z"
   },
   {
    "duration": 16,
    "start_time": "2023-06-06T17:25:29.187Z"
   },
   {
    "duration": 8,
    "start_time": "2023-06-06T17:25:29.205Z"
   },
   {
    "duration": 7,
    "start_time": "2023-06-06T17:25:29.215Z"
   },
   {
    "duration": 36,
    "start_time": "2023-06-06T17:25:29.224Z"
   },
   {
    "duration": 5,
    "start_time": "2023-06-06T17:25:29.262Z"
   },
   {
    "duration": 6,
    "start_time": "2023-06-06T17:25:29.269Z"
   },
   {
    "duration": 11,
    "start_time": "2023-06-06T17:25:29.277Z"
   },
   {
    "duration": 25,
    "start_time": "2023-06-06T17:25:29.289Z"
   },
   {
    "duration": 47,
    "start_time": "2023-06-06T17:25:29.315Z"
   },
   {
    "duration": 20,
    "start_time": "2023-06-06T17:25:29.364Z"
   },
   {
    "duration": 6590,
    "start_time": "2023-06-06T17:25:29.386Z"
   },
   {
    "duration": 3135,
    "start_time": "2023-06-06T17:25:35.977Z"
   },
   {
    "duration": 544,
    "start_time": "2023-06-06T17:25:39.115Z"
   },
   {
    "duration": 198,
    "start_time": "2023-06-06T17:25:39.660Z"
   },
   {
    "duration": 5,
    "start_time": "2023-06-06T17:25:39.860Z"
   },
   {
    "duration": 102,
    "start_time": "2023-06-06T17:25:39.867Z"
   },
   {
    "duration": 7597,
    "start_time": "2023-06-06T17:25:39.971Z"
   },
   {
    "duration": 5076,
    "start_time": "2023-06-06T17:25:47.570Z"
   },
   {
    "duration": 779,
    "start_time": "2023-06-06T17:25:52.648Z"
   },
   {
    "duration": 236,
    "start_time": "2023-06-06T17:25:53.428Z"
   },
   {
    "duration": 201,
    "start_time": "2023-06-06T17:25:53.666Z"
   },
   {
    "duration": 6,
    "start_time": "2023-06-06T17:25:53.869Z"
   },
   {
    "duration": 268,
    "start_time": "2023-06-06T17:25:53.876Z"
   },
   {
    "duration": 36,
    "start_time": "2023-06-06T17:25:54.146Z"
   },
   {
    "duration": 6,
    "start_time": "2023-06-06T17:29:00.839Z"
   },
   {
    "duration": 21,
    "start_time": "2023-06-06T17:29:41.180Z"
   },
   {
    "duration": 13,
    "start_time": "2023-06-06T17:30:14.056Z"
   },
   {
    "duration": 3,
    "start_time": "2023-06-06T17:30:23.131Z"
   },
   {
    "duration": 46,
    "start_time": "2023-06-06T17:30:23.137Z"
   },
   {
    "duration": 2,
    "start_time": "2023-06-06T17:30:23.185Z"
   },
   {
    "duration": 68,
    "start_time": "2023-06-06T17:30:23.189Z"
   },
   {
    "duration": 5,
    "start_time": "2023-06-06T17:30:23.259Z"
   },
   {
    "duration": 24,
    "start_time": "2023-06-06T17:30:23.265Z"
   },
   {
    "duration": 13,
    "start_time": "2023-06-06T17:30:23.290Z"
   },
   {
    "duration": 4,
    "start_time": "2023-06-06T17:30:23.305Z"
   },
   {
    "duration": 46,
    "start_time": "2023-06-06T17:30:23.311Z"
   },
   {
    "duration": 11,
    "start_time": "2023-06-06T17:30:23.359Z"
   },
   {
    "duration": 13,
    "start_time": "2023-06-06T17:30:23.373Z"
   },
   {
    "duration": 21,
    "start_time": "2023-06-06T17:30:23.387Z"
   },
   {
    "duration": 26,
    "start_time": "2023-06-06T17:30:23.409Z"
   },
   {
    "duration": 11,
    "start_time": "2023-06-06T17:30:23.436Z"
   },
   {
    "duration": 24,
    "start_time": "2023-06-06T17:30:23.448Z"
   },
   {
    "duration": 3,
    "start_time": "2023-06-06T17:30:23.473Z"
   },
   {
    "duration": 14,
    "start_time": "2023-06-06T17:30:23.478Z"
   },
   {
    "duration": 5,
    "start_time": "2023-06-06T17:30:23.494Z"
   },
   {
    "duration": 6,
    "start_time": "2023-06-06T17:30:23.501Z"
   },
   {
    "duration": 5,
    "start_time": "2023-06-06T17:30:23.508Z"
   },
   {
    "duration": 5,
    "start_time": "2023-06-06T17:30:23.514Z"
   },
   {
    "duration": 6,
    "start_time": "2023-06-06T17:30:23.520Z"
   },
   {
    "duration": 15,
    "start_time": "2023-06-06T17:30:23.558Z"
   },
   {
    "duration": 27,
    "start_time": "2023-06-06T17:30:23.575Z"
   },
   {
    "duration": 19,
    "start_time": "2023-06-06T17:30:23.604Z"
   },
   {
    "duration": 39,
    "start_time": "2023-06-06T17:30:23.625Z"
   },
   {
    "duration": 6305,
    "start_time": "2023-06-06T17:30:23.667Z"
   },
   {
    "duration": 3212,
    "start_time": "2023-06-06T17:30:29.974Z"
   },
   {
    "duration": 544,
    "start_time": "2023-06-06T17:30:33.189Z"
   },
   {
    "duration": 224,
    "start_time": "2023-06-06T17:30:33.734Z"
   },
   {
    "duration": 6,
    "start_time": "2023-06-06T17:30:33.959Z"
   },
   {
    "duration": 92,
    "start_time": "2023-06-06T17:30:33.967Z"
   },
   {
    "duration": 16,
    "start_time": "2023-06-06T17:30:34.061Z"
   },
   {
    "duration": 5375,
    "start_time": "2023-06-06T17:30:34.079Z"
   },
   {
    "duration": 3492,
    "start_time": "2023-06-06T17:30:39.457Z"
   },
   {
    "duration": 578,
    "start_time": "2023-06-06T17:30:42.957Z"
   },
   {
    "duration": 220,
    "start_time": "2023-06-06T17:30:43.537Z"
   },
   {
    "duration": 111,
    "start_time": "2023-06-06T17:30:43.759Z"
   },
   {
    "duration": 5,
    "start_time": "2023-06-06T17:30:43.871Z"
   },
   {
    "duration": 179,
    "start_time": "2023-06-06T17:30:43.878Z"
   },
   {
    "duration": 36,
    "start_time": "2023-06-06T17:30:44.059Z"
   },
   {
    "duration": 5,
    "start_time": "2023-06-06T17:32:23.627Z"
   },
   {
    "duration": 4,
    "start_time": "2023-06-06T18:14:32.430Z"
   },
   {
    "duration": 14,
    "start_time": "2023-06-06T18:14:46.390Z"
   },
   {
    "duration": 7,
    "start_time": "2023-06-06T18:15:13.711Z"
   },
   {
    "duration": 16,
    "start_time": "2023-06-06T18:15:30.411Z"
   },
   {
    "duration": 7,
    "start_time": "2023-06-06T18:15:33.531Z"
   },
   {
    "duration": 27,
    "start_time": "2023-06-06T18:15:39.477Z"
   },
   {
    "duration": 11,
    "start_time": "2023-06-06T18:15:52.687Z"
   },
   {
    "duration": 6,
    "start_time": "2023-06-06T18:15:55.934Z"
   },
   {
    "duration": 13,
    "start_time": "2023-06-06T18:16:01.889Z"
   },
   {
    "duration": 7,
    "start_time": "2023-06-06T18:16:05.351Z"
   },
   {
    "duration": 13,
    "start_time": "2023-06-06T18:16:15.688Z"
   },
   {
    "duration": 7,
    "start_time": "2023-06-06T18:16:19.570Z"
   },
   {
    "duration": 12,
    "start_time": "2023-06-06T18:16:27.105Z"
   },
   {
    "duration": 10,
    "start_time": "2023-06-06T18:16:29.815Z"
   },
   {
    "duration": 10,
    "start_time": "2023-06-06T18:16:36.576Z"
   },
   {
    "duration": 6,
    "start_time": "2023-06-06T18:16:39.317Z"
   },
   {
    "duration": 11,
    "start_time": "2023-06-06T18:16:45.199Z"
   },
   {
    "duration": 7,
    "start_time": "2023-06-06T18:16:47.576Z"
   },
   {
    "duration": 10,
    "start_time": "2023-06-06T18:16:56.802Z"
   },
   {
    "duration": 6,
    "start_time": "2023-06-06T18:16:59.243Z"
   },
   {
    "duration": 2155,
    "start_time": "2023-06-06T18:22:24.531Z"
   },
   {
    "duration": 6,
    "start_time": "2023-06-06T18:22:48.507Z"
   },
   {
    "duration": 63,
    "start_time": "2023-06-06T18:22:48.516Z"
   },
   {
    "duration": 5,
    "start_time": "2023-06-06T18:22:48.582Z"
   },
   {
    "duration": 121,
    "start_time": "2023-06-06T18:22:48.590Z"
   },
   {
    "duration": 6,
    "start_time": "2023-06-06T18:22:48.712Z"
   },
   {
    "duration": 42,
    "start_time": "2023-06-06T18:22:48.720Z"
   },
   {
    "duration": 79,
    "start_time": "2023-06-06T18:22:48.765Z"
   },
   {
    "duration": 5,
    "start_time": "2023-06-06T18:22:48.846Z"
   },
   {
    "duration": 39,
    "start_time": "2023-06-06T18:22:48.855Z"
   },
   {
    "duration": 16,
    "start_time": "2023-06-06T18:22:48.903Z"
   },
   {
    "duration": 5,
    "start_time": "2023-06-06T18:22:48.920Z"
   },
   {
    "duration": 17,
    "start_time": "2023-06-06T18:22:48.927Z"
   },
   {
    "duration": 30,
    "start_time": "2023-06-06T18:22:48.946Z"
   },
   {
    "duration": 19,
    "start_time": "2023-06-06T18:22:48.980Z"
   },
   {
    "duration": 34,
    "start_time": "2023-06-06T18:22:49.001Z"
   },
   {
    "duration": 4,
    "start_time": "2023-06-06T18:22:49.038Z"
   },
   {
    "duration": 21,
    "start_time": "2023-06-06T18:22:49.044Z"
   },
   {
    "duration": 9,
    "start_time": "2023-06-06T18:22:49.067Z"
   },
   {
    "duration": 11,
    "start_time": "2023-06-06T18:22:49.078Z"
   },
   {
    "duration": 8,
    "start_time": "2023-06-06T18:22:49.092Z"
   },
   {
    "duration": 9,
    "start_time": "2023-06-06T18:22:49.103Z"
   },
   {
    "duration": 28,
    "start_time": "2023-06-06T18:22:49.114Z"
   },
   {
    "duration": 28,
    "start_time": "2023-06-06T18:22:49.144Z"
   },
   {
    "duration": 32,
    "start_time": "2023-06-06T18:22:49.176Z"
   },
   {
    "duration": 20,
    "start_time": "2023-06-06T18:22:49.210Z"
   },
   {
    "duration": 45,
    "start_time": "2023-06-06T18:22:49.232Z"
   },
   {
    "duration": 8897,
    "start_time": "2023-06-06T18:22:49.278Z"
   },
   {
    "duration": 4309,
    "start_time": "2023-06-06T18:22:58.177Z"
   },
   {
    "duration": 758,
    "start_time": "2023-06-06T18:23:02.498Z"
   },
   {
    "duration": 526,
    "start_time": "2023-06-06T18:23:03.263Z"
   },
   {
    "duration": 70,
    "start_time": "2023-06-06T18:23:03.792Z"
   },
   {
    "duration": 23,
    "start_time": "2023-06-06T18:23:03.882Z"
   },
   {
    "duration": 16,
    "start_time": "2023-06-06T18:23:03.913Z"
   },
   {
    "duration": 33,
    "start_time": "2023-06-06T18:23:03.931Z"
   },
   {
    "duration": 16,
    "start_time": "2023-06-06T18:23:03.967Z"
   },
   {
    "duration": 17,
    "start_time": "2023-06-06T18:23:03.986Z"
   },
   {
    "duration": 15,
    "start_time": "2023-06-06T18:23:04.006Z"
   },
   {
    "duration": 7214,
    "start_time": "2023-06-06T18:23:04.027Z"
   },
   {
    "duration": 4770,
    "start_time": "2023-06-06T18:23:11.243Z"
   },
   {
    "duration": 830,
    "start_time": "2023-06-06T18:23:16.015Z"
   },
   {
    "duration": 418,
    "start_time": "2023-06-06T18:23:16.846Z"
   },
   {
    "duration": 144,
    "start_time": "2023-06-06T18:23:17.266Z"
   },
   {
    "duration": 7,
    "start_time": "2023-06-06T18:23:17.412Z"
   },
   {
    "duration": 158,
    "start_time": "2023-06-06T18:23:17.421Z"
   },
   {
    "duration": 35,
    "start_time": "2023-06-06T18:23:17.582Z"
   },
   {
    "duration": 6,
    "start_time": "2023-06-06T18:25:58.557Z"
   },
   {
    "duration": 49,
    "start_time": "2023-06-06T18:25:58.584Z"
   },
   {
    "duration": 4,
    "start_time": "2023-06-06T18:25:58.635Z"
   },
   {
    "duration": 91,
    "start_time": "2023-06-06T18:25:58.641Z"
   },
   {
    "duration": 6,
    "start_time": "2023-06-06T18:25:58.735Z"
   },
   {
    "duration": 30,
    "start_time": "2023-06-06T18:25:58.759Z"
   },
   {
    "duration": 95,
    "start_time": "2023-06-06T18:25:58.791Z"
   },
   {
    "duration": 7,
    "start_time": "2023-06-06T18:25:58.887Z"
   },
   {
    "duration": 90,
    "start_time": "2023-06-06T18:25:58.896Z"
   },
   {
    "duration": 15,
    "start_time": "2023-06-06T18:25:58.988Z"
   },
   {
    "duration": 5,
    "start_time": "2023-06-06T18:25:59.006Z"
   },
   {
    "duration": 15,
    "start_time": "2023-06-06T18:25:59.012Z"
   },
   {
    "duration": 44,
    "start_time": "2023-06-06T18:25:59.029Z"
   },
   {
    "duration": 10,
    "start_time": "2023-06-06T18:25:59.075Z"
   },
   {
    "duration": 28,
    "start_time": "2023-06-06T18:25:59.089Z"
   },
   {
    "duration": 5,
    "start_time": "2023-06-06T18:25:59.119Z"
   },
   {
    "duration": 42,
    "start_time": "2023-06-06T18:25:59.126Z"
   },
   {
    "duration": 7,
    "start_time": "2023-06-06T18:25:59.169Z"
   },
   {
    "duration": 7,
    "start_time": "2023-06-06T18:25:59.178Z"
   },
   {
    "duration": 7,
    "start_time": "2023-06-06T18:25:59.187Z"
   },
   {
    "duration": 19,
    "start_time": "2023-06-06T18:25:59.196Z"
   },
   {
    "duration": 8,
    "start_time": "2023-06-06T18:25:59.218Z"
   },
   {
    "duration": 36,
    "start_time": "2023-06-06T18:25:59.229Z"
   },
   {
    "duration": 30,
    "start_time": "2023-06-06T18:25:59.268Z"
   },
   {
    "duration": 21,
    "start_time": "2023-06-06T18:25:59.300Z"
   },
   {
    "duration": 50,
    "start_time": "2023-06-06T18:25:59.323Z"
   },
   {
    "duration": 7718,
    "start_time": "2023-06-06T18:25:59.375Z"
   },
   {
    "duration": 3615,
    "start_time": "2023-06-06T18:26:07.097Z"
   },
   {
    "duration": 640,
    "start_time": "2023-06-06T18:26:10.714Z"
   },
   {
    "duration": 322,
    "start_time": "2023-06-06T18:26:11.361Z"
   },
   {
    "duration": 87,
    "start_time": "2023-06-06T18:26:11.691Z"
   },
   {
    "duration": 13,
    "start_time": "2023-06-06T18:26:11.795Z"
   },
   {
    "duration": 16,
    "start_time": "2023-06-06T18:26:11.810Z"
   },
   {
    "duration": 7,
    "start_time": "2023-06-06T18:26:11.859Z"
   },
   {
    "duration": 5,
    "start_time": "2023-06-06T18:26:11.868Z"
   },
   {
    "duration": 17,
    "start_time": "2023-06-06T18:26:11.876Z"
   },
   {
    "duration": 6,
    "start_time": "2023-06-06T18:26:11.895Z"
   },
   {
    "duration": 6678,
    "start_time": "2023-06-06T18:26:11.903Z"
   },
   {
    "duration": 4735,
    "start_time": "2023-06-06T18:26:18.583Z"
   },
   {
    "duration": 822,
    "start_time": "2023-06-06T18:26:23.319Z"
   },
   {
    "duration": 318,
    "start_time": "2023-06-06T18:26:24.143Z"
   },
   {
    "duration": 59,
    "start_time": "2023-06-06T18:26:24.501Z"
   },
   {
    "duration": 9,
    "start_time": "2023-06-06T18:26:24.562Z"
   },
   {
    "duration": 246,
    "start_time": "2023-06-06T18:26:24.573Z"
   },
   {
    "duration": 44,
    "start_time": "2023-06-06T18:26:24.822Z"
   },
   {
    "duration": 63627,
    "start_time": "2023-06-06T18:34:06.412Z"
   },
   {
    "duration": 180,
    "start_time": "2023-06-06T18:37:29.434Z"
   },
   {
    "duration": 120,
    "start_time": "2023-06-06T18:37:45.394Z"
   },
   {
    "duration": 65013,
    "start_time": "2023-06-06T18:38:13.004Z"
   },
   {
    "duration": 615,
    "start_time": "2023-06-06T18:40:22.009Z"
   },
   {
    "duration": 63324,
    "start_time": "2023-06-06T18:42:04.603Z"
   },
   {
    "duration": 729,
    "start_time": "2023-06-06T18:43:59.251Z"
   },
   {
    "duration": 59,
    "start_time": "2023-06-06T18:44:39.358Z"
   },
   {
    "duration": 4,
    "start_time": "2023-06-06T19:04:02.728Z"
   },
   {
    "duration": 155,
    "start_time": "2023-06-06T19:04:02.735Z"
   },
   {
    "duration": 3,
    "start_time": "2023-06-06T19:04:02.892Z"
   },
   {
    "duration": 75,
    "start_time": "2023-06-06T19:04:02.897Z"
   },
   {
    "duration": 6,
    "start_time": "2023-06-06T19:04:02.974Z"
   },
   {
    "duration": 40,
    "start_time": "2023-06-06T19:04:02.982Z"
   },
   {
    "duration": 57,
    "start_time": "2023-06-06T19:04:03.023Z"
   },
   {
    "duration": 6,
    "start_time": "2023-06-06T19:04:03.082Z"
   },
   {
    "duration": 79,
    "start_time": "2023-06-06T19:04:03.090Z"
   },
   {
    "duration": 13,
    "start_time": "2023-06-06T19:04:03.177Z"
   },
   {
    "duration": 4,
    "start_time": "2023-06-06T19:04:03.192Z"
   },
   {
    "duration": 19,
    "start_time": "2023-06-06T19:04:03.198Z"
   },
   {
    "duration": 39,
    "start_time": "2023-06-06T19:04:03.219Z"
   },
   {
    "duration": 5,
    "start_time": "2023-06-06T19:04:03.270Z"
   },
   {
    "duration": 35,
    "start_time": "2023-06-06T19:04:03.278Z"
   },
   {
    "duration": 8,
    "start_time": "2023-06-06T19:04:03.315Z"
   },
   {
    "duration": 16,
    "start_time": "2023-06-06T19:04:03.325Z"
   },
   {
    "duration": 21,
    "start_time": "2023-06-06T19:04:03.343Z"
   },
   {
    "duration": 9,
    "start_time": "2023-06-06T19:04:03.370Z"
   },
   {
    "duration": 8,
    "start_time": "2023-06-06T19:04:03.382Z"
   },
   {
    "duration": 7,
    "start_time": "2023-06-06T19:04:03.392Z"
   },
   {
    "duration": 6,
    "start_time": "2023-06-06T19:04:03.400Z"
   },
   {
    "duration": 13,
    "start_time": "2023-06-06T19:04:03.407Z"
   },
   {
    "duration": 49,
    "start_time": "2023-06-06T19:04:03.422Z"
   },
   {
    "duration": 19,
    "start_time": "2023-06-06T19:04:03.476Z"
   },
   {
    "duration": 29,
    "start_time": "2023-06-06T19:04:03.497Z"
   },
   {
    "duration": 55992,
    "start_time": "2023-06-06T19:04:03.528Z"
   },
   {
    "duration": 509,
    "start_time": "2023-06-06T19:04:59.525Z"
   },
   {
    "duration": 9,
    "start_time": "2023-06-06T19:05:00.036Z"
   },
   {
    "duration": 205,
    "start_time": "2023-06-06T19:05:00.057Z"
   },
   {
    "duration": 103,
    "start_time": "2023-06-06T19:05:00.263Z"
   },
   {
    "duration": 113,
    "start_time": "2023-06-06T19:05:00.368Z"
   },
   {
    "duration": 34,
    "start_time": "2023-06-06T19:05:00.483Z"
   },
   {
    "duration": 52,
    "start_time": "2023-06-06T19:05:00.518Z"
   },
   {
    "duration": 19,
    "start_time": "2023-06-06T19:05:00.571Z"
   },
   {
    "duration": 36,
    "start_time": "2023-06-06T19:05:00.592Z"
   },
   {
    "duration": 46,
    "start_time": "2023-06-06T19:05:00.630Z"
   },
   {
    "duration": 21,
    "start_time": "2023-06-06T19:05:00.678Z"
   },
   {
    "duration": 50199,
    "start_time": "2023-06-06T19:05:00.701Z"
   },
   {
    "duration": 36,
    "start_time": "2023-06-06T19:05:50.902Z"
   },
   {
    "duration": 614,
    "start_time": "2023-06-06T19:05:50.940Z"
   },
   {
    "duration": 12,
    "start_time": "2023-06-06T19:05:51.556Z"
   },
   {
    "duration": 212,
    "start_time": "2023-06-06T19:05:51.571Z"
   },
   {
    "duration": 93,
    "start_time": "2023-06-06T19:05:51.785Z"
   },
   {
    "duration": 184,
    "start_time": "2023-06-06T19:05:51.881Z"
   },
   {
    "duration": 1,
    "start_time": "2023-06-06T19:05:52.067Z"
   },
   {
    "duration": 0,
    "start_time": "2023-06-06T19:05:52.069Z"
   },
   {
    "duration": 0,
    "start_time": "2023-06-06T19:05:52.070Z"
   },
   {
    "duration": 0,
    "start_time": "2023-06-06T19:05:52.071Z"
   },
   {
    "duration": 1,
    "start_time": "2023-06-06T19:05:52.072Z"
   },
   {
    "duration": 59257,
    "start_time": "2023-06-06T19:06:36.176Z"
   },
   {
    "duration": 39,
    "start_time": "2023-06-06T19:12:05.489Z"
   },
   {
    "duration": 136,
    "start_time": "2023-06-06T19:16:07.664Z"
   },
   {
    "duration": 222,
    "start_time": "2023-06-06T19:17:09.358Z"
   },
   {
    "duration": 223,
    "start_time": "2023-06-06T19:17:39.316Z"
   },
   {
    "duration": 145,
    "start_time": "2023-06-06T19:18:41.884Z"
   },
   {
    "duration": 210,
    "start_time": "2023-06-06T19:19:13.107Z"
   },
   {
    "duration": 323,
    "start_time": "2023-06-06T19:20:57.411Z"
   },
   {
    "duration": 286,
    "start_time": "2023-06-06T19:21:36.859Z"
   },
   {
    "duration": 315,
    "start_time": "2023-06-06T19:22:17.427Z"
   },
   {
    "duration": 322,
    "start_time": "2023-06-06T19:23:17.940Z"
   },
   {
    "duration": 80,
    "start_time": "2023-06-06T19:24:06.149Z"
   },
   {
    "duration": 12,
    "start_time": "2023-06-06T19:24:13.135Z"
   },
   {
    "duration": 102,
    "start_time": "2023-06-06T19:24:18.443Z"
   },
   {
    "duration": 309,
    "start_time": "2023-06-06T19:24:21.318Z"
   },
   {
    "duration": 69122,
    "start_time": "2023-06-06T19:29:16.104Z"
   },
   {
    "duration": 33,
    "start_time": "2023-06-06T19:30:33.596Z"
   },
   {
    "duration": 61656,
    "start_time": "2023-06-06T19:30:57.424Z"
   },
   {
    "duration": 51,
    "start_time": "2023-06-06T19:32:04.503Z"
   },
   {
    "duration": 769,
    "start_time": "2023-06-06T19:33:29.621Z"
   },
   {
    "duration": 1265,
    "start_time": "2023-06-06T19:33:48.699Z"
   },
   {
    "duration": 836,
    "start_time": "2023-06-06T19:34:11.803Z"
   },
   {
    "duration": 1132,
    "start_time": "2023-06-06T19:34:36.258Z"
   },
   {
    "duration": 13,
    "start_time": "2023-06-06T19:34:40.443Z"
   },
   {
    "duration": 6,
    "start_time": "2023-06-06T19:37:56.808Z"
   },
   {
    "duration": 12,
    "start_time": "2023-06-06T19:38:23.431Z"
   },
   {
    "duration": 14,
    "start_time": "2023-06-06T19:39:01.204Z"
   },
   {
    "duration": 23,
    "start_time": "2023-06-06T19:39:25.350Z"
   },
   {
    "duration": 15,
    "start_time": "2023-06-06T19:39:35.714Z"
   },
   {
    "duration": 13,
    "start_time": "2023-06-06T19:39:44.413Z"
   },
   {
    "duration": 67,
    "start_time": "2023-06-06T19:42:34.694Z"
   },
   {
    "duration": 25,
    "start_time": "2023-06-06T19:42:58.043Z"
   },
   {
    "duration": 4,
    "start_time": "2023-06-06T19:45:10.505Z"
   },
   {
    "duration": 68,
    "start_time": "2023-06-06T19:45:10.512Z"
   },
   {
    "duration": 6,
    "start_time": "2023-06-06T19:45:10.582Z"
   },
   {
    "duration": 124,
    "start_time": "2023-06-06T19:45:10.593Z"
   },
   {
    "duration": 8,
    "start_time": "2023-06-06T19:45:10.720Z"
   },
   {
    "duration": 49,
    "start_time": "2023-06-06T19:45:10.731Z"
   },
   {
    "duration": 82,
    "start_time": "2023-06-06T19:45:10.781Z"
   },
   {
    "duration": 20,
    "start_time": "2023-06-06T19:45:10.869Z"
   },
   {
    "duration": 61,
    "start_time": "2023-06-06T19:45:10.892Z"
   },
   {
    "duration": 27,
    "start_time": "2023-06-06T19:45:10.955Z"
   },
   {
    "duration": 11,
    "start_time": "2023-06-06T19:45:10.990Z"
   },
   {
    "duration": 24,
    "start_time": "2023-06-06T19:45:11.009Z"
   },
   {
    "duration": 18,
    "start_time": "2023-06-06T19:45:11.035Z"
   },
   {
    "duration": 22,
    "start_time": "2023-06-06T19:45:11.055Z"
   },
   {
    "duration": 38,
    "start_time": "2023-06-06T19:45:11.079Z"
   },
   {
    "duration": 5,
    "start_time": "2023-06-06T19:45:11.119Z"
   },
   {
    "duration": 28,
    "start_time": "2023-06-06T19:45:11.127Z"
   },
   {
    "duration": 16,
    "start_time": "2023-06-06T19:45:11.160Z"
   },
   {
    "duration": 12,
    "start_time": "2023-06-06T19:45:11.177Z"
   },
   {
    "duration": 8,
    "start_time": "2023-06-06T19:45:11.191Z"
   },
   {
    "duration": 13,
    "start_time": "2023-06-06T19:45:11.201Z"
   },
   {
    "duration": 27,
    "start_time": "2023-06-06T19:45:11.222Z"
   },
   {
    "duration": 45,
    "start_time": "2023-06-06T19:45:11.251Z"
   },
   {
    "duration": 39,
    "start_time": "2023-06-06T19:45:11.299Z"
   },
   {
    "duration": 37,
    "start_time": "2023-06-06T19:45:11.339Z"
   },
   {
    "duration": 42,
    "start_time": "2023-06-06T19:45:11.382Z"
   },
   {
    "duration": 69875,
    "start_time": "2023-06-06T19:45:11.429Z"
   },
   {
    "duration": 36,
    "start_time": "2023-06-06T19:46:21.306Z"
   },
   {
    "duration": 616,
    "start_time": "2023-06-06T19:46:21.357Z"
   },
   {
    "duration": 11,
    "start_time": "2023-06-06T19:46:21.975Z"
   },
   {
    "duration": 222,
    "start_time": "2023-06-06T19:46:21.988Z"
   },
   {
    "duration": 93,
    "start_time": "2023-06-06T19:46:22.274Z"
   },
   {
    "duration": 17,
    "start_time": "2023-06-06T19:46:22.375Z"
   },
   {
    "duration": 20,
    "start_time": "2023-06-06T19:46:22.462Z"
   },
   {
    "duration": 26,
    "start_time": "2023-06-06T19:46:22.487Z"
   },
   {
    "duration": 7,
    "start_time": "2023-06-06T19:46:22.516Z"
   },
   {
    "duration": 6,
    "start_time": "2023-06-06T19:46:22.526Z"
   },
   {
    "duration": 34,
    "start_time": "2023-06-06T19:46:22.534Z"
   },
   {
    "duration": 29,
    "start_time": "2023-06-06T19:46:22.569Z"
   },
   {
    "duration": 58592,
    "start_time": "2023-06-06T19:46:22.600Z"
   },
   {
    "duration": 44,
    "start_time": "2023-06-06T19:47:21.196Z"
   },
   {
    "duration": 1181,
    "start_time": "2023-06-06T19:47:21.242Z"
   },
   {
    "duration": 8,
    "start_time": "2023-06-06T19:47:22.425Z"
   },
   {
    "duration": 374,
    "start_time": "2023-06-06T19:47:22.435Z"
   },
   {
    "duration": 135,
    "start_time": "2023-06-06T19:47:22.859Z"
   },
   {
    "duration": 39,
    "start_time": "2023-06-06T19:47:23.076Z"
   },
   {
    "duration": 50,
    "start_time": "2023-06-06T19:47:23.117Z"
   },
   {
    "duration": 162,
    "start_time": "2023-06-06T19:47:23.179Z"
   },
   {
    "duration": 59,
    "start_time": "2023-06-06T19:47:23.343Z"
   },
   {
    "duration": 109244,
    "start_time": "2023-06-06T19:52:26.604Z"
   },
   {
    "duration": 43,
    "start_time": "2023-06-06T19:55:10.910Z"
   },
   {
    "duration": 918,
    "start_time": "2023-06-06T19:56:00.648Z"
   },
   {
    "duration": 29,
    "start_time": "2023-06-06T19:56:57.355Z"
   },
   {
    "duration": 1248,
    "start_time": "2023-06-06T19:57:28.838Z"
   },
   {
    "duration": 32,
    "start_time": "2023-06-06T19:57:34.753Z"
   },
   {
    "duration": 15,
    "start_time": "2023-06-06T19:58:03.730Z"
   },
   {
    "duration": 58,
    "start_time": "2023-06-06T19:58:18.016Z"
   },
   {
    "duration": 136573,
    "start_time": "2023-06-06T19:58:40.526Z"
   },
   {
    "duration": 64906,
    "start_time": "2023-06-06T20:01:18.525Z"
   },
   {
    "duration": 40,
    "start_time": "2023-06-06T20:02:33.528Z"
   },
   {
    "duration": 35,
    "start_time": "2023-06-06T20:02:47.308Z"
   },
   {
    "duration": 50897,
    "start_time": "2023-06-06T20:04:12.138Z"
   },
   {
    "duration": 76,
    "start_time": "2023-06-06T20:07:22.086Z"
   },
   {
    "duration": 107079,
    "start_time": "2023-06-06T20:10:09.326Z"
   },
   {
    "duration": 51,
    "start_time": "2023-06-06T20:12:03.435Z"
   },
   {
    "duration": 67045,
    "start_time": "2023-06-06T20:12:41.657Z"
   },
   {
    "duration": 60,
    "start_time": "2023-06-06T20:13:55.895Z"
   },
   {
    "duration": 134715,
    "start_time": "2023-06-06T20:14:12.631Z"
   },
   {
    "duration": 42,
    "start_time": "2023-06-06T20:16:34.406Z"
   },
   {
    "duration": 40,
    "start_time": "2023-06-06T20:16:56.503Z"
   },
   {
    "duration": 59982,
    "start_time": "2023-06-06T20:17:40.572Z"
   },
   {
    "duration": 68,
    "start_time": "2023-06-06T20:18:56.387Z"
   },
   {
    "duration": 82781,
    "start_time": "2023-06-06T20:21:06.337Z"
   },
   {
    "duration": 87,
    "start_time": "2023-06-06T20:23:45.655Z"
   },
   {
    "duration": 65,
    "start_time": "2023-06-06T20:25:11.144Z"
   },
   {
    "duration": 9,
    "start_time": "2023-06-06T20:25:21.188Z"
   },
   {
    "duration": 74,
    "start_time": "2023-06-06T20:25:21.213Z"
   },
   {
    "duration": 6,
    "start_time": "2023-06-06T20:25:21.289Z"
   },
   {
    "duration": 156,
    "start_time": "2023-06-06T20:25:21.299Z"
   },
   {
    "duration": 18,
    "start_time": "2023-06-06T20:25:21.457Z"
   },
   {
    "duration": 41,
    "start_time": "2023-06-06T20:25:21.478Z"
   },
   {
    "duration": 101,
    "start_time": "2023-06-06T20:25:21.524Z"
   },
   {
    "duration": 35,
    "start_time": "2023-06-06T20:25:21.632Z"
   },
   {
    "duration": 129,
    "start_time": "2023-06-06T20:25:21.671Z"
   },
   {
    "duration": 26,
    "start_time": "2023-06-06T20:25:21.803Z"
   },
   {
    "duration": 9,
    "start_time": "2023-06-06T20:25:21.832Z"
   },
   {
    "duration": 35,
    "start_time": "2023-06-06T20:25:21.857Z"
   },
   {
    "duration": 43,
    "start_time": "2023-06-06T20:25:21.894Z"
   },
   {
    "duration": 5,
    "start_time": "2023-06-06T20:25:21.941Z"
   },
   {
    "duration": 62,
    "start_time": "2023-06-06T20:25:21.950Z"
   },
   {
    "duration": 15,
    "start_time": "2023-06-06T20:25:22.016Z"
   },
   {
    "duration": 31,
    "start_time": "2023-06-06T20:25:22.038Z"
   },
   {
    "duration": 13,
    "start_time": "2023-06-06T20:25:22.079Z"
   },
   {
    "duration": 13,
    "start_time": "2023-06-06T20:25:22.096Z"
   },
   {
    "duration": 22,
    "start_time": "2023-06-06T20:25:22.113Z"
   },
   {
    "duration": 9,
    "start_time": "2023-06-06T20:25:22.142Z"
   },
   {
    "duration": 8,
    "start_time": "2023-06-06T20:25:22.160Z"
   },
   {
    "duration": 31,
    "start_time": "2023-06-06T20:25:22.178Z"
   },
   {
    "duration": 53,
    "start_time": "2023-06-06T20:25:22.224Z"
   },
   {
    "duration": 45,
    "start_time": "2023-06-06T20:25:22.286Z"
   },
   {
    "duration": 36,
    "start_time": "2023-06-06T20:25:22.341Z"
   },
   {
    "duration": 100222,
    "start_time": "2023-06-06T20:25:22.384Z"
   },
   {
    "duration": 67,
    "start_time": "2023-06-06T20:27:02.616Z"
   },
   {
    "duration": 909,
    "start_time": "2023-06-06T20:27:02.689Z"
   },
   {
    "duration": 13,
    "start_time": "2023-06-06T20:27:03.604Z"
   },
   {
    "duration": 293,
    "start_time": "2023-06-06T20:27:03.623Z"
   },
   {
    "duration": 86,
    "start_time": "2023-06-06T20:27:03.944Z"
   },
   {
    "duration": 39,
    "start_time": "2023-06-06T20:27:04.060Z"
   },
   {
    "duration": 20,
    "start_time": "2023-06-06T20:27:04.104Z"
   },
   {
    "duration": 23,
    "start_time": "2023-06-06T20:27:04.131Z"
   },
   {
    "duration": 13,
    "start_time": "2023-06-06T20:27:04.160Z"
   },
   {
    "duration": 18,
    "start_time": "2023-06-06T20:27:04.178Z"
   },
   {
    "duration": 26,
    "start_time": "2023-06-06T20:27:04.205Z"
   },
   {
    "duration": 17,
    "start_time": "2023-06-06T20:27:04.241Z"
   },
   {
    "duration": 86829,
    "start_time": "2023-06-06T20:27:04.267Z"
   },
   {
    "duration": 38,
    "start_time": "2023-06-06T20:28:31.101Z"
   },
   {
    "duration": 1122,
    "start_time": "2023-06-06T20:28:31.141Z"
   },
   {
    "duration": 13,
    "start_time": "2023-06-06T20:28:32.264Z"
   },
   {
    "duration": 356,
    "start_time": "2023-06-06T20:28:32.279Z"
   },
   {
    "duration": 63,
    "start_time": "2023-06-06T20:28:32.657Z"
   },
   {
    "duration": 95,
    "start_time": "2023-06-06T20:28:32.729Z"
   },
   {
    "duration": 38,
    "start_time": "2023-06-06T20:28:32.830Z"
   },
   {
    "duration": 191,
    "start_time": "2023-06-06T20:28:32.877Z"
   },
   {
    "duration": 50,
    "start_time": "2023-06-06T20:28:33.079Z"
   },
   {
    "duration": 86576,
    "start_time": "2023-06-06T20:29:09.122Z"
   },
   {
    "duration": 61,
    "start_time": "2023-06-06T20:31:26.518Z"
   },
   {
    "duration": 113743,
    "start_time": "2023-06-06T20:31:43.119Z"
   },
   {
    "duration": 118030,
    "start_time": "2023-06-06T20:34:27.060Z"
   },
   {
    "duration": 97375,
    "start_time": "2023-06-06T20:44:26.736Z"
   },
   {
    "duration": 42,
    "start_time": "2023-06-06T20:46:30.594Z"
   },
   {
    "duration": 47987,
    "start_time": "2023-06-06T20:46:48.049Z"
   },
   {
    "duration": 48,
    "start_time": "2023-06-06T20:48:23.526Z"
   },
   {
    "duration": 951,
    "start_time": "2023-06-06T20:48:47.038Z"
   },
   {
    "duration": 1095,
    "start_time": "2023-06-06T20:48:55.587Z"
   },
   {
    "duration": 1023,
    "start_time": "2023-06-06T20:49:12.281Z"
   },
   {
    "duration": 1087,
    "start_time": "2023-06-06T20:49:19.629Z"
   },
   {
    "duration": 405,
    "start_time": "2023-06-06T20:49:52.318Z"
   },
   {
    "duration": 9,
    "start_time": "2023-06-06T20:49:59.209Z"
   },
   {
    "duration": 92973,
    "start_time": "2023-06-06T20:50:40.395Z"
   },
   {
    "duration": 36631,
    "start_time": "2023-06-06T20:52:21.415Z"
   },
   {
    "duration": 43,
    "start_time": "2023-06-06T20:53:19.194Z"
   },
   {
    "duration": 33884,
    "start_time": "2023-06-06T20:59:30.294Z"
   },
   {
    "duration": 32617,
    "start_time": "2023-06-06T21:00:46.596Z"
   },
   {
    "duration": 32487,
    "start_time": "2023-06-06T21:01:37.042Z"
   },
   {
    "duration": 43924,
    "start_time": "2023-06-06T21:03:39.891Z"
   },
   {
    "duration": 44818,
    "start_time": "2023-06-06T21:04:48.195Z"
   },
   {
    "duration": 834,
    "start_time": "2023-06-06T21:08:46.410Z"
   },
   {
    "duration": 8,
    "start_time": "2023-06-06T21:09:24.839Z"
   },
   {
    "duration": 482,
    "start_time": "2023-06-06T21:10:38.035Z"
   },
   {
    "duration": 424,
    "start_time": "2023-06-06T21:11:00.700Z"
   },
   {
    "duration": 518,
    "start_time": "2023-06-06T21:11:32.919Z"
   },
   {
    "duration": 10,
    "start_time": "2023-06-06T21:11:36.449Z"
   },
   {
    "duration": 13,
    "start_time": "2023-06-06T21:13:04.018Z"
   },
   {
    "duration": 49255,
    "start_time": "2023-06-06T21:13:22.256Z"
   },
   {
    "duration": 35,
    "start_time": "2023-06-06T21:15:08.095Z"
   },
   {
    "duration": 34526,
    "start_time": "2023-06-06T21:15:37.291Z"
   },
   {
    "duration": 6,
    "start_time": "2023-06-06T21:34:28.989Z"
   },
   {
    "duration": 4,
    "start_time": "2023-06-06T21:49:57.010Z"
   },
   {
    "duration": 49,
    "start_time": "2023-06-06T21:49:57.021Z"
   },
   {
    "duration": 4,
    "start_time": "2023-06-06T21:49:57.072Z"
   },
   {
    "duration": 63,
    "start_time": "2023-06-06T21:49:57.077Z"
   },
   {
    "duration": 11,
    "start_time": "2023-06-06T21:49:57.160Z"
   },
   {
    "duration": 27,
    "start_time": "2023-06-06T21:49:57.173Z"
   },
   {
    "duration": 66,
    "start_time": "2023-06-06T21:49:57.203Z"
   },
   {
    "duration": 6,
    "start_time": "2023-06-06T21:49:57.271Z"
   },
   {
    "duration": 62,
    "start_time": "2023-06-06T21:49:57.283Z"
   },
   {
    "duration": 41,
    "start_time": "2023-06-06T21:49:57.347Z"
   },
   {
    "duration": 4,
    "start_time": "2023-06-06T21:49:57.392Z"
   },
   {
    "duration": 17,
    "start_time": "2023-06-06T21:49:57.397Z"
   },
   {
    "duration": 13,
    "start_time": "2023-06-06T21:49:57.415Z"
   },
   {
    "duration": 7,
    "start_time": "2023-06-06T21:49:57.430Z"
   },
   {
    "duration": 38,
    "start_time": "2023-06-06T21:49:57.438Z"
   },
   {
    "duration": 7,
    "start_time": "2023-06-06T21:49:57.478Z"
   },
   {
    "duration": 12,
    "start_time": "2023-06-06T21:49:57.487Z"
   },
   {
    "duration": 5,
    "start_time": "2023-06-06T21:49:57.501Z"
   },
   {
    "duration": 6,
    "start_time": "2023-06-06T21:49:57.507Z"
   },
   {
    "duration": 5,
    "start_time": "2023-06-06T21:49:57.515Z"
   },
   {
    "duration": 5,
    "start_time": "2023-06-06T21:49:57.521Z"
   },
   {
    "duration": 33,
    "start_time": "2023-06-06T21:49:57.527Z"
   },
   {
    "duration": 23,
    "start_time": "2023-06-06T21:49:57.562Z"
   },
   {
    "duration": 23,
    "start_time": "2023-06-06T21:49:57.587Z"
   },
   {
    "duration": 19,
    "start_time": "2023-06-06T21:49:57.612Z"
   },
   {
    "duration": 43,
    "start_time": "2023-06-06T21:49:57.633Z"
   },
   {
    "duration": 32303,
    "start_time": "2023-06-06T21:49:57.678Z"
   },
   {
    "duration": 34,
    "start_time": "2023-06-06T21:50:29.985Z"
   },
   {
    "duration": 399,
    "start_time": "2023-06-06T21:50:30.022Z"
   },
   {
    "duration": 8,
    "start_time": "2023-06-06T21:50:30.423Z"
   },
   {
    "duration": 758,
    "start_time": "2023-06-06T21:50:30.432Z"
   },
   {
    "duration": 82,
    "start_time": "2023-06-06T21:50:31.192Z"
   },
   {
    "duration": 97,
    "start_time": "2023-06-06T21:50:31.276Z"
   },
   {
    "duration": 21,
    "start_time": "2023-06-06T21:50:31.375Z"
   },
   {
    "duration": 33,
    "start_time": "2023-06-06T21:50:31.398Z"
   },
   {
    "duration": 42,
    "start_time": "2023-06-06T21:50:31.433Z"
   },
   {
    "duration": 51,
    "start_time": "2023-06-06T21:50:31.477Z"
   },
   {
    "duration": 23,
    "start_time": "2023-06-06T21:50:31.529Z"
   },
   {
    "duration": 38,
    "start_time": "2023-06-06T21:50:31.554Z"
   },
   {
    "duration": 41983,
    "start_time": "2023-06-06T21:50:31.594Z"
   },
   {
    "duration": 37,
    "start_time": "2023-06-06T21:51:13.586Z"
   },
   {
    "duration": 407,
    "start_time": "2023-06-06T21:51:13.625Z"
   },
   {
    "duration": 33,
    "start_time": "2023-06-06T21:51:14.034Z"
   },
   {
    "duration": 685,
    "start_time": "2023-06-06T21:51:14.076Z"
   },
   {
    "duration": 92,
    "start_time": "2023-06-06T21:51:14.770Z"
   },
   {
    "duration": 28,
    "start_time": "2023-06-06T21:51:14.864Z"
   },
   {
    "duration": 8,
    "start_time": "2023-06-06T21:51:14.957Z"
   },
   {
    "duration": 141,
    "start_time": "2023-06-06T21:51:14.971Z"
   },
   {
    "duration": 32,
    "start_time": "2023-06-06T21:51:15.113Z"
   },
   {
    "duration": 2428,
    "start_time": "2023-06-06T21:55:12.592Z"
   },
   {
    "duration": 8,
    "start_time": "2023-06-06T21:56:43.783Z"
   },
   {
    "duration": 44,
    "start_time": "2023-06-06T21:56:43.793Z"
   },
   {
    "duration": 3,
    "start_time": "2023-06-06T21:56:43.839Z"
   },
   {
    "duration": 86,
    "start_time": "2023-06-06T21:56:43.845Z"
   },
   {
    "duration": 6,
    "start_time": "2023-06-06T21:56:43.934Z"
   },
   {
    "duration": 31,
    "start_time": "2023-06-06T21:56:43.964Z"
   },
   {
    "duration": 87,
    "start_time": "2023-06-06T21:56:43.998Z"
   },
   {
    "duration": 10,
    "start_time": "2023-06-06T21:56:44.093Z"
   },
   {
    "duration": 17,
    "start_time": "2023-06-06T21:56:44.108Z"
   },
   {
    "duration": 12,
    "start_time": "2023-06-06T21:56:44.127Z"
   },
   {
    "duration": 22,
    "start_time": "2023-06-06T21:56:44.141Z"
   },
   {
    "duration": 34,
    "start_time": "2023-06-06T21:56:44.167Z"
   },
   {
    "duration": 19,
    "start_time": "2023-06-06T21:56:44.207Z"
   },
   {
    "duration": 6,
    "start_time": "2023-06-06T21:56:44.228Z"
   },
   {
    "duration": 59,
    "start_time": "2023-06-06T21:56:44.237Z"
   },
   {
    "duration": 10,
    "start_time": "2023-06-06T21:56:44.300Z"
   },
   {
    "duration": 14,
    "start_time": "2023-06-06T21:56:44.312Z"
   },
   {
    "duration": 6,
    "start_time": "2023-06-06T21:56:44.327Z"
   },
   {
    "duration": 7,
    "start_time": "2023-06-06T21:56:44.335Z"
   },
   {
    "duration": 7,
    "start_time": "2023-06-06T21:56:44.344Z"
   },
   {
    "duration": 5,
    "start_time": "2023-06-06T21:56:44.357Z"
   },
   {
    "duration": 9,
    "start_time": "2023-06-06T21:56:44.370Z"
   },
   {
    "duration": 25,
    "start_time": "2023-06-06T21:56:44.382Z"
   },
   {
    "duration": 23,
    "start_time": "2023-06-06T21:56:44.410Z"
   },
   {
    "duration": 34,
    "start_time": "2023-06-06T21:56:44.434Z"
   },
   {
    "duration": 26,
    "start_time": "2023-06-06T21:56:44.469Z"
   },
   {
    "duration": 35096,
    "start_time": "2023-06-06T21:56:44.497Z"
   },
   {
    "duration": 34,
    "start_time": "2023-06-06T21:57:19.596Z"
   },
   {
    "duration": 368,
    "start_time": "2023-06-06T21:57:19.632Z"
   },
   {
    "duration": 12,
    "start_time": "2023-06-06T21:57:20.003Z"
   },
   {
    "duration": 561,
    "start_time": "2023-06-06T21:57:20.017Z"
   },
   {
    "duration": 92,
    "start_time": "2023-06-06T21:57:20.584Z"
   },
   {
    "duration": 83,
    "start_time": "2023-06-06T21:57:20.687Z"
   },
   {
    "duration": 6,
    "start_time": "2023-06-06T21:57:20.780Z"
   },
   {
    "duration": 15,
    "start_time": "2023-06-06T21:57:20.787Z"
   },
   {
    "duration": 7,
    "start_time": "2023-06-06T21:57:20.804Z"
   },
   {
    "duration": 10,
    "start_time": "2023-06-06T21:57:20.813Z"
   },
   {
    "duration": 15,
    "start_time": "2023-06-06T21:57:20.825Z"
   },
   {
    "duration": 21,
    "start_time": "2023-06-06T21:57:20.842Z"
   },
   {
    "duration": 45158,
    "start_time": "2023-06-06T21:57:20.864Z"
   },
   {
    "duration": 38,
    "start_time": "2023-06-06T21:58:06.024Z"
   },
   {
    "duration": 406,
    "start_time": "2023-06-06T21:58:06.063Z"
   },
   {
    "duration": 16,
    "start_time": "2023-06-06T21:58:06.475Z"
   },
   {
    "duration": 1265,
    "start_time": "2023-06-06T21:58:06.495Z"
   },
   {
    "duration": 99,
    "start_time": "2023-06-06T21:58:07.765Z"
   },
   {
    "duration": 86,
    "start_time": "2023-06-06T21:58:07.876Z"
   },
   {
    "duration": 10,
    "start_time": "2023-06-06T21:58:07.974Z"
   },
   {
    "duration": 155,
    "start_time": "2023-06-06T21:58:07.991Z"
   },
   {
    "duration": 45,
    "start_time": "2023-06-06T21:58:08.149Z"
   },
   {
    "duration": 4,
    "start_time": "2023-06-06T22:01:11.400Z"
   },
   {
    "duration": 54,
    "start_time": "2023-06-06T22:01:11.406Z"
   },
   {
    "duration": 8,
    "start_time": "2023-06-06T22:01:11.469Z"
   },
   {
    "duration": 105,
    "start_time": "2023-06-06T22:01:11.479Z"
   },
   {
    "duration": 10,
    "start_time": "2023-06-06T22:01:11.589Z"
   },
   {
    "duration": 23,
    "start_time": "2023-06-06T22:01:11.601Z"
   },
   {
    "duration": 95,
    "start_time": "2023-06-06T22:01:11.626Z"
   },
   {
    "duration": 5,
    "start_time": "2023-06-06T22:01:11.724Z"
   },
   {
    "duration": 54,
    "start_time": "2023-06-06T22:01:11.733Z"
   },
   {
    "duration": 14,
    "start_time": "2023-06-06T22:01:11.795Z"
   },
   {
    "duration": 4,
    "start_time": "2023-06-06T22:01:11.811Z"
   },
   {
    "duration": 19,
    "start_time": "2023-06-06T22:01:11.817Z"
   },
   {
    "duration": 43,
    "start_time": "2023-06-06T22:01:11.839Z"
   },
   {
    "duration": 10,
    "start_time": "2023-06-06T22:01:11.884Z"
   },
   {
    "duration": 27,
    "start_time": "2023-06-06T22:01:11.895Z"
   },
   {
    "duration": 5,
    "start_time": "2023-06-06T22:01:11.924Z"
   },
   {
    "duration": 15,
    "start_time": "2023-06-06T22:01:11.932Z"
   },
   {
    "duration": 16,
    "start_time": "2023-06-06T22:01:11.949Z"
   },
   {
    "duration": 18,
    "start_time": "2023-06-06T22:01:11.967Z"
   },
   {
    "duration": 8,
    "start_time": "2023-06-06T22:01:11.989Z"
   },
   {
    "duration": 7,
    "start_time": "2023-06-06T22:01:12.000Z"
   },
   {
    "duration": 12,
    "start_time": "2023-06-06T22:01:12.009Z"
   },
   {
    "duration": 12,
    "start_time": "2023-06-06T22:01:12.022Z"
   },
   {
    "duration": 50,
    "start_time": "2023-06-06T22:01:12.037Z"
   },
   {
    "duration": 20,
    "start_time": "2023-06-06T22:01:12.088Z"
   },
   {
    "duration": 20,
    "start_time": "2023-06-06T22:01:12.110Z"
   },
   {
    "duration": 33967,
    "start_time": "2023-06-06T22:01:12.132Z"
   },
   {
    "duration": 37,
    "start_time": "2023-06-06T22:01:46.102Z"
   },
   {
    "duration": 329,
    "start_time": "2023-06-06T22:01:46.141Z"
   },
   {
    "duration": 21,
    "start_time": "2023-06-06T22:01:46.474Z"
   },
   {
    "duration": 199,
    "start_time": "2023-06-06T22:01:46.497Z"
   },
   {
    "duration": 86,
    "start_time": "2023-06-06T22:01:46.701Z"
   },
   {
    "duration": 69,
    "start_time": "2023-06-06T22:01:46.789Z"
   },
   {
    "duration": 23,
    "start_time": "2023-06-06T22:01:46.865Z"
   },
   {
    "duration": 80,
    "start_time": "2023-06-06T22:01:46.896Z"
   },
   {
    "duration": 12,
    "start_time": "2023-06-06T22:01:46.978Z"
   },
   {
    "duration": 8,
    "start_time": "2023-06-06T22:01:46.992Z"
   },
   {
    "duration": 16,
    "start_time": "2023-06-06T22:01:47.002Z"
   },
   {
    "duration": 12,
    "start_time": "2023-06-06T22:01:47.020Z"
   },
   {
    "duration": 45235,
    "start_time": "2023-06-06T22:01:47.033Z"
   },
   {
    "duration": 42,
    "start_time": "2023-06-06T22:02:32.270Z"
   },
   {
    "duration": 388,
    "start_time": "2023-06-06T22:02:32.314Z"
   },
   {
    "duration": 10,
    "start_time": "2023-06-06T22:02:32.704Z"
   },
   {
    "duration": 989,
    "start_time": "2023-06-06T22:02:32.716Z"
   },
   {
    "duration": 71,
    "start_time": "2023-06-06T22:02:33.710Z"
   },
   {
    "duration": 42,
    "start_time": "2023-06-06T22:02:33.874Z"
   },
   {
    "duration": 6,
    "start_time": "2023-06-06T22:02:33.922Z"
   },
   {
    "duration": 201,
    "start_time": "2023-06-06T22:02:33.931Z"
   },
   {
    "duration": 56,
    "start_time": "2023-06-06T22:02:34.134Z"
   },
   {
    "duration": 1635,
    "start_time": "2023-06-07T15:43:50.185Z"
   },
   {
    "duration": 154,
    "start_time": "2023-06-07T15:43:51.823Z"
   },
   {
    "duration": 3,
    "start_time": "2023-06-07T15:43:51.979Z"
   },
   {
    "duration": 79,
    "start_time": "2023-06-07T15:43:51.984Z"
   },
   {
    "duration": 5,
    "start_time": "2023-06-07T15:43:52.065Z"
   },
   {
    "duration": 20,
    "start_time": "2023-06-07T15:43:52.072Z"
   },
   {
    "duration": 65,
    "start_time": "2023-06-07T15:43:52.094Z"
   },
   {
    "duration": 4,
    "start_time": "2023-06-07T15:43:52.161Z"
   },
   {
    "duration": 17,
    "start_time": "2023-06-07T15:43:52.167Z"
   },
   {
    "duration": 10,
    "start_time": "2023-06-07T15:43:52.186Z"
   },
   {
    "duration": 4,
    "start_time": "2023-06-07T15:43:52.198Z"
   },
   {
    "duration": 15,
    "start_time": "2023-06-07T15:43:52.203Z"
   },
   {
    "duration": 38,
    "start_time": "2023-06-07T15:43:52.219Z"
   },
   {
    "duration": 14,
    "start_time": "2023-06-07T15:43:52.261Z"
   },
   {
    "duration": 19,
    "start_time": "2023-06-07T15:43:52.276Z"
   },
   {
    "duration": 3,
    "start_time": "2023-06-07T15:43:52.297Z"
   },
   {
    "duration": 12,
    "start_time": "2023-06-07T15:43:52.301Z"
   },
   {
    "duration": 11,
    "start_time": "2023-06-07T15:43:52.315Z"
   },
   {
    "duration": 25,
    "start_time": "2023-06-07T15:43:52.328Z"
   },
   {
    "duration": 5,
    "start_time": "2023-06-07T15:43:52.355Z"
   },
   {
    "duration": 4,
    "start_time": "2023-06-07T15:43:52.361Z"
   },
   {
    "duration": 3,
    "start_time": "2023-06-07T15:43:52.367Z"
   },
   {
    "duration": 10,
    "start_time": "2023-06-07T15:43:52.372Z"
   },
   {
    "duration": 21,
    "start_time": "2023-06-07T15:43:52.383Z"
   },
   {
    "duration": 48,
    "start_time": "2023-06-07T15:43:52.406Z"
   },
   {
    "duration": 21,
    "start_time": "2023-06-07T15:43:52.456Z"
   },
   {
    "duration": 29568,
    "start_time": "2023-06-07T15:43:52.479Z"
   },
   {
    "duration": 36,
    "start_time": "2023-06-07T15:44:22.050Z"
   },
   {
    "duration": 298,
    "start_time": "2023-06-07T15:44:22.087Z"
   },
   {
    "duration": 7,
    "start_time": "2023-06-07T15:44:22.387Z"
   },
   {
    "duration": 1055,
    "start_time": "2023-06-07T15:44:22.396Z"
   },
   {
    "duration": 98,
    "start_time": "2023-06-07T15:44:23.453Z"
   },
   {
    "duration": 6,
    "start_time": "2023-06-07T15:44:23.553Z"
   },
   {
    "duration": 4,
    "start_time": "2023-06-07T15:44:23.650Z"
   },
   {
    "duration": 12,
    "start_time": "2023-06-07T15:44:23.656Z"
   },
   {
    "duration": 5,
    "start_time": "2023-06-07T15:44:23.670Z"
   },
   {
    "duration": 8,
    "start_time": "2023-06-07T15:44:23.676Z"
   },
   {
    "duration": 10,
    "start_time": "2023-06-07T15:44:23.686Z"
   },
   {
    "duration": 5,
    "start_time": "2023-06-07T15:44:23.698Z"
   },
   {
    "duration": 39191,
    "start_time": "2023-06-07T15:44:23.704Z"
   },
   {
    "duration": 32,
    "start_time": "2023-06-07T15:45:02.899Z"
   },
   {
    "duration": 381,
    "start_time": "2023-06-07T15:45:02.932Z"
   },
   {
    "duration": 9,
    "start_time": "2023-06-07T15:45:03.315Z"
   },
   {
    "duration": 226,
    "start_time": "2023-06-07T15:45:03.326Z"
   },
   {
    "duration": 100,
    "start_time": "2023-06-07T15:45:03.554Z"
   },
   {
    "duration": 18953,
    "start_time": "2023-06-07T15:45:03.656Z"
   },
   {
    "duration": 41,
    "start_time": "2023-06-07T15:45:22.611Z"
   },
   {
    "duration": 168,
    "start_time": "2023-06-07T15:45:22.654Z"
   },
   {
    "duration": 7,
    "start_time": "2023-06-07T15:45:22.824Z"
   },
   {
    "duration": 118,
    "start_time": "2023-06-07T15:45:22.833Z"
   },
   {
    "duration": 100,
    "start_time": "2023-06-07T15:45:22.953Z"
   },
   {
    "duration": 100,
    "start_time": "2023-06-07T15:45:23.055Z"
   },
   {
    "duration": 4,
    "start_time": "2023-06-07T15:45:23.157Z"
   },
   {
    "duration": 154,
    "start_time": "2023-06-07T15:45:23.163Z"
   },
   {
    "duration": 41,
    "start_time": "2023-06-07T15:45:23.319Z"
   },
   {
    "duration": 117,
    "start_time": "2023-06-07T15:51:21.028Z"
   },
   {
    "duration": 19,
    "start_time": "2023-06-07T15:52:20.365Z"
   },
   {
    "duration": 14,
    "start_time": "2023-06-07T15:52:48.256Z"
   },
   {
    "duration": 11,
    "start_time": "2023-06-07T15:53:26.139Z"
   },
   {
    "duration": 5,
    "start_time": "2023-06-07T16:12:14.212Z"
   },
   {
    "duration": 50,
    "start_time": "2023-06-07T16:12:14.222Z"
   },
   {
    "duration": 4,
    "start_time": "2023-06-07T16:12:14.274Z"
   },
   {
    "duration": 87,
    "start_time": "2023-06-07T16:12:14.280Z"
   },
   {
    "duration": 4,
    "start_time": "2023-06-07T16:12:14.369Z"
   },
   {
    "duration": 28,
    "start_time": "2023-06-07T16:12:14.375Z"
   },
   {
    "duration": 73,
    "start_time": "2023-06-07T16:12:14.404Z"
   },
   {
    "duration": 5,
    "start_time": "2023-06-07T16:12:14.479Z"
   },
   {
    "duration": 15,
    "start_time": "2023-06-07T16:12:14.486Z"
   },
   {
    "duration": 14,
    "start_time": "2023-06-07T16:12:14.503Z"
   },
   {
    "duration": 5,
    "start_time": "2023-06-07T16:12:14.550Z"
   },
   {
    "duration": 18,
    "start_time": "2023-06-07T16:12:14.556Z"
   },
   {
    "duration": 14,
    "start_time": "2023-06-07T16:12:14.575Z"
   },
   {
    "duration": 3,
    "start_time": "2023-06-07T16:12:14.590Z"
   },
   {
    "duration": 18,
    "start_time": "2023-06-07T16:12:14.595Z"
   },
   {
    "duration": 36,
    "start_time": "2023-06-07T16:12:14.614Z"
   },
   {
    "duration": 14,
    "start_time": "2023-06-07T16:12:14.653Z"
   },
   {
    "duration": 6,
    "start_time": "2023-06-07T16:12:14.669Z"
   },
   {
    "duration": 7,
    "start_time": "2023-06-07T16:12:14.676Z"
   },
   {
    "duration": 6,
    "start_time": "2023-06-07T16:12:14.684Z"
   },
   {
    "duration": 5,
    "start_time": "2023-06-07T16:12:14.692Z"
   },
   {
    "duration": 4,
    "start_time": "2023-06-07T16:12:14.698Z"
   },
   {
    "duration": 8,
    "start_time": "2023-06-07T16:12:14.704Z"
   },
   {
    "duration": 53,
    "start_time": "2023-06-07T16:12:14.714Z"
   },
   {
    "duration": 19,
    "start_time": "2023-06-07T16:12:14.769Z"
   },
   {
    "duration": 19,
    "start_time": "2023-06-07T16:12:14.790Z"
   },
   {
    "duration": 30351,
    "start_time": "2023-06-07T16:12:14.811Z"
   },
   {
    "duration": 30,
    "start_time": "2023-06-07T16:12:45.164Z"
   },
   {
    "duration": 306,
    "start_time": "2023-06-07T16:12:45.199Z"
   },
   {
    "duration": 8,
    "start_time": "2023-06-07T16:12:45.507Z"
   },
   {
    "duration": 137,
    "start_time": "2023-06-07T16:12:45.517Z"
   },
   {
    "duration": 98,
    "start_time": "2023-06-07T16:12:45.655Z"
   },
   {
    "duration": 97,
    "start_time": "2023-06-07T16:12:45.755Z"
   },
   {
    "duration": 13,
    "start_time": "2023-06-07T16:12:45.853Z"
   },
   {
    "duration": 22,
    "start_time": "2023-06-07T16:12:45.867Z"
   },
   {
    "duration": 15,
    "start_time": "2023-06-07T16:12:45.890Z"
   },
   {
    "duration": 11,
    "start_time": "2023-06-07T16:12:45.907Z"
   },
   {
    "duration": 11,
    "start_time": "2023-06-07T16:12:45.919Z"
   },
   {
    "duration": 5,
    "start_time": "2023-06-07T16:12:45.932Z"
   },
   {
    "duration": 40162,
    "start_time": "2023-06-07T16:12:45.939Z"
   },
   {
    "duration": 32,
    "start_time": "2023-06-07T16:13:26.104Z"
   },
   {
    "duration": 381,
    "start_time": "2023-06-07T16:13:26.150Z"
   },
   {
    "duration": 17,
    "start_time": "2023-06-07T16:13:26.533Z"
   },
   {
    "duration": 200,
    "start_time": "2023-06-07T16:13:26.552Z"
   },
   {
    "duration": 103,
    "start_time": "2023-06-07T16:13:26.754Z"
   },
   {
    "duration": 19504,
    "start_time": "2023-06-07T16:13:26.862Z"
   },
   {
    "duration": 31,
    "start_time": "2023-06-07T16:13:46.368Z"
   },
   {
    "duration": 202,
    "start_time": "2023-06-07T16:13:46.400Z"
   },
   {
    "duration": 9,
    "start_time": "2023-06-07T16:13:46.604Z"
   },
   {
    "duration": 136,
    "start_time": "2023-06-07T16:13:46.615Z"
   },
   {
    "duration": 98,
    "start_time": "2023-06-07T16:13:46.757Z"
   },
   {
    "duration": 99,
    "start_time": "2023-06-07T16:13:46.856Z"
   },
   {
    "duration": 7,
    "start_time": "2023-06-07T16:13:46.956Z"
   },
   {
    "duration": 142,
    "start_time": "2023-06-07T16:13:46.965Z"
   },
   {
    "duration": 42,
    "start_time": "2023-06-07T16:13:47.108Z"
   },
   {
    "duration": 4,
    "start_time": "2023-06-07T16:17:47.055Z"
   },
   {
    "duration": 45,
    "start_time": "2023-06-07T16:17:47.067Z"
   },
   {
    "duration": 3,
    "start_time": "2023-06-07T16:17:47.114Z"
   },
   {
    "duration": 66,
    "start_time": "2023-06-07T16:17:47.118Z"
   },
   {
    "duration": 5,
    "start_time": "2023-06-07T16:17:47.186Z"
   },
   {
    "duration": 30,
    "start_time": "2023-06-07T16:17:47.192Z"
   },
   {
    "duration": 76,
    "start_time": "2023-06-07T16:17:47.224Z"
   },
   {
    "duration": 5,
    "start_time": "2023-06-07T16:17:47.302Z"
   },
   {
    "duration": 42,
    "start_time": "2023-06-07T16:17:47.309Z"
   },
   {
    "duration": 11,
    "start_time": "2023-06-07T16:17:47.352Z"
   },
   {
    "duration": 4,
    "start_time": "2023-06-07T16:17:47.366Z"
   },
   {
    "duration": 14,
    "start_time": "2023-06-07T16:17:47.371Z"
   },
   {
    "duration": 15,
    "start_time": "2023-06-07T16:17:47.387Z"
   },
   {
    "duration": 4,
    "start_time": "2023-06-07T16:17:47.403Z"
   },
   {
    "duration": 56,
    "start_time": "2023-06-07T16:17:47.409Z"
   },
   {
    "duration": 4,
    "start_time": "2023-06-07T16:17:47.467Z"
   },
   {
    "duration": 14,
    "start_time": "2023-06-07T16:17:47.473Z"
   },
   {
    "duration": 6,
    "start_time": "2023-06-07T16:17:47.489Z"
   },
   {
    "duration": 8,
    "start_time": "2023-06-07T16:17:47.497Z"
   },
   {
    "duration": 8,
    "start_time": "2023-06-07T16:17:47.507Z"
   },
   {
    "duration": 6,
    "start_time": "2023-06-07T16:17:47.516Z"
   },
   {
    "duration": 4,
    "start_time": "2023-06-07T16:17:47.551Z"
   },
   {
    "duration": 10,
    "start_time": "2023-06-07T16:17:47.557Z"
   },
   {
    "duration": 23,
    "start_time": "2023-06-07T16:17:47.568Z"
   },
   {
    "duration": 19,
    "start_time": "2023-06-07T16:17:47.593Z"
   },
   {
    "duration": 48,
    "start_time": "2023-06-07T16:17:47.614Z"
   },
   {
    "duration": 30548,
    "start_time": "2023-06-07T16:17:47.664Z"
   },
   {
    "duration": 38,
    "start_time": "2023-06-07T16:18:18.214Z"
   },
   {
    "duration": 315,
    "start_time": "2023-06-07T16:18:18.256Z"
   },
   {
    "duration": 9,
    "start_time": "2023-06-07T16:18:18.572Z"
   },
   {
    "duration": 267,
    "start_time": "2023-06-07T16:18:18.583Z"
   },
   {
    "duration": 9,
    "start_time": "2023-06-07T16:18:18.854Z"
   },
   {
    "duration": 11,
    "start_time": "2023-06-07T16:18:18.951Z"
   },
   {
    "duration": 5,
    "start_time": "2023-06-07T16:18:19.051Z"
   },
   {
    "duration": 12,
    "start_time": "2023-06-07T16:18:19.058Z"
   },
   {
    "duration": 5,
    "start_time": "2023-06-07T16:18:19.071Z"
   },
   {
    "duration": 6,
    "start_time": "2023-06-07T16:18:19.077Z"
   },
   {
    "duration": 10,
    "start_time": "2023-06-07T16:18:19.085Z"
   },
   {
    "duration": 5,
    "start_time": "2023-06-07T16:18:19.096Z"
   },
   {
    "duration": 40164,
    "start_time": "2023-06-07T16:18:19.103Z"
   },
   {
    "duration": 31,
    "start_time": "2023-06-07T16:18:59.268Z"
   },
   {
    "duration": 385,
    "start_time": "2023-06-07T16:18:59.301Z"
   },
   {
    "duration": 7,
    "start_time": "2023-06-07T16:18:59.688Z"
   },
   {
    "duration": 1758,
    "start_time": "2023-06-07T16:18:59.697Z"
   },
   {
    "duration": 96,
    "start_time": "2023-06-07T16:19:01.457Z"
   },
   {
    "duration": 19034,
    "start_time": "2023-06-07T16:19:01.556Z"
   },
   {
    "duration": 29,
    "start_time": "2023-06-07T16:19:20.592Z"
   },
   {
    "duration": 184,
    "start_time": "2023-06-07T16:19:20.623Z"
   },
   {
    "duration": 12,
    "start_time": "2023-06-07T16:19:20.808Z"
   },
   {
    "duration": 0,
    "start_time": "2023-06-07T16:19:20.822Z"
   },
   {
    "duration": 0,
    "start_time": "2023-06-07T16:19:20.823Z"
   },
   {
    "duration": 0,
    "start_time": "2023-06-07T16:19:20.824Z"
   },
   {
    "duration": 0,
    "start_time": "2023-06-07T16:19:20.825Z"
   },
   {
    "duration": 0,
    "start_time": "2023-06-07T16:19:20.849Z"
   },
   {
    "duration": 0,
    "start_time": "2023-06-07T16:19:20.851Z"
   },
   {
    "duration": 9,
    "start_time": "2023-06-07T16:19:52.384Z"
   },
   {
    "duration": 19,
    "start_time": "2023-06-07T16:19:56.036Z"
   },
   {
    "duration": 8,
    "start_time": "2023-06-07T16:20:00.960Z"
   },
   {
    "duration": 12,
    "start_time": "2023-06-07T16:20:32.840Z"
   },
   {
    "duration": 4,
    "start_time": "2023-06-07T16:20:57.171Z"
   },
   {
    "duration": 130,
    "start_time": "2023-06-07T16:21:00.040Z"
   },
   {
    "duration": 36,
    "start_time": "2023-06-07T16:21:08.737Z"
   }
  ],
  "kernelspec": {
   "display_name": "Python 3 (ipykernel)",
   "language": "python",
   "name": "python3"
  },
  "language_info": {
   "codemirror_mode": {
    "name": "ipython",
    "version": 3
   },
   "file_extension": ".py",
   "mimetype": "text/x-python",
   "name": "python",
   "nbconvert_exporter": "python",
   "pygments_lexer": "ipython3",
   "version": "3.9.5"
  },
  "toc": {
   "base_numbering": 1,
   "nav_menu": {},
   "number_sections": true,
   "sideBar": true,
   "skip_h1_title": true,
   "title_cell": "Содержание",
   "title_sidebar": "Contents",
   "toc_cell": true,
   "toc_position": {
    "height": "calc(100% - 180px)",
    "left": "10px",
    "top": "150px",
    "width": "202.038px"
   },
   "toc_section_display": true,
   "toc_window_display": true
  }
 },
 "nbformat": 4,
 "nbformat_minor": 2
}
